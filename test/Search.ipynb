{
 "cells": [
  {
   "cell_type": "code",
   "execution_count": 1,
   "id": "da0ab88e-5fae-430e-9d1f-50bb6c3dc576",
   "metadata": {
    "scrolled": true,
    "tags": []
   },
   "outputs": [],
   "source": [
    "import sys\n",
    "sys.path.append('..')\n",
    "from src.core.GameInstance import apply_react, reaction, GameInstance\n",
    "from src.core.GameState import Location, Aura, GameState, Box\n",
    "from src.game import activate, Game\n",
    "b1 = Box(['Diluc','Sucrose','Kaeya'],[])\n",
    "b2 = Box(['Diluc','Kaeya','Sucrose'],[])\n",
    "state = GameState(b1,b2)\n",
    "g = Game()\n",
    "g.initiate(state)"
   ]
  },
  {
   "cell_type": "code",
   "execution_count": 2,
   "id": "80992344-4aac-4820-901e-8a646fbd388b",
   "metadata": {
    "tags": []
   },
   "outputs": [],
   "source": [
    "from agent.alphabeta import Searcher"
   ]
  },
  {
   "cell_type": "code",
   "execution_count": 3,
   "id": "8cdc7e7a-98ea-48a7-9e7f-eb1428470da8",
   "metadata": {
    "tags": []
   },
   "outputs": [],
   "source": [
    "Master = Searcher(player = 1)\n",
    "Rival = Searcher(player = 2)"
   ]
  },
  {
   "cell_type": "code",
   "execution_count": 4,
   "id": "4d84ec23-a594-417a-82ad-b50f270c2ce0",
   "metadata": {
    "tags": []
   },
   "outputs": [
    {
     "name": "stdout",
     "output_type": "stream",
     "text": [
      "mover =  1\n",
      "scores =  [-1.0, 0.3999999999999986, -0.0, -0.0, -4.0]\n",
      "move =  UseKit(player_id=1, dice_pattern=DicePattern(pyro=1, cryo=0, hydro=0, electro=0, dendro=0, anemo=0, geo=0, black=2, white=0, omni=0), real_dice_pattern=DicePattern(pyro=1, cryo=0, hydro=0, electro=0, dendro=0, anemo=0, geo=0, black=2, white=0, omni=0), dice_instance=DiceInstance(omni=3, pyro=0, cryo=0, hydro=0, electro=0, dendro=0, anemo=0, geo=0), kit='na')\n",
      "depth = 10, total nodes = 8155, score = 0.3999999999999986\n",
      "hp distribution: \n",
      "p1 =  [10, 10, 10] \t\t p2 =  [8, 10, 10]\n",
      "p1 active =  0  p2 active =  0\n",
      "p1 end =  False p2 end =  False\n",
      "p1 aura =  [<Aura.empty: 0>, <Aura.empty: 0>, <Aura.empty: 0>]  p2 aura =  [<Aura.empty: 0>, <Aura.empty: 0>, <Aura.empty: 0>]\n",
      "\n",
      "mover =  2\n"
     ]
    },
    {
     "name": "stdin",
     "output_type": "stream",
     "text": [
      "your move: skill\n"
     ]
    },
    {
     "name": "stdout",
     "output_type": "stream",
     "text": [
      "hp distribution: \n",
      "p1 =  [7, 10, 10] \t\t p2 =  [8, 10, 10]\n",
      "p1 active =  0  p2 active =  0\n",
      "p1 end =  False p2 end =  False\n",
      "p1 aura =  [<Aura.pyro: 1>, <Aura.empty: 0>, <Aura.empty: 0>]  p2 aura =  [<Aura.empty: 0>, <Aura.empty: 0>, <Aura.empty: 0>]\n",
      "\n",
      "mover =  1\n",
      "scores =  [-1.5999999999999979, -1.5999999999999979, -2.0, -2.0, -4.0]\n",
      "move =  UseKit(player_id=1, dice_pattern=DicePattern(pyro=3, cryo=0, hydro=0, electro=0, dendro=0, anemo=0, geo=0, black=0, white=0, omni=0), real_dice_pattern=DicePattern(pyro=3, cryo=0, hydro=0, electro=0, dendro=0, anemo=0, geo=0, black=0, white=0, omni=0), dice_instance=DiceInstance(omni=3, pyro=0, cryo=0, hydro=0, electro=0, dendro=0, anemo=0, geo=0), kit='skill')\n",
      "depth = 10, total nodes = 8673, score = -1.5999999999999979\n",
      "hp distribution: \n",
      "p1 =  [7, 10, 10] \t\t p2 =  [5, 10, 10]\n",
      "p1 active =  0  p2 active =  0\n",
      "p1 end =  False p2 end =  False\n",
      "p1 aura =  [<Aura.pyro: 1>, <Aura.empty: 0>, <Aura.empty: 0>]  p2 aura =  [<Aura.pyro: 1>, <Aura.empty: 0>, <Aura.empty: 0>]\n",
      "\n",
      "mover =  2\n"
     ]
    },
    {
     "name": "stdin",
     "output_type": "stream",
     "text": [
      "your move: switch next\n"
     ]
    },
    {
     "name": "stdout",
     "output_type": "stream",
     "text": [
      "hp distribution: \n",
      "p1 =  [7, 10, 10] \t\t p2 =  [5, 10, 10]\n",
      "p1 active =  0  p2 active =  1\n",
      "p1 end =  False p2 end =  False\n",
      "p1 aura =  [<Aura.pyro: 1>, <Aura.empty: 0>, <Aura.empty: 0>]  p2 aura =  [<Aura.pyro: 1>, <Aura.empty: 0>, <Aura.empty: 0>]\n",
      "\n",
      "mover =  1\n",
      "scores =  [-2.8000000000000007, -2.0, 0.40000000000000213]\n",
      "move =  EndRound(player_id=1, dice_pattern=None, real_dice_pattern=None, dice_instance=None)\n",
      "depth = 10, total nodes = 9288, score = 0.40000000000000213\n",
      "hp distribution: \n",
      "p1 =  [7, 10, 10] \t\t p2 =  [5, 10, 10]\n",
      "p1 active =  0  p2 active =  1\n",
      "p1 end =  True p2 end =  False\n",
      "p1 aura =  [<Aura.pyro: 1>, <Aura.empty: 0>, <Aura.empty: 0>]  p2 aura =  [<Aura.pyro: 1>, <Aura.empty: 0>, <Aura.empty: 0>]\n",
      "\n",
      "mover =  2\n"
     ]
    },
    {
     "name": "stdin",
     "output_type": "stream",
     "text": [
      "your move: skill \n"
     ]
    },
    {
     "name": "stdout",
     "output_type": "stream",
     "text": [
      "hp distribution: \n",
      "p1 =  [2, 10, 10] \t\t p2 =  [5, 10, 10]\n",
      "p1 active =  0  p2 active =  1\n",
      "p1 end =  True p2 end =  False\n",
      "p1 aura =  [<Aura.empty: 0>, <Aura.empty: 0>, <Aura.empty: 0>]  p2 aura =  [<Aura.pyro: 1>, <Aura.empty: 0>, <Aura.empty: 0>]\n",
      "\n",
      "mover =  2\n"
     ]
    },
    {
     "name": "stdin",
     "output_type": "stream",
     "text": [
      "your move: end round\n"
     ]
    },
    {
     "name": "stdout",
     "output_type": "stream",
     "text": [
      "hp distribution: \n",
      "p1 =  [2, 10, 10] \t\t p2 =  [5, 10, 10]\n",
      "p1 active =  0  p2 active =  1\n",
      "p1 end =  False p2 end =  False\n",
      "p1 aura =  [<Aura.empty: 0>, <Aura.empty: 0>, <Aura.empty: 0>]  p2 aura =  [<Aura.pyro: 1>, <Aura.empty: 0>, <Aura.empty: 0>]\n",
      "\n",
      "mover =  1\n",
      "scores =  [-0.8000000000000007, -0.8000000000000007, -0.8000000000000007, -2.0, -6.0]\n",
      "move =  UseKit(player_id=1, dice_pattern=DicePattern(pyro=3, cryo=0, hydro=0, electro=0, dendro=0, anemo=0, geo=0, black=0, white=0, omni=0), real_dice_pattern=DicePattern(pyro=3, cryo=0, hydro=0, electro=0, dendro=0, anemo=0, geo=0, black=0, white=0, omni=0), dice_instance=DiceInstance(omni=3, pyro=0, cryo=0, hydro=0, electro=0, dendro=0, anemo=0, geo=0), kit='skill')\n",
      "depth = 9, total nodes = 8986, score = -0.8000000000000007\n",
      "hp distribution: \n",
      "p1 =  [2, 10, 10] \t\t p2 =  [5, 7, 10]\n",
      "p1 active =  0  p2 active =  1\n",
      "p1 end =  False p2 end =  False\n",
      "p1 aura =  [<Aura.empty: 0>, <Aura.empty: 0>, <Aura.empty: 0>]  p2 aura =  [<Aura.pyro: 1>, <Aura.pyro: 1>, <Aura.empty: 0>]\n",
      "\n",
      "mover =  2\n"
     ]
    },
    {
     "name": "stdin",
     "output_type": "stream",
     "text": [
      "your move: skill\n"
     ]
    },
    {
     "name": "stdout",
     "output_type": "stream",
     "text": [
      "hp distribution: \n",
      "p1 =  [0, 10, 10] \t\t p2 =  [5, 7, 10]\n",
      "p1 active =  1  p2 active =  1\n",
      "p1 end =  False p2 end =  False\n",
      "p1 aura =  [<Aura.died: 9>, <Aura.empty: 0>, <Aura.empty: 0>]  p2 aura =  [<Aura.pyro: 1>, <Aura.pyro: 1>, <Aura.empty: 0>]\n",
      "\n",
      "mover =  1\n",
      "scores =  [-0.5999999999999996, 0.1999999999999993, -1.1999999999999993, -1.1999999999999993, -3.1999999999999993]\n",
      "move =  UseKit(player_id=1, dice_pattern=DicePattern(pyro=0, cryo=0, hydro=0, electro=0, dendro=0, anemo=1, geo=0, black=2, white=0, omni=0), real_dice_pattern=DicePattern(pyro=0, cryo=0, hydro=0, electro=0, dendro=0, anemo=1, geo=0, black=2, white=0, omni=0), dice_instance=DiceInstance(omni=3, pyro=0, cryo=0, hydro=0, electro=0, dendro=0, anemo=0, geo=0), kit='na')\n",
      "depth = 10, total nodes = 8836, score = 0.1999999999999993\n",
      "hp distribution: \n",
      "p1 =  [0, 10, 10] \t\t p2 =  [4, 6, 9]\n",
      "p1 active =  1  p2 active =  1\n",
      "p1 end =  False p2 end =  False\n",
      "p1 aura =  [<Aura.died: 9>, <Aura.empty: 0>, <Aura.empty: 0>]  p2 aura =  [<Aura.pyro: 1>, <Aura.empty: 0>, <Aura.pyro: 1>]\n",
      "\n",
      "mover =  2\n"
     ]
    },
    {
     "name": "stdin",
     "output_type": "stream",
     "text": [
      "your move: burst\n"
     ]
    },
    {
     "name": "stdout",
     "output_type": "stream",
     "text": [
      "hp distribution: \n",
      "p1 =  [0, 9, 10] \t\t p2 =  [4, 6, 9]\n",
      "p1 active =  1  p2 active =  1\n",
      "p1 end =  False p2 end =  False\n",
      "p1 aura =  [<Aura.died: 9>, <Aura.cryo: 2>, <Aura.empty: 0>]  p2 aura =  [<Aura.pyro: 1>, <Aura.empty: 0>, <Aura.pyro: 1>]\n",
      "\n",
      "mover =  1\n",
      "scores =  [-4.999999999999999, -4.799999999999999, -3.1999999999999993]\n",
      "move =  EndRound(player_id=1, dice_pattern=None, real_dice_pattern=None, dice_instance=None)\n",
      "depth = 10, total nodes = 7693, score = -3.1999999999999993\n",
      "hp distribution: \n",
      "p1 =  [0, 9, 10] \t\t p2 =  [4, 6, 9]\n",
      "p1 active =  1  p2 active =  1\n",
      "p1 end =  True p2 end =  False\n",
      "p1 aura =  [<Aura.died: 9>, <Aura.cryo: 2>, <Aura.empty: 0>]  p2 aura =  [<Aura.pyro: 1>, <Aura.empty: 0>, <Aura.pyro: 1>]\n",
      "\n",
      "mover =  2\n"
     ]
    },
    {
     "name": "stdin",
     "output_type": "stream",
     "text": [
      "your move: end round\n"
     ]
    },
    {
     "name": "stdout",
     "output_type": "stream",
     "text": [
      "hp distribution: \n",
      "p1 =  [0, 9, 10] \t\t p2 =  [4, 6, 9]\n",
      "p1 active =  1  p2 active =  1\n",
      "p1 end =  False p2 end =  False\n",
      "p1 aura =  [<Aura.died: 9>, <Aura.cryo: 2>, <Aura.empty: 0>]  p2 aura =  [<Aura.pyro: 1>, <Aura.empty: 0>, <Aura.pyro: 1>]\n",
      "\n",
      "mover =  1\n",
      "scores =  [-7.8, -4.399999999999999, -3.1999999999999993, -3.1999999999999993, -7.199999999999999]\n",
      "move =  Switch(player_id=1, dice_pattern=DicePattern(pyro=0, cryo=0, hydro=0, electro=0, dendro=0, anemo=0, geo=0, black=0, white=0, omni=1), real_dice_pattern=DicePattern(pyro=0, cryo=0, hydro=0, electro=0, dendro=0, anemo=0, geo=0, black=0, white=0, omni=1), dice_instance=DiceInstance(omni=1, pyro=0, cryo=0, hydro=0, electro=0, dendro=0, anemo=0, geo=0), direction=1)\n",
      "depth = 9, total nodes = 8455, score = -3.1999999999999993\n",
      "hp distribution: \n",
      "p1 =  [0, 9, 10] \t\t p2 =  [4, 6, 9]\n",
      "p1 active =  2  p2 active =  1\n",
      "p1 end =  False p2 end =  False\n",
      "p1 aura =  [<Aura.died: 9>, <Aura.cryo: 2>, <Aura.empty: 0>]  p2 aura =  [<Aura.pyro: 1>, <Aura.empty: 0>, <Aura.pyro: 1>]\n",
      "\n",
      "mover =  2\n"
     ]
    },
    {
     "name": "stdin",
     "output_type": "stream",
     "text": [
      "your move: switch next\n"
     ]
    },
    {
     "name": "stdout",
     "output_type": "stream",
     "text": [
      "hp distribution: \n",
      "p1 =  [0, 9, 8] \t\t p2 =  [4, 6, 9]\n",
      "p1 active =  2  p2 active =  2\n",
      "p1 end =  False p2 end =  False\n",
      "p1 aura =  [<Aura.died: 9>, <Aura.cryo: 2>, <Aura.cryo: 2>]  p2 aura =  [<Aura.pyro: 1>, <Aura.empty: 0>, <Aura.pyro: 1>]\n",
      "\n",
      "mover =  1\n",
      "scores =  [-5.199999999999999, -4.399999999999999, -4.800000000000001, -4.800000000000001, -8.799999999999999]\n",
      "move =  UseKit(player_id=1, dice_pattern=DicePattern(pyro=0, cryo=1, hydro=0, electro=0, dendro=0, anemo=0, geo=0, black=2, white=0, omni=0), real_dice_pattern=DicePattern(pyro=0, cryo=1, hydro=0, electro=0, dendro=0, anemo=0, geo=0, black=2, white=0, omni=0), dice_instance=DiceInstance(omni=3, pyro=0, cryo=0, hydro=0, electro=0, dendro=0, anemo=0, geo=0), kit='na')\n",
      "depth = 10, total nodes = 7805, score = -4.399999999999999\n",
      "hp distribution: \n",
      "p1 =  [0, 9, 8] \t\t p2 =  [4, 6, 7]\n",
      "p1 active =  2  p2 active =  2\n",
      "p1 end =  False p2 end =  False\n",
      "p1 aura =  [<Aura.died: 9>, <Aura.cryo: 2>, <Aura.cryo: 2>]  p2 aura =  [<Aura.pyro: 1>, <Aura.empty: 0>, <Aura.pyro: 1>]\n",
      "\n",
      "mover =  2\n"
     ]
    },
    {
     "name": "stdin",
     "output_type": "stream",
     "text": [
      "your move: skill\n"
     ]
    },
    {
     "name": "stdout",
     "output_type": "stream",
     "text": [
      "hp distribution: \n",
      "p1 =  [0, 8, 5] \t\t p2 =  [4, 6, 7]\n",
      "p1 active =  1  p2 active =  2\n",
      "p1 end =  False p2 end =  False\n",
      "p1 aura =  [<Aura.died: 9>, <Aura.cryo: 2>, <Aura.empty: 0>]  p2 aura =  [<Aura.pyro: 1>, <Aura.empty: 0>, <Aura.pyro: 1>]\n",
      "\n",
      "mover =  1\n",
      "scores =  [-3.200000000000001, -3.200000000000001, -3.000000000000001, -3.000000000000001, -7.800000000000001]\n",
      "move =  Switch(player_id=1, dice_pattern=DicePattern(pyro=0, cryo=0, hydro=0, electro=0, dendro=0, anemo=0, geo=0, black=0, white=0, omni=1), real_dice_pattern=DicePattern(pyro=0, cryo=0, hydro=0, electro=0, dendro=0, anemo=0, geo=0, black=0, white=0, omni=1), dice_instance=DiceInstance(omni=1, pyro=0, cryo=0, hydro=0, electro=0, dendro=0, anemo=0, geo=0), direction=1)\n",
      "depth = 9, total nodes = 8007, score = -3.000000000000001\n",
      "hp distribution: \n",
      "p1 =  [0, 8, 5] \t\t p2 =  [4, 6, 7]\n",
      "p1 active =  2  p2 active =  2\n",
      "p1 end =  False p2 end =  False\n",
      "p1 aura =  [<Aura.died: 9>, <Aura.cryo: 2>, <Aura.empty: 0>]  p2 aura =  [<Aura.pyro: 1>, <Aura.empty: 0>, <Aura.pyro: 1>]\n",
      "\n",
      "mover =  2\n"
     ]
    },
    {
     "name": "stdin",
     "output_type": "stream",
     "text": [
      "your move: skill\n"
     ]
    },
    {
     "name": "stdout",
     "output_type": "stream",
     "text": [
      "hp distribution: \n",
      "p1 =  [0, 8, 2] \t\t p2 =  [4, 6, 7]\n",
      "p1 active =  1  p2 active =  2\n",
      "p1 end =  False p2 end =  False\n",
      "p1 aura =  [<Aura.died: 9>, <Aura.cryo: 2>, <Aura.empty: 0>]  p2 aura =  [<Aura.pyro: 1>, <Aura.empty: 0>, <Aura.pyro: 1>]\n",
      "\n",
      "mover =  1\n",
      "scores =  [-1000, -1000, -1000, -1000, -12.600000000000001]\n",
      "move =  EndRound(player_id=1, dice_pattern=None, real_dice_pattern=None, dice_instance=None)\n",
      "depth = 10, total nodes = 8420, score = -12.600000000000001\n",
      "hp distribution: \n",
      "p1 =  [0, 8, 2] \t\t p2 =  [4, 6, 7]\n",
      "p1 active =  1  p2 active =  2\n",
      "p1 end =  True p2 end =  False\n",
      "p1 aura =  [<Aura.died: 9>, <Aura.cryo: 2>, <Aura.empty: 0>]  p2 aura =  [<Aura.pyro: 1>, <Aura.empty: 0>, <Aura.pyro: 1>]\n",
      "\n",
      "mover =  2\n"
     ]
    },
    {
     "name": "stdin",
     "output_type": "stream",
     "text": [
      "your move: end round\n"
     ]
    },
    {
     "name": "stdout",
     "output_type": "stream",
     "text": [
      "hp distribution: \n",
      "p1 =  [0, 8, 2] \t\t p2 =  [4, 6, 7]\n",
      "p1 active =  1  p2 active =  2\n",
      "p1 end =  False p2 end =  False\n",
      "p1 aura =  [<Aura.died: 9>, <Aura.cryo: 2>, <Aura.empty: 0>]  p2 aura =  [<Aura.pyro: 1>, <Aura.empty: 0>, <Aura.pyro: 1>]\n",
      "\n",
      "mover =  1\n",
      "scores =  [-1000, -7.800000000000001, -9.2, -9.2, -13.2]\n",
      "move =  UseKit(player_id=1, dice_pattern=DicePattern(pyro=0, cryo=0, hydro=0, electro=0, dendro=0, anemo=1, geo=0, black=2, white=0, omni=0), real_dice_pattern=DicePattern(pyro=0, cryo=0, hydro=0, electro=0, dendro=0, anemo=1, geo=0, black=2, white=0, omni=0), dice_instance=DiceInstance(omni=3, pyro=0, cryo=0, hydro=0, electro=0, dendro=0, anemo=0, geo=0), kit='na')\n",
      "depth = 10, total nodes = 7798, score = -7.800000000000001\n",
      "hp distribution: \n",
      "p1 =  [0, 8, 2] \t\t p2 =  [3, 5, 6]\n",
      "p1 active =  1  p2 active =  2\n",
      "p1 end =  False p2 end =  False\n",
      "p1 aura =  [<Aura.died: 9>, <Aura.cryo: 2>, <Aura.empty: 0>]  p2 aura =  [<Aura.pyro: 1>, <Aura.pyro: 1>, <Aura.empty: 0>]\n",
      "\n",
      "mover =  2\n"
     ]
    },
    {
     "name": "stdin",
     "output_type": "stream",
     "text": [
      "your move: switch next\n"
     ]
    },
    {
     "name": "stdout",
     "output_type": "stream",
     "text": [
      "hp distribution: \n",
      "p1 =  [0, 6, 2] \t\t p2 =  [3, 5, 6]\n",
      "p1 active =  1  p2 active =  0\n",
      "p1 end =  False p2 end =  False\n",
      "p1 aura =  [<Aura.died: 9>, <Aura.cryo: 2>, <Aura.empty: 0>]  p2 aura =  [<Aura.pyro: 1>, <Aura.pyro: 1>, <Aura.empty: 0>]\n",
      "\n",
      "mover =  1\n",
      "scores =  [-1000, -7.400000000000002, -8.399999999999999, -8.399999999999999, -5.200000000000001, -10.399999999999999]\n",
      "move =  UseKit(player_id=1, dice_pattern=DicePattern(pyro=0, cryo=0, hydro=0, electro=0, dendro=0, anemo=3, geo=0, black=0, white=0, omni=0), real_dice_pattern=DicePattern(pyro=0, cryo=0, hydro=0, electro=0, dendro=0, anemo=3, geo=0, black=0, white=0, omni=0), dice_instance=DiceInstance(omni=3, pyro=0, cryo=0, hydro=0, electro=0, dendro=0, anemo=0, geo=0), kit='burst')\n",
      "depth = 11, total nodes = 7816, score = -5.200000000000001\n",
      "hp distribution: \n",
      "p1 =  [0, 6, 2] \t\t p2 =  [2, 4, 5]\n",
      "p1 active =  1  p2 active =  0\n",
      "p1 end =  False p2 end =  False\n",
      "p1 aura =  [<Aura.died: 9>, <Aura.cryo: 2>, <Aura.empty: 0>]  p2 aura =  [<Aura.empty: 0>, <Aura.pyro: 1>, <Aura.pyro: 1>]\n",
      "\n",
      "mover =  2\n"
     ]
    },
    {
     "name": "stdin",
     "output_type": "stream",
     "text": [
      "your move: skill\n"
     ]
    },
    {
     "name": "stdout",
     "output_type": "stream",
     "text": [
      "hp distribution: \n",
      "p1 =  [0, 1, 2] \t\t p2 =  [2, 4, 5]\n",
      "p1 active =  1  p2 active =  0\n",
      "p1 end =  False p2 end =  False\n",
      "p1 aura =  [<Aura.died: 9>, <Aura.empty: 0>, <Aura.empty: 0>]  p2 aura =  [<Aura.empty: 0>, <Aura.pyro: 1>, <Aura.pyro: 1>]\n",
      "\n",
      "mover =  1\n",
      "scores =  [-1000, -7.6, -7.6]\n",
      "move =  Switch(player_id=1, dice_pattern=DicePattern(pyro=0, cryo=0, hydro=0, electro=0, dendro=0, anemo=0, geo=0, black=0, white=0, omni=1), real_dice_pattern=DicePattern(pyro=0, cryo=0, hydro=0, electro=0, dendro=0, anemo=0, geo=0, black=0, white=0, omni=1), dice_instance=DiceInstance(omni=1, pyro=0, cryo=0, hydro=0, electro=0, dendro=0, anemo=0, geo=0), direction=-1)\n",
      "depth = 61, total nodes = 5952, score = -7.6\n",
      "hp distribution: \n",
      "p1 =  [0, 1, 2] \t\t p2 =  [2, 4, 5]\n",
      "p1 active =  2  p2 active =  0\n",
      "p1 end =  False p2 end =  False\n",
      "p1 aura =  [<Aura.died: 9>, <Aura.empty: 0>, <Aura.empty: 0>]  p2 aura =  [<Aura.empty: 0>, <Aura.pyro: 1>, <Aura.pyro: 1>]\n",
      "\n",
      "mover =  2\n"
     ]
    },
    {
     "name": "stdin",
     "output_type": "stream",
     "text": [
      "your move: switch next\n"
     ]
    },
    {
     "name": "stdout",
     "output_type": "stream",
     "text": [
      "hp distribution: \n",
      "p1 =  [0, 1, 0] \t\t p2 =  [2, 4, 5]\n",
      "p1 active =  1  p2 active =  1\n",
      "p1 end =  False p2 end =  False\n",
      "p1 aura =  [<Aura.died: 9>, <Aura.empty: 0>, <Aura.died: 9>]  p2 aura =  [<Aura.empty: 0>, <Aura.pyro: 1>, <Aura.pyro: 1>]\n",
      "\n",
      "mover =  1\n",
      "scores =  [-1000]\n",
      "move =  EndRound(player_id=1, dice_pattern=None, real_dice_pattern=None, dice_instance=None)\n",
      "depth = 99, total nodes = 3083, score = -1000\n",
      "hp distribution: \n",
      "p1 =  [0, 1, 0] \t\t p2 =  [2, 4, 5]\n",
      "p1 active =  1  p2 active =  1\n",
      "p1 end =  True p2 end =  False\n",
      "p1 aura =  [<Aura.died: 9>, <Aura.empty: 0>, <Aura.died: 9>]  p2 aura =  [<Aura.empty: 0>, <Aura.pyro: 1>, <Aura.pyro: 1>]\n",
      "\n",
      "mover =  2\n"
     ]
    },
    {
     "name": "stdin",
     "output_type": "stream",
     "text": [
      "your move: end round\n"
     ]
    },
    {
     "name": "stdout",
     "output_type": "stream",
     "text": [
      "hp distribution: \n",
      "p1 =  [0, 0, 0] \t\t p2 =  [2, 4, 5]\n",
      "p1 active =  1  p2 active =  1\n",
      "p1 end =  False p2 end =  False\n",
      "p1 aura =  [<Aura.died: 9>, <Aura.died: 9>, <Aura.died: 9>]  p2 aura =  [<Aura.empty: 0>, <Aura.pyro: 1>, <Aura.pyro: 1>]\n",
      "\n"
     ]
    }
   ],
   "source": [
    "while not g.terminated():\n",
    "    player = g.mover\n",
    "    print(\"mover = \", g.mover)\n",
    "    if g.mover == 1:\n",
    "        m, s, d = Master.search(5, g)\n",
    "        #m, s, d = Rival.search(5, g)\n",
    "        #m = g.getIns(1, 'switch next')\n",
    "        g.proceed(m,False, Master.callback)\n",
    "        nodes = Master.nodes\n",
    "        print(\"move = \", m)\n",
    "        print(\"depth = {}, total nodes = {}, score = {}\".format(d,nodes,s))\n",
    "    elif g.mover == 2:\n",
    "        m = input(\"your move:\")\n",
    "        m = g.getIns(2, m)\n",
    "        #m, s, d = Rival.search(5, g)\n",
    "        g.proceed(m,False, Rival.callback)\n",
    "        #print(\"move = \",m)\n",
    "        #nodes = Rival.nodes\n",
    "    else:\n",
    "        print(\"mover = \", g.mover)\n",
    "        break\n",
    "    #print(\"player {} makes a move {}\".format(player, m))\n",
    "    print(\"hp distribution: \")\n",
    "    print(\"p1 = \",[c.hp for c in g.g.p1.char],'\\t\\t','p2 = ', [c.hp for c in g.g.p2.char] )\n",
    "    print(\"p1 active = \",g.g.p1.history['active'], ' p2 active = ', g.g.p2.history['active'])\n",
    "    print(\"p1 end = \",g.g.p1.history['endround'], 'p2 end = ',g.g.p2.history['endround'])\n",
    "    print(\"p1 aura = \", g.g.p1.getAura(), ' p2 aura = ', g.g.p2.getAura())\n",
    "    print()"
   ]
  },
  {
   "cell_type": "code",
   "execution_count": 7,
   "id": "3835a037-8215-4bad-ae84-523bd0a45965",
   "metadata": {},
   "outputs": [
    {
     "data": {
      "text/plain": [
       "-4"
      ]
     },
     "execution_count": 7,
     "metadata": {},
     "output_type": "execute_result"
    }
   ],
   "source": [
    "g.g.p1.buff[0].usage"
   ]
  },
  {
   "cell_type": "code",
   "execution_count": 6,
   "id": "f8f50cae-63e8-42fe-90c4-e6a15d0f7774",
   "metadata": {
    "tags": []
   },
   "outputs": [
    {
     "data": {
      "text/plain": [
       "1"
      ]
     },
     "execution_count": 6,
     "metadata": {},
     "output_type": "execute_result"
    }
   ],
   "source": [
    "g.mover"
   ]
  },
  {
   "cell_type": "code",
   "execution_count": 7,
   "id": "400bdfc5-0b82-4afb-ae94-1953c3e9ca7b",
   "metadata": {
    "tags": []
   },
   "outputs": [
    {
     "data": {
      "text/plain": [
       "1000"
      ]
     },
     "execution_count": 7,
     "metadata": {},
     "output_type": "execute_result"
    }
   ],
   "source": [
    "Master.val(g)"
   ]
  },
  {
   "cell_type": "code",
   "execution_count": null,
   "id": "0654ffb5-70e7-49e8-aa97-2feb1536c1e5",
   "metadata": {},
   "outputs": [],
   "source": []
  }
 ],
 "metadata": {
  "kernelspec": {
   "display_name": "Python 3 (ipykernel)",
   "language": "python",
   "name": "python3"
  },
  "language_info": {
   "codemirror_mode": {
    "name": "ipython",
    "version": 3
   },
   "file_extension": ".py",
   "mimetype": "text/x-python",
   "name": "python",
   "nbconvert_exporter": "python",
   "pygments_lexer": "ipython3",
   "version": "3.8.8"
  }
 },
 "nbformat": 4,
 "nbformat_minor": 5
}
