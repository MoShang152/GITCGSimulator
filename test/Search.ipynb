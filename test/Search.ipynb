{
 "cells": [
  {
   "cell_type": "code",
   "execution_count": 1,
   "id": "da0ab88e-5fae-430e-9d1f-50bb6c3dc576",
   "metadata": {
    "scrolled": true,
    "tags": []
   },
   "outputs": [],
   "source": [
    "import sys\n",
    "sys.path.append('..')\n",
    "from src.core.GameInstance import apply_react, reaction, GameInstance\n",
    "from src.core.GameState import Location, Aura, GameState, Box\n",
    "from src.game import activate, Game, fake_callback\n",
    "b1 = Box(['Fischl','Ayaka','Sucrose'],[])\n",
    "b2 = Box(['Diluc','Kaeya','Sucrose'],[])\n",
    "state = GameState(b1,b2)\n",
    "g = Game(state)\n",
    "g.initiate(0, 0, fake_callback)"
   ]
  },
  {
   "cell_type": "code",
   "execution_count": 2,
   "id": "80992344-4aac-4820-901e-8a646fbd388b",
   "metadata": {
    "tags": []
   },
   "outputs": [],
   "source": [
    "from agent.alphabeta import Searcher\n",
    "from src.core.Event import Event, Death, Switch"
   ]
  },
  {
   "cell_type": "code",
   "execution_count": 3,
   "id": "8cdc7e7a-98ea-48a7-9e7f-eb1428470da8",
   "metadata": {
    "tags": []
   },
   "outputs": [],
   "source": [
    "def input_callback(g, event, *args):\n",
    "    print(\"yes i am here\")\n",
    "    if isinstance(event, Death) and g.history['phase'] == 'deathswitch':\n",
    "        active = g.getactive(event.player_id)\n",
    "        direct = int(input('your switch(1 for next, -1 for previous):'))\n",
    "        return Switch(g.nexteid(), event.eid, event.player_id, active, direct)\n",
    "    else:\n",
    "        return Event(-1,-1,-1)"
   ]
  },
  {
   "cell_type": "code",
   "execution_count": 4,
   "id": "4d84ec23-a594-417a-82ad-b50f270c2ce0",
   "metadata": {
    "tags": []
   },
   "outputs": [
    {
     "name": "stdin",
     "output_type": "stream",
     "text": [
      "your player_id is: 2\n"
     ]
    },
    {
     "name": "stdout",
     "output_type": "stream",
     "text": [
      "mover =  1\n",
      "scores =  [-5, -5, -5, -5, -5]\n",
      "move =  UseKit(player_id=1, dice_pattern=DicePattern(pyro=0, cryo=0, hydro=0, electro=3, dendro=0, anemo=0, geo=0, black=0, white=0, omni=0), real_dice_pattern=DicePattern(pyro=0, cryo=0, hydro=0, electro=3, dendro=0, anemo=0, geo=0, black=0, white=0, omni=0), dice_instance=DiceInstance(omni=3, pyro=0, cryo=0, hydro=0, electro=0, dendro=0, anemo=0, geo=0), kit='skill')\n",
      "depth = 9, total nodes = 11862, score = -5\n",
      "hp distribution: \n",
      "p1 =  [10, 10, 10] \t\t p2 =  [9, 10, 10]\n",
      "p1 active =  0  p2 active =  0\n",
      "p1 end =  False p2 end =  False\n",
      "p1 aura =  [<Aura.empty: 0>, <Aura.empty: 0>, <Aura.empty: 0>]  p2 aura =  [<Aura.electro: 3>, <Aura.empty: 0>, <Aura.empty: 0>]\n",
      "\n",
      "mover =  2\n"
     ]
    },
    {
     "name": "stdin",
     "output_type": "stream",
     "text": [
      "your move: skill\n"
     ]
    },
    {
     "name": "stdout",
     "output_type": "stream",
     "text": [
      "hp distribution: \n",
      "p1 =  [7, 10, 10] \t\t p2 =  [9, 10, 10]\n",
      "p1 active =  0  p2 active =  0\n",
      "p1 end =  False p2 end =  False\n",
      "p1 aura =  [<Aura.pyro: 1>, <Aura.empty: 0>, <Aura.empty: 0>]  p2 aura =  [<Aura.electro: 3>, <Aura.empty: 0>, <Aura.empty: 0>]\n",
      "\n",
      "mover =  1\n",
      "scores =  [-31, -21, 8, 8, 8]\n",
      "move =  Switch(player_id=1, dice_pattern=DicePattern(pyro=0, cryo=0, hydro=0, electro=0, dendro=0, anemo=0, geo=0, black=0, white=0, omni=1), real_dice_pattern=DicePattern(pyro=0, cryo=0, hydro=0, electro=0, dendro=0, anemo=0, geo=0, black=0, white=0, omni=1), dice_instance=DiceInstance(omni=1, pyro=0, cryo=0, hydro=0, electro=0, dendro=0, anemo=0, geo=0), direction=1)\n",
      "depth = 9, total nodes = 9117, score = 8\n",
      "hp distribution: \n",
      "p1 =  [7, 10, 10] \t\t p2 =  [9, 10, 10]\n",
      "p1 active =  1  p2 active =  0\n",
      "p1 end =  False p2 end =  False\n",
      "p1 aura =  [<Aura.pyro: 1>, <Aura.empty: 0>, <Aura.empty: 0>]  p2 aura =  [<Aura.electro: 3>, <Aura.empty: 0>, <Aura.empty: 0>]\n",
      "\n",
      "mover =  2\n"
     ]
    },
    {
     "name": "stdin",
     "output_type": "stream",
     "text": [
      "your move: switch next\n"
     ]
    },
    {
     "name": "stdout",
     "output_type": "stream",
     "text": [
      "hp distribution: \n",
      "p1 =  [7, 10, 10] \t\t p2 =  [9, 10, 10]\n",
      "p1 active =  1  p2 active =  1\n",
      "p1 end =  False p2 end =  False\n",
      "p1 aura =  [<Aura.pyro: 1>, <Aura.empty: 0>, <Aura.empty: 0>]  p2 aura =  [<Aura.electro: 3>, <Aura.empty: 0>, <Aura.empty: 0>]\n",
      "\n",
      "mover =  1\n",
      "scores =  [2, 2, 2, 2, 2]\n",
      "move =  UseKit(player_id=1, dice_pattern=DicePattern(pyro=0, cryo=3, hydro=0, electro=0, dendro=0, anemo=0, geo=0, black=0, white=0, omni=0), real_dice_pattern=DicePattern(pyro=0, cryo=3, hydro=0, electro=0, dendro=0, anemo=0, geo=0, black=0, white=0, omni=0), dice_instance=DiceInstance(omni=3, pyro=0, cryo=0, hydro=0, electro=0, dendro=0, anemo=0, geo=0), kit='skill')\n",
      "depth = 11, total nodes = 18122, score = 2\n",
      "hp distribution: \n",
      "p1 =  [7, 10, 10] \t\t p2 =  [9, 7, 10]\n",
      "p1 active =  1  p2 active =  1\n",
      "p1 end =  False p2 end =  False\n",
      "p1 aura =  [<Aura.pyro: 1>, <Aura.empty: 0>, <Aura.empty: 0>]  p2 aura =  [<Aura.electro: 3>, <Aura.cryo: 2>, <Aura.empty: 0>]\n",
      "\n",
      "mover =  2\n"
     ]
    },
    {
     "name": "stdin",
     "output_type": "stream",
     "text": [
      "your move: skill\n"
     ]
    },
    {
     "name": "stdout",
     "output_type": "stream",
     "text": [
      "hp distribution: \n",
      "p1 =  [7, 7, 10] \t\t p2 =  [9, 7, 10]\n",
      "p1 active =  1  p2 active =  1\n",
      "p1 end =  False p2 end =  False\n",
      "p1 aura =  [<Aura.pyro: 1>, <Aura.cryo: 2>, <Aura.empty: 0>]  p2 aura =  [<Aura.electro: 3>, <Aura.cryo: 2>, <Aura.empty: 0>]\n",
      "\n",
      "mover =  1\n",
      "scores =  [0, 0, 2]\n",
      "move =  EndRound(player_id=1, dice_pattern=None, real_dice_pattern=None, dice_instance=None)\n",
      "depth = 11, total nodes = 23741, score = 2\n",
      "hp distribution: \n",
      "p1 =  [7, 7, 10] \t\t p2 =  [9, 7, 10]\n",
      "p1 active =  1  p2 active =  1\n",
      "p1 end =  True p2 end =  False\n",
      "p1 aura =  [<Aura.pyro: 1>, <Aura.cryo: 2>, <Aura.empty: 0>]  p2 aura =  [<Aura.electro: 3>, <Aura.cryo: 2>, <Aura.empty: 0>]\n",
      "\n",
      "mover =  2\n"
     ]
    },
    {
     "name": "stdin",
     "output_type": "stream",
     "text": [
      "your move: end \n"
     ]
    },
    {
     "name": "stdout",
     "output_type": "stream",
     "text": [
      "hp distribution: \n",
      "p1 =  [7, 7, 10] \t\t p2 =  [8, 5, 9]\n",
      "p1 active =  1  p2 active =  1\n",
      "p1 end =  False p2 end =  False\n",
      "p1 aura =  [<Aura.pyro: 1>, <Aura.cryo: 2>, <Aura.empty: 0>]  p2 aura =  [<Aura.electro: 3>, <Aura.empty: 0>, <Aura.empty: 0>]\n",
      "\n",
      "mover =  1\n",
      "scores =  [15, 15, 15, 15, 15]\n",
      "move =  UseKit(player_id=1, dice_pattern=DicePattern(pyro=0, cryo=3, hydro=0, electro=0, dendro=0, anemo=0, geo=0, black=0, white=0, omni=0), real_dice_pattern=DicePattern(pyro=0, cryo=3, hydro=0, electro=0, dendro=0, anemo=0, geo=0, black=0, white=0, omni=0), dice_instance=DiceInstance(omni=3, pyro=0, cryo=0, hydro=0, electro=0, dendro=0, anemo=0, geo=0), kit='skill')\n",
      "depth = 9, total nodes = 9784, score = 15\n",
      "hp distribution: \n",
      "p1 =  [7, 7, 10] \t\t p2 =  [8, 2, 9]\n",
      "p1 active =  1  p2 active =  1\n",
      "p1 end =  False p2 end =  False\n",
      "p1 aura =  [<Aura.pyro: 1>, <Aura.cryo: 2>, <Aura.empty: 0>]  p2 aura =  [<Aura.electro: 3>, <Aura.cryo: 2>, <Aura.empty: 0>]\n",
      "\n",
      "mover =  2\n"
     ]
    },
    {
     "name": "stdin",
     "output_type": "stream",
     "text": [
      "your move: skill\n"
     ]
    },
    {
     "name": "stdout",
     "output_type": "stream",
     "text": [
      "hp distribution: \n",
      "p1 =  [7, 4, 10] \t\t p2 =  [8, 2, 9]\n",
      "p1 active =  1  p2 active =  1\n",
      "p1 end =  False p2 end =  False\n",
      "p1 aura =  [<Aura.pyro: 1>, <Aura.cryo: 2>, <Aura.empty: 0>]  p2 aura =  [<Aura.electro: 3>, <Aura.cryo: 2>, <Aura.empty: 0>]\n",
      "\n",
      "mover =  1\n",
      "scores =  [-2, 7, 13, 13, 13]\n",
      "move =  Switch(player_id=1, dice_pattern=DicePattern(pyro=0, cryo=0, hydro=0, electro=0, dendro=0, anemo=0, geo=0, black=0, white=0, omni=1), real_dice_pattern=DicePattern(pyro=0, cryo=0, hydro=0, electro=0, dendro=0, anemo=0, geo=0, black=0, white=0, omni=1), dice_instance=DiceInstance(omni=1, pyro=0, cryo=0, hydro=0, electro=0, dendro=0, anemo=0, geo=0), direction=1)\n",
      "depth = 9, total nodes = 8636, score = 13\n",
      "hp distribution: \n",
      "p1 =  [7, 4, 10] \t\t p2 =  [8, 2, 9]\n",
      "p1 active =  2  p2 active =  1\n",
      "p1 end =  False p2 end =  False\n",
      "p1 aura =  [<Aura.pyro: 1>, <Aura.cryo: 2>, <Aura.empty: 0>]  p2 aura =  [<Aura.electro: 3>, <Aura.cryo: 2>, <Aura.empty: 0>]\n",
      "\n",
      "mover =  2\n"
     ]
    },
    {
     "name": "stdin",
     "output_type": "stream",
     "text": [
      "your move: burst\n"
     ]
    },
    {
     "name": "stdout",
     "output_type": "stream",
     "text": [
      "hp distribution: \n",
      "p1 =  [7, 4, 9] \t\t p2 =  [8, 2, 9]\n",
      "p1 active =  2  p2 active =  1\n",
      "p1 end =  False p2 end =  False\n",
      "p1 aura =  [<Aura.pyro: 1>, <Aura.cryo: 2>, <Aura.cryo: 2>]  p2 aura =  [<Aura.electro: 3>, <Aura.cryo: 2>, <Aura.empty: 0>]\n",
      "\n",
      "mover =  1\n",
      "scores =  [10, 10, 10, 10, 10]\n",
      "move =  UseKit(player_id=1, dice_pattern=DicePattern(pyro=0, cryo=0, hydro=0, electro=0, dendro=0, anemo=3, geo=0, black=0, white=0, omni=0), real_dice_pattern=DicePattern(pyro=0, cryo=0, hydro=0, electro=0, dendro=0, anemo=3, geo=0, black=0, white=0, omni=0), dice_instance=DiceInstance(omni=3, pyro=0, cryo=0, hydro=0, electro=0, dendro=0, anemo=0, geo=0), kit='skill')\n",
      "depth = 9, total nodes = 9376, score = 10\n",
      "hp distribution: \n",
      "p1 =  [7, 4, 7] \t\t p2 =  [6, 0, 7]\n",
      "p1 active =  2  p2 active =  0\n",
      "p1 end =  False p2 end =  False\n",
      "p1 aura =  [<Aura.pyro: 1>, <Aura.cryo: 2>, <Aura.cryo: 2>]  p2 aura =  [<Aura.empty: 0>, <Aura.died: 9>, <Aura.cryo: 2>]\n",
      "\n",
      "mover =  2\n"
     ]
    },
    {
     "name": "stdin",
     "output_type": "stream",
     "text": [
      "your move: end \n"
     ]
    },
    {
     "name": "stdout",
     "output_type": "stream",
     "text": [
      "hp distribution: \n",
      "p1 =  [7, 4, 7] \t\t p2 =  [6, 0, 7]\n",
      "p1 active =  2  p2 active =  0\n",
      "p1 end =  False p2 end =  True\n",
      "p1 aura =  [<Aura.pyro: 1>, <Aura.cryo: 2>, <Aura.cryo: 2>]  p2 aura =  [<Aura.empty: 0>, <Aura.died: 9>, <Aura.cryo: 2>]\n",
      "\n",
      "mover =  1\n",
      "scores =  [21, 23, 23]\n",
      "move =  Switch(player_id=1, dice_pattern=DicePattern(pyro=0, cryo=0, hydro=0, electro=0, dendro=0, anemo=0, geo=0, black=0, white=0, omni=1), real_dice_pattern=DicePattern(pyro=0, cryo=0, hydro=0, electro=0, dendro=0, anemo=0, geo=0, black=0, white=0, omni=1), dice_instance=DiceInstance(omni=1, pyro=0, cryo=0, hydro=0, electro=0, dendro=0, anemo=0, geo=0), direction=-1)\n",
      "depth = 9, total nodes = 11881, score = 23\n",
      "hp distribution: \n",
      "p1 =  [7, 4, 7] \t\t p2 =  [6, 0, 7]\n",
      "p1 active =  1  p2 active =  0\n",
      "p1 end =  False p2 end =  True\n",
      "p1 aura =  [<Aura.pyro: 1>, <Aura.cryo: 2>, <Aura.cryo: 2>]  p2 aura =  [<Aura.empty: 0>, <Aura.died: 9>, <Aura.cryo: 2>]\n",
      "\n",
      "mover =  1\n",
      "scores =  [-4]\n",
      "move =  EndRound(player_id=1, dice_pattern=None, real_dice_pattern=None, dice_instance=None)\n",
      "depth = 10, total nodes = 8988, score = -4\n",
      "hp distribution: \n",
      "p1 =  [7, 4, 7] \t\t p2 =  [5, 0, 7]\n",
      "p1 active =  1  p2 active =  0\n",
      "p1 end =  False p2 end =  False\n",
      "p1 aura =  [<Aura.pyro: 1>, <Aura.cryo: 2>, <Aura.cryo: 2>]  p2 aura =  [<Aura.electro: 3>, <Aura.died: 9>, <Aura.cryo: 2>]\n",
      "\n",
      "mover =  2\n"
     ]
    },
    {
     "name": "stdin",
     "output_type": "stream",
     "text": [
      "your move: skill\n"
     ]
    },
    {
     "name": "stdout",
     "output_type": "stream",
     "text": [
      "hp distribution: \n",
      "p1 =  [7, 0, 7] \t\t p2 =  [5, 0, 7]\n",
      "p1 active =  2  p2 active =  0\n",
      "p1 end =  False p2 end =  False\n",
      "p1 aura =  [<Aura.pyro: 1>, <Aura.died: 9>, <Aura.cryo: 2>]  p2 aura =  [<Aura.electro: 3>, <Aura.died: 9>, <Aura.cryo: 2>]\n",
      "\n",
      "mover =  1\n",
      "scores =  [1000, 1000, 1000, 1000]\n",
      "move =  UseKit(player_id=1, dice_pattern=DicePattern(pyro=0, cryo=0, hydro=0, electro=0, dendro=0, anemo=3, geo=0, black=0, white=0, omni=0), real_dice_pattern=DicePattern(pyro=0, cryo=0, hydro=0, electro=0, dendro=0, anemo=3, geo=0, black=0, white=0, omni=0), dice_instance=DiceInstance(omni=3, pyro=0, cryo=0, hydro=0, electro=0, dendro=0, anemo=0, geo=0), kit='skill')\n",
      "depth = 12, total nodes = 10211, score = 1000\n",
      "hp distribution: \n",
      "p1 =  [7, 0, 5] \t\t p2 =  [1, 0, 5]\n",
      "p1 active =  2  p2 active =  2\n",
      "p1 end =  False p2 end =  False\n",
      "p1 aura =  [<Aura.pyro: 1>, <Aura.died: 9>, <Aura.cryo: 2>]  p2 aura =  [<Aura.empty: 0>, <Aura.died: 9>, <Aura.empty: 0>]\n",
      "\n",
      "mover =  2\n"
     ]
    },
    {
     "name": "stdin",
     "output_type": "stream",
     "text": [
      "your move: skill\n"
     ]
    },
    {
     "name": "stdout",
     "output_type": "stream",
     "text": [
      "hp distribution: \n",
      "p1 =  [4, 0, 2] \t\t p2 =  [1, 0, 5]\n",
      "p1 active =  0  p2 active =  2\n",
      "p1 end =  False p2 end =  False\n",
      "p1 aura =  [<Aura.empty: 0>, <Aura.died: 9>, <Aura.empty: 0>]  p2 aura =  [<Aura.empty: 0>, <Aura.died: 9>, <Aura.empty: 0>]\n",
      "\n",
      "mover =  1\n",
      "scores =  [1000, 1000, 1000, 1000]\n",
      "move =  UseKit(player_id=1, dice_pattern=DicePattern(pyro=0, cryo=0, hydro=0, electro=3, dendro=0, anemo=0, geo=0, black=0, white=0, omni=0), real_dice_pattern=DicePattern(pyro=0, cryo=0, hydro=0, electro=3, dendro=0, anemo=0, geo=0, black=0, white=0, omni=0), dice_instance=DiceInstance(omni=3, pyro=0, cryo=0, hydro=0, electro=0, dendro=0, anemo=0, geo=0), kit='skill')\n",
      "depth = 18, total nodes = 8307, score = 1000\n",
      "hp distribution: \n",
      "p1 =  [4, 0, 2] \t\t p2 =  [1, 0, 4]\n",
      "p1 active =  0  p2 active =  2\n",
      "p1 end =  False p2 end =  False\n",
      "p1 aura =  [<Aura.empty: 0>, <Aura.died: 9>, <Aura.empty: 0>]  p2 aura =  [<Aura.empty: 0>, <Aura.died: 9>, <Aura.electro: 3>]\n",
      "\n",
      "mover =  2\n"
     ]
    },
    {
     "name": "stdin",
     "output_type": "stream",
     "text": [
      "your move: switch previous\n"
     ]
    },
    {
     "ename": "AttributeError",
     "evalue": "'NoneType' object has no attribute 'player_id'",
     "output_type": "error",
     "traceback": [
      "\u001b[1;31m---------------------------------------------------------------------------\u001b[0m",
      "\u001b[1;31mAttributeError\u001b[0m                            Traceback (most recent call last)",
      "Input \u001b[1;32mIn [4]\u001b[0m, in \u001b[0;36m<module>\u001b[1;34m\u001b[0m\n\u001b[0;32m     21\u001b[0m     m \u001b[38;5;241m=\u001b[39m g\u001b[38;5;241m.\u001b[39mgetIns(player, m)\n\u001b[0;32m     22\u001b[0m     \u001b[38;5;66;03m#m, s, d = Rival.search(5, g)\u001b[39;00m\n\u001b[1;32m---> 23\u001b[0m     \u001b[43mg\u001b[49m\u001b[38;5;241;43m.\u001b[39;49m\u001b[43mproceed\u001b[49m\u001b[43m(\u001b[49m\u001b[43mm\u001b[49m\u001b[43m,\u001b[49m\u001b[38;5;28;43;01mFalse\u001b[39;49;00m\u001b[43m,\u001b[49m\u001b[43m \u001b[49m\u001b[43mcallback\u001b[49m\u001b[43m)\u001b[49m\n\u001b[0;32m     24\u001b[0m     \u001b[38;5;66;03m#print(\"move = \",m)\u001b[39;00m\n\u001b[0;32m     25\u001b[0m     \u001b[38;5;66;03m#nodes = Rival.nodes\u001b[39;00m\n\u001b[0;32m     26\u001b[0m \u001b[38;5;28;01melse\u001b[39;00m:\n\u001b[0;32m     27\u001b[0m     \u001b[38;5;28mprint\u001b[39m(\u001b[38;5;124m\"\u001b[39m\u001b[38;5;124mmover = \u001b[39m\u001b[38;5;124m\"\u001b[39m, g\u001b[38;5;241m.\u001b[39mmover)\n",
      "File \u001b[1;32mD:\\Myproject\\Game\\TCGSIM\\GITCGSimulator\\src\\game.py:72\u001b[0m, in \u001b[0;36mGame.proceed\u001b[1;34m(self, ins, new_game, callback)\u001b[0m\n\u001b[0;32m     71\u001b[0m \u001b[38;5;28;01mdef\u001b[39;00m \u001b[38;5;21mproceed\u001b[39m(\u001b[38;5;28mself\u001b[39m, ins:Instruction, new_game, callback):\n\u001b[1;32m---> 72\u001b[0m     \u001b[38;5;28;01mif\u001b[39;00m \u001b[43mins\u001b[49m\u001b[38;5;241;43m.\u001b[39;49m\u001b[43mplayer_id\u001b[49m \u001b[38;5;241m!=\u001b[39m \u001b[38;5;28mself\u001b[39m\u001b[38;5;241m.\u001b[39mmover:\n\u001b[0;32m     73\u001b[0m         \u001b[38;5;28;01mraise\u001b[39;00m \u001b[38;5;167;01mValueError\u001b[39;00m(\u001b[38;5;124m\"\u001b[39m\u001b[38;5;124mNow it\u001b[39m\u001b[38;5;124m'\u001b[39m\u001b[38;5;124ms not your turn!\u001b[39m\u001b[38;5;124m\"\u001b[39m)\n\u001b[0;32m     74\u001b[0m     \u001b[38;5;28;01mif\u001b[39;00m new_game:\n",
      "\u001b[1;31mAttributeError\u001b[0m: 'NoneType' object has no attribute 'player_id'"
     ]
    }
   ],
   "source": [
    "player = int(input('your player_id is:'))\n",
    "Master = Searcher(3 - player)\n",
    "def callback(g, event, *args):\n",
    "    if event.player_id == player:\n",
    "        return input_callback(g,event,*args)\n",
    "    else:\n",
    "        return Master.callback(g,event,*args)\n",
    "while not g.terminated():\n",
    "    #player = 1\n",
    "    print(\"mover = \", g.mover)\n",
    "    if g.mover != player:\n",
    "        m, s, d = Master.search(5, g)\n",
    "        #m, s, d = Rival.search(5, g)\n",
    "        #m = g.getIns(1, 'switch next')\n",
    "        print(\"move = \", m)\n",
    "        g.proceed(m,False, callback)\n",
    "        nodes = Master.nodes\n",
    "        print(\"depth = {}, total nodes = {}, score = {}\".format(d,nodes,s))\n",
    "    elif g.mover == player:\n",
    "        m = input(\"your move:\")\n",
    "        m = g.getIns(player, m)\n",
    "        #m, s, d = Rival.search(5, g)\n",
    "        g.proceed(m,False, callback)\n",
    "        #print(\"move = \",m)\n",
    "        #nodes = Rival.nodes\n",
    "    else:\n",
    "        print(\"mover = \", g.mover)\n",
    "        break\n",
    "    #print(\"player {} makes a move {}\".format(player, m))\n",
    "    print(\"hp distribution: \")\n",
    "    print(\"p1 = \",[c.hp for c in g.g.p1.char],'\\t\\t','p2 = ', [c.hp for c in g.g.p2.char] )\n",
    "    print(\"p1 active = \",g.g.p1.history['active'], ' p2 active = ', g.g.p2.history['active'])\n",
    "    print(\"p1 end = \",g.g.p1.history['endround'], 'p2 end = ',g.g.p2.history['endround'])\n",
    "    print(\"p1 aura = \", g.g.p1.getAura(), ' p2 aura = ', g.g.p2.getAura())\n",
    "    print()"
   ]
  },
  {
   "cell_type": "code",
   "execution_count": null,
   "id": "3835a037-8215-4bad-ae84-523bd0a45965",
   "metadata": {},
   "outputs": [],
   "source": [
    "g.g.p1.buff[0].usage"
   ]
  },
  {
   "cell_type": "code",
   "execution_count": 6,
   "id": "f8f50cae-63e8-42fe-90c4-e6a15d0f7774",
   "metadata": {
    "tags": []
   },
   "outputs": [
    {
     "data": {
      "text/plain": [
       "1"
      ]
     },
     "execution_count": 6,
     "metadata": {},
     "output_type": "execute_result"
    }
   ],
   "source": [
    "g.mover"
   ]
  },
  {
   "cell_type": "code",
   "execution_count": 7,
   "id": "400bdfc5-0b82-4afb-ae94-1953c3e9ca7b",
   "metadata": {
    "tags": []
   },
   "outputs": [
    {
     "data": {
      "text/plain": [
       "1000"
      ]
     },
     "execution_count": 7,
     "metadata": {},
     "output_type": "execute_result"
    }
   ],
   "source": [
    "Master.val(g)"
   ]
  },
  {
   "cell_type": "code",
   "execution_count": null,
   "id": "0654ffb5-70e7-49e8-aa97-2feb1536c1e5",
   "metadata": {},
   "outputs": [],
   "source": []
  }
 ],
 "metadata": {
  "kernelspec": {
   "display_name": "Python 3 (ipykernel)",
   "language": "python",
   "name": "python3"
  },
  "language_info": {
   "codemirror_mode": {
    "name": "ipython",
    "version": 3
   },
   "file_extension": ".py",
   "mimetype": "text/x-python",
   "name": "python",
   "nbconvert_exporter": "python",
   "pygments_lexer": "ipython3",
   "version": "3.8.8"
  }
 },
 "nbformat": 4,
 "nbformat_minor": 5
}
