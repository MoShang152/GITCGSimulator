{
 "cells": [
  {
   "cell_type": "code",
   "execution_count": null,
   "id": "da0ab88e-5fae-430e-9d1f-50bb6c3dc576",
   "metadata": {
    "tags": []
   },
   "outputs": [],
   "source": [
    "import sys\n",
    "sys.path.append('..')\n",
    "from src.core.GameInstance import apply_react, reaction, GameInstance\n",
    "from src.core.GameState import Location, Aura, GameState, Box\n",
    "from src.game import activate, Game\n",
    "b1 = Box(['Diluc','Sucrose','Kaeya'],[])\n",
    "b2 = Box(['Diluc','Kaeya','Sucrose'],[])\n",
    "state = GameState(b1,b2)\n",
    "g = Game()\n",
    "g.initiate(state)"
   ]
  },
  {
   "cell_type": "code",
   "execution_count": null,
   "id": "80992344-4aac-4820-901e-8a646fbd388b",
   "metadata": {
    "tags": []
   },
   "outputs": [],
   "source": [
    "from agent.alphabeta import Searcher"
   ]
  },
  {
   "cell_type": "code",
   "execution_count": null,
   "id": "8cdc7e7a-98ea-48a7-9e7f-eb1428470da8",
   "metadata": {
    "tags": []
   },
   "outputs": [],
   "source": [
    "Master = Searcher(player = 1)\n",
    "Rival = Searcher(player = 2)"
   ]
  },
  {
   "cell_type": "code",
   "execution_count": null,
   "id": "398699a5-f4b5-408a-b6f2-7985f2b13645",
   "metadata": {
    "tags": []
   },
   "outputs": [],
   "source": [
    "while not g.terminated():\n",
    "    player = g.mover\n",
    "    print(\"mover = \", g.mover)\n",
    "    if g.mover == 1:\n",
    "        m, s, d = Master.search(5, g)\n",
    "        #m, s, d = Rival.search(5, g)\n",
    "        #m = g.getIns(1, 'switch next')\n",
    "        g.proceed(m,False, Master.callback)\n",
    "        nodes = Master.nodes\n",
    "        print(\"move = \", m)\n",
    "        print(\"depth = {}, total nodes = {}, score = {}\".format(d,nodes,s))\n",
    "    elif g.mover == 2:\n",
    "        #m = input(\"your move:\")\n",
    "        #m = g.getIns(2, m)\n",
    "        m, s, d = Rival.search(5, g)\n",
    "        g.proceed(m,False, Rival.callback)\n",
    "        print(\"move = \",m)\n",
    "        #nodes = Rival.nodes\n",
    "    else:\n",
    "        print(\"mover = \", g.mover)\n",
    "        break\n",
    "    #print(\"player {} makes a move {}\".format(player, m))\n",
    "    print(\"hp distribution: \")\n",
    "    print(\"p1 = \",[c.hp for c in g.g.p1.char],'\\t\\t','p2 = ', [c.hp for c in g.g.p2.char] )\n",
    "    print(\"p1 active = \",g.g.p1.history['active'], ' p2 active = ', g.g.p2.history['active'])\n",
    "    print(\"p1 end = \",g.g.p1.history['endround'], 'p2 end = ',g.g.p2.history['endround'])\n",
    "    print(\"p1 aura = \", g.g.p1.getAura(), ' p2 aura = ', g.g.p2.getAura())\n",
    "    print()"
   ]
  },
  {
   "cell_type": "code",
   "execution_count": null,
   "id": "3835a037-8215-4bad-ae84-523bd0a45965",
   "metadata": {},
   "outputs": [],
   "source": []
  }
 ],
 "metadata": {
  "kernelspec": {
   "display_name": "Python 3 (ipykernel)",
   "language": "python",
   "name": "python3"
  },
  "language_info": {
   "codemirror_mode": {
    "name": "ipython",
    "version": 3
   },
   "file_extension": ".py",
   "mimetype": "text/x-python",
   "name": "python",
   "nbconvert_exporter": "python",
   "pygments_lexer": "ipython3",
   "version": "3.8.8"
  }
 },
 "nbformat": 4,
 "nbformat_minor": 5
}
