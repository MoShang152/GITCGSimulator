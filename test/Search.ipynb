{
 "cells": [
  {
   "cell_type": "code",
   "execution_count": 1,
   "id": "da0ab88e-5fae-430e-9d1f-50bb6c3dc576",
   "metadata": {
    "scrolled": true,
    "tags": []
   },
   "outputs": [],
   "source": [
    "import sys\n",
    "sys.path.append('..')\n",
    "from src.core.GameInstance import apply_react, reaction, GameInstance\n",
    "from src.core.GameState import Location, Aura, GameState, Box\n",
    "from src.game import activate, Game\n",
    "b1 = Box(['Fischl','Kaeya','Sucrose'],[])\n",
    "b2 = Box(['Diluc','Kaeya','Sucrose'],[])\n",
    "state = GameState(b1,b2)\n",
    "g = Game()\n",
    "g.initiate(state)"
   ]
  },
  {
   "cell_type": "code",
   "execution_count": 2,
   "id": "80992344-4aac-4820-901e-8a646fbd388b",
   "metadata": {
    "tags": []
   },
   "outputs": [],
   "source": [
    "from agent.alphabeta import Searcher\n",
    "from src.core.Event import Event, Death, Switch"
   ]
  },
  {
   "cell_type": "code",
   "execution_count": 3,
   "id": "8cdc7e7a-98ea-48a7-9e7f-eb1428470da8",
   "metadata": {
    "tags": []
   },
   "outputs": [],
   "source": [
    "def input_callback(g, event, *args):\n",
    "    print(\"yes i am here\")\n",
    "    if isinstance(event, Death) and g.history['phase'] == 'deathswitch':\n",
    "        active = g.getactive(event.player_id)\n",
    "        direct = int(input('your switch(1 for next, -1 for previous):'))\n",
    "        return Switch(g.nexteid(), event.eid, event.player_id, active, direct)\n",
    "    else:\n",
    "        return Event(-1,-1,-1)"
   ]
  },
  {
   "cell_type": "code",
   "execution_count": 4,
   "id": "4d84ec23-a594-417a-82ad-b50f270c2ce0",
   "metadata": {
    "tags": []
   },
   "outputs": [
    {
     "name": "stdin",
     "output_type": "stream",
     "text": [
      "your player_id is: 2\n"
     ]
    },
    {
     "name": "stdout",
     "output_type": "stream",
     "text": [
      "mover =  1\n",
      "scores =  [-3, -3, -3, -3, -3]\n",
      "move =  UseKit(player_id=1, dice_pattern=DicePattern(pyro=0, cryo=0, hydro=0, electro=3, dendro=0, anemo=0, geo=0, black=0, white=0, omni=0), real_dice_pattern=DicePattern(pyro=0, cryo=0, hydro=0, electro=3, dendro=0, anemo=0, geo=0, black=0, white=0, omni=0), dice_instance=DiceInstance(omni=3, pyro=0, cryo=0, hydro=0, electro=0, dendro=0, anemo=0, geo=0), kit='skill')\n",
      "depth = 10, total nodes = 22592, score = -3\n",
      "hp distribution: \n",
      "p1 =  [10, 10, 10] \t\t p2 =  [9, 10, 10]\n",
      "p1 active =  0  p2 active =  0\n",
      "p1 end =  False p2 end =  False\n",
      "p1 aura =  [<Aura.empty: 0>, <Aura.empty: 0>, <Aura.empty: 0>]  p2 aura =  [<Aura.electro: 3>, <Aura.empty: 0>, <Aura.empty: 0>]\n",
      "\n",
      "mover =  2\n"
     ]
    },
    {
     "name": "stdin",
     "output_type": "stream",
     "text": [
      "your move: skill\n"
     ]
    },
    {
     "name": "stdout",
     "output_type": "stream",
     "text": [
      "hp distribution: \n",
      "p1 =  [7, 10, 10] \t\t p2 =  [9, 10, 10]\n",
      "p1 active =  0  p2 active =  0\n",
      "p1 end =  False p2 end =  False\n",
      "p1 aura =  [<Aura.pyro: 1>, <Aura.empty: 0>, <Aura.empty: 0>]  p2 aura =  [<Aura.electro: 3>, <Aura.empty: 0>, <Aura.empty: 0>]\n",
      "\n",
      "mover =  1\n",
      "scores =  [-23, -13, 17, 17, 17]\n",
      "move =  Switch(player_id=1, dice_pattern=DicePattern(pyro=0, cryo=0, hydro=0, electro=0, dendro=0, anemo=0, geo=0, black=0, white=0, omni=1), real_dice_pattern=DicePattern(pyro=0, cryo=0, hydro=0, electro=0, dendro=0, anemo=0, geo=0, black=0, white=0, omni=1), dice_instance=DiceInstance(omni=1, pyro=0, cryo=0, hydro=0, electro=0, dendro=0, anemo=0, geo=0), direction=1)\n",
      "depth = 10, total nodes = 18597, score = 17\n",
      "hp distribution: \n",
      "p1 =  [7, 10, 10] \t\t p2 =  [9, 10, 10]\n",
      "p1 active =  1  p2 active =  0\n",
      "p1 end =  False p2 end =  False\n",
      "p1 aura =  [<Aura.pyro: 1>, <Aura.empty: 0>, <Aura.empty: 0>]  p2 aura =  [<Aura.electro: 3>, <Aura.empty: 0>, <Aura.empty: 0>]\n",
      "\n",
      "mover =  2\n"
     ]
    },
    {
     "name": "stdin",
     "output_type": "stream",
     "text": [
      "your move: switch next\n"
     ]
    },
    {
     "name": "stdout",
     "output_type": "stream",
     "text": [
      "hp distribution: \n",
      "p1 =  [7, 10, 10] \t\t p2 =  [9, 10, 10]\n",
      "p1 active =  1  p2 active =  1\n",
      "p1 end =  False p2 end =  False\n",
      "p1 aura =  [<Aura.pyro: 1>, <Aura.empty: 0>, <Aura.empty: 0>]  p2 aura =  [<Aura.electro: 3>, <Aura.empty: 0>, <Aura.empty: 0>]\n",
      "\n",
      "mover =  1\n",
      "scores =  [8, 8, 8, 8, 8]\n",
      "move =  UseKit(player_id=1, dice_pattern=DicePattern(pyro=0, cryo=3, hydro=0, electro=0, dendro=0, anemo=0, geo=0, black=0, white=0, omni=0), real_dice_pattern=DicePattern(pyro=0, cryo=3, hydro=0, electro=0, dendro=0, anemo=0, geo=0, black=0, white=0, omni=0), dice_instance=DiceInstance(omni=3, pyro=0, cryo=0, hydro=0, electro=0, dendro=0, anemo=0, geo=0), kit='skill')\n",
      "depth = 12, total nodes = 32138, score = 8\n",
      "hp distribution: \n",
      "p1 =  [7, 10, 10] \t\t p2 =  [9, 7, 10]\n",
      "p1 active =  1  p2 active =  1\n",
      "p1 end =  False p2 end =  False\n",
      "p1 aura =  [<Aura.pyro: 1>, <Aura.empty: 0>, <Aura.empty: 0>]  p2 aura =  [<Aura.electro: 3>, <Aura.cryo: 2>, <Aura.empty: 0>]\n",
      "\n",
      "mover =  2\n"
     ]
    },
    {
     "name": "stdin",
     "output_type": "stream",
     "text": [
      "your move: skill\n"
     ]
    },
    {
     "name": "stdout",
     "output_type": "stream",
     "text": [
      "hp distribution: \n",
      "p1 =  [7, 7, 10] \t\t p2 =  [9, 7, 10]\n",
      "p1 active =  1  p2 active =  1\n",
      "p1 end =  False p2 end =  False\n",
      "p1 aura =  [<Aura.pyro: 1>, <Aura.cryo: 2>, <Aura.empty: 0>]  p2 aura =  [<Aura.electro: 3>, <Aura.cryo: 2>, <Aura.empty: 0>]\n",
      "\n",
      "mover =  1\n",
      "scores =  [0, 0, 25]\n",
      "move =  EndRound(player_id=1, dice_pattern=None, real_dice_pattern=None, dice_instance=None)\n",
      "depth = 11, total nodes = 21519, score = 25\n",
      "hp distribution: \n",
      "p1 =  [7, 7, 10] \t\t p2 =  [9, 7, 10]\n",
      "p1 active =  1  p2 active =  1\n",
      "p1 end =  True p2 end =  False\n",
      "p1 aura =  [<Aura.pyro: 1>, <Aura.cryo: 2>, <Aura.empty: 0>]  p2 aura =  [<Aura.electro: 3>, <Aura.cryo: 2>, <Aura.empty: 0>]\n",
      "\n",
      "mover =  2\n"
     ]
    },
    {
     "name": "stdin",
     "output_type": "stream",
     "text": [
      "your move: end r\n"
     ]
    },
    {
     "name": "stdout",
     "output_type": "stream",
     "text": [
      "hp distribution: \n",
      "p1 =  [7, 7, 10] \t\t p2 =  [8, 5, 9]\n",
      "p1 active =  1  p2 active =  1\n",
      "p1 end =  False p2 end =  False\n",
      "p1 aura =  [<Aura.pyro: 1>, <Aura.cryo: 2>, <Aura.empty: 0>]  p2 aura =  [<Aura.electro: 3>, <Aura.empty: 0>, <Aura.empty: 0>]\n",
      "\n",
      "mover =  1\n",
      "scores =  [30, 30, 30, 30, 30]\n",
      "move =  UseKit(player_id=1, dice_pattern=DicePattern(pyro=0, cryo=3, hydro=0, electro=0, dendro=0, anemo=0, geo=0, black=0, white=0, omni=0), real_dice_pattern=DicePattern(pyro=0, cryo=3, hydro=0, electro=0, dendro=0, anemo=0, geo=0, black=0, white=0, omni=0), dice_instance=DiceInstance(omni=3, pyro=0, cryo=0, hydro=0, electro=0, dendro=0, anemo=0, geo=0), kit='skill')\n",
      "depth = 10, total nodes = 17269, score = 30\n",
      "hp distribution: \n",
      "p1 =  [7, 7, 10] \t\t p2 =  [8, 2, 9]\n",
      "p1 active =  1  p2 active =  1\n",
      "p1 end =  False p2 end =  False\n",
      "p1 aura =  [<Aura.pyro: 1>, <Aura.cryo: 2>, <Aura.empty: 0>]  p2 aura =  [<Aura.electro: 3>, <Aura.cryo: 2>, <Aura.empty: 0>]\n",
      "\n",
      "mover =  2\n"
     ]
    },
    {
     "name": "stdin",
     "output_type": "stream",
     "text": [
      "your move: skill\n"
     ]
    },
    {
     "name": "stdout",
     "output_type": "stream",
     "text": [
      "hp distribution: \n",
      "p1 =  [7, 4, 10] \t\t p2 =  [8, 2, 9]\n",
      "p1 active =  1  p2 active =  1\n",
      "p1 end =  False p2 end =  False\n",
      "p1 aura =  [<Aura.pyro: 1>, <Aura.cryo: 2>, <Aura.empty: 0>]  p2 aura =  [<Aura.electro: 3>, <Aura.cryo: 2>, <Aura.empty: 0>]\n",
      "\n",
      "mover =  1\n",
      "scores =  [40, 40, 40, 40, 40, 40]\n",
      "move =  UseKit(player_id=1, dice_pattern=DicePattern(pyro=0, cryo=4, hydro=0, electro=0, dendro=0, anemo=0, geo=0, black=0, white=0, omni=0), real_dice_pattern=DicePattern(pyro=0, cryo=4, hydro=0, electro=0, dendro=0, anemo=0, geo=0, black=0, white=0, omni=0), dice_instance=DiceInstance(omni=4, pyro=0, cryo=0, hydro=0, electro=0, dendro=0, anemo=0, geo=0), kit='burst')\n",
      "depth = 10, total nodes = 18697, score = 40\n",
      "hp distribution: \n",
      "p1 =  [7, 4, 10] \t\t p2 =  [8, 1, 9]\n",
      "p1 active =  1  p2 active =  1\n",
      "p1 end =  False p2 end =  False\n",
      "p1 aura =  [<Aura.pyro: 1>, <Aura.cryo: 2>, <Aura.empty: 0>]  p2 aura =  [<Aura.electro: 3>, <Aura.cryo: 2>, <Aura.empty: 0>]\n",
      "\n",
      "mover =  2\n"
     ]
    },
    {
     "name": "stdin",
     "output_type": "stream",
     "text": [
      "your move: burst\n"
     ]
    },
    {
     "name": "stdout",
     "output_type": "stream",
     "text": [
      "hp distribution: \n",
      "p1 =  [7, 3, 10] \t\t p2 =  [8, 1, 9]\n",
      "p1 active =  1  p2 active =  1\n",
      "p1 end =  False p2 end =  False\n",
      "p1 aura =  [<Aura.pyro: 1>, <Aura.cryo: 2>, <Aura.empty: 0>]  p2 aura =  [<Aura.electro: 3>, <Aura.cryo: 2>, <Aura.empty: 0>]\n",
      "\n",
      "mover =  1\n",
      "scores =  [18, 18, 31]\n",
      "move =  EndRound(player_id=1, dice_pattern=None, real_dice_pattern=None, dice_instance=None)\n",
      "depth = 10, total nodes = 24434, score = 31\n",
      "hp distribution: \n",
      "p1 =  [7, 3, 10] \t\t p2 =  [8, 1, 9]\n",
      "p1 active =  1  p2 active =  1\n",
      "p1 end =  True p2 end =  False\n",
      "p1 aura =  [<Aura.pyro: 1>, <Aura.cryo: 2>, <Aura.empty: 0>]  p2 aura =  [<Aura.electro: 3>, <Aura.cryo: 2>, <Aura.empty: 0>]\n",
      "\n",
      "mover =  2\n"
     ]
    },
    {
     "name": "stdin",
     "output_type": "stream",
     "text": [
      "your move: end r\n"
     ]
    },
    {
     "name": "stdout",
     "output_type": "stream",
     "text": [
      "yes i am here\n"
     ]
    },
    {
     "name": "stdin",
     "output_type": "stream",
     "text": [
      "your switch(1 for next, -1 for previous): 1\n"
     ]
    },
    {
     "name": "stdout",
     "output_type": "stream",
     "text": [
      "hp distribution: \n",
      "p1 =  [7, 1, 10] \t\t p2 =  [7, 0, 8]\n",
      "p1 active =  1  p2 active =  2\n",
      "p1 end =  False p2 end =  False\n",
      "p1 aura =  [<Aura.pyro: 1>, <Aura.cryo: 2>, <Aura.empty: 0>]  p2 aura =  [<Aura.electro: 3>, <Aura.died: 9>, <Aura.empty: 0>]\n",
      "\n",
      "mover =  1\n",
      "scores =  [108, 108, 108, 108, 108]\n",
      "move =  UseKit(player_id=1, dice_pattern=DicePattern(pyro=0, cryo=3, hydro=0, electro=0, dendro=0, anemo=0, geo=0, black=0, white=0, omni=0), real_dice_pattern=DicePattern(pyro=0, cryo=3, hydro=0, electro=0, dendro=0, anemo=0, geo=0, black=0, white=0, omni=0), dice_instance=DiceInstance(omni=3, pyro=0, cryo=0, hydro=0, electro=0, dendro=0, anemo=0, geo=0), kit='skill')\n",
      "depth = 10, total nodes = 16790, score = 108\n",
      "hp distribution: \n",
      "p1 =  [7, 1, 10] \t\t p2 =  [7, 0, 5]\n",
      "p1 active =  1  p2 active =  2\n",
      "p1 end =  False p2 end =  False\n",
      "p1 aura =  [<Aura.pyro: 1>, <Aura.cryo: 2>, <Aura.empty: 0>]  p2 aura =  [<Aura.electro: 3>, <Aura.died: 9>, <Aura.cryo: 2>]\n",
      "\n",
      "mover =  2\n"
     ]
    },
    {
     "name": "stdin",
     "output_type": "stream",
     "text": [
      "your move: switch next\n"
     ]
    },
    {
     "name": "stdout",
     "output_type": "stream",
     "text": [
      "hp distribution: \n",
      "p1 =  [7, 0, 10] \t\t p2 =  [4, 0, 4]\n",
      "p1 active =  0  p2 active =  0\n",
      "p1 end =  False p2 end =  False\n",
      "p1 aura =  [<Aura.pyro: 1>, <Aura.died: 9>, <Aura.empty: 0>]  p2 aura =  [<Aura.empty: 0>, <Aura.died: 9>, <Aura.cryo: 2>]\n",
      "\n",
      "mover =  1\n",
      "scores =  [1000, 1000, 1000, 1000]\n",
      "move =  UseKit(player_id=1, dice_pattern=DicePattern(pyro=0, cryo=0, hydro=0, electro=3, dendro=0, anemo=0, geo=0, black=0, white=0, omni=0), real_dice_pattern=DicePattern(pyro=0, cryo=0, hydro=0, electro=3, dendro=0, anemo=0, geo=0, black=0, white=0, omni=0), dice_instance=DiceInstance(omni=3, pyro=0, cryo=0, hydro=0, electro=0, dendro=0, anemo=0, geo=0), kit='skill')\n",
      "depth = 19, total nodes = 11915, score = 1000\n",
      "hp distribution: \n",
      "p1 =  [7, 0, 10] \t\t p2 =  [3, 0, 4]\n",
      "p1 active =  0  p2 active =  0\n",
      "p1 end =  False p2 end =  False\n",
      "p1 aura =  [<Aura.pyro: 1>, <Aura.died: 9>, <Aura.empty: 0>]  p2 aura =  [<Aura.electro: 3>, <Aura.died: 9>, <Aura.cryo: 2>]\n",
      "\n",
      "mover =  2\n"
     ]
    },
    {
     "name": "stdin",
     "output_type": "stream",
     "text": [
      "your move: skill\n"
     ]
    },
    {
     "name": "stdout",
     "output_type": "stream",
     "text": [
      "hp distribution: \n",
      "p1 =  [4, 0, 10] \t\t p2 =  [3, 0, 4]\n",
      "p1 active =  0  p2 active =  0\n",
      "p1 end =  False p2 end =  False\n",
      "p1 aura =  [<Aura.pyro: 1>, <Aura.died: 9>, <Aura.empty: 0>]  p2 aura =  [<Aura.electro: 3>, <Aura.died: 9>, <Aura.cryo: 2>]\n",
      "\n",
      "mover =  1\n",
      "scores =  [1000, 1000]\n",
      "move =  Switch(player_id=1, dice_pattern=DicePattern(pyro=0, cryo=0, hydro=0, electro=0, dendro=0, anemo=0, geo=0, black=0, white=0, omni=1), real_dice_pattern=DicePattern(pyro=0, cryo=0, hydro=0, electro=0, dendro=0, anemo=0, geo=0, black=0, white=0, omni=1), dice_instance=DiceInstance(omni=1, pyro=0, cryo=0, hydro=0, electro=0, dendro=0, anemo=0, geo=0), direction=1)\n",
      "yes i am here\n"
     ]
    },
    {
     "name": "stdin",
     "output_type": "stream",
     "text": [
      "your switch(1 for next, -1 for previous): 1\n"
     ]
    },
    {
     "name": "stdout",
     "output_type": "stream",
     "text": [
      "depth = 19, total nodes = 1062, score = 1000\n",
      "hp distribution: \n",
      "p1 =  [4, 0, 8] \t\t p2 =  [0, 0, 3]\n",
      "p1 active =  2  p2 active =  2\n",
      "p1 end =  False p2 end =  False\n",
      "p1 aura =  [<Aura.pyro: 1>, <Aura.died: 9>, <Aura.cryo: 2>]  p2 aura =  [<Aura.died: 9>, <Aura.died: 9>, <Aura.cryo: 2>]\n",
      "\n",
      "mover =  2\n"
     ]
    },
    {
     "name": "stdin",
     "output_type": "stream",
     "text": [
      "your move: skill\n"
     ]
    },
    {
     "name": "stdout",
     "output_type": "stream",
     "text": [
      "hp distribution: \n",
      "p1 =  [1, 0, 5] \t\t p2 =  [0, 0, 1]\n",
      "p1 active =  0  p2 active =  2\n",
      "p1 end =  False p2 end =  False\n",
      "p1 aura =  [<Aura.empty: 0>, <Aura.died: 9>, <Aura.empty: 0>]  p2 aura =  [<Aura.died: 9>, <Aura.died: 9>, <Aura.cryo: 2>]\n",
      "\n",
      "mover =  1\n",
      "scores =  [1000, 1000]\n",
      "move =  Switch(player_id=1, dice_pattern=DicePattern(pyro=0, cryo=0, hydro=0, electro=0, dendro=0, anemo=0, geo=0, black=0, white=0, omni=1), real_dice_pattern=DicePattern(pyro=0, cryo=0, hydro=0, electro=0, dendro=0, anemo=0, geo=0, black=0, white=0, omni=1), dice_instance=DiceInstance(omni=1, pyro=0, cryo=0, hydro=0, electro=0, dendro=0, anemo=0, geo=0), direction=1)\n",
      "depth = 19, total nodes = 110, score = 1000\n",
      "hp distribution: \n",
      "p1 =  [1, 0, 5] \t\t p2 =  [0, 0, 1]\n",
      "p1 active =  2  p2 active =  2\n",
      "p1 end =  False p2 end =  False\n",
      "p1 aura =  [<Aura.empty: 0>, <Aura.died: 9>, <Aura.empty: 0>]  p2 aura =  [<Aura.died: 9>, <Aura.died: 9>, <Aura.cryo: 2>]\n",
      "\n",
      "mover =  2\n"
     ]
    },
    {
     "name": "stdin",
     "output_type": "stream",
     "text": [
      "your move: end r\n"
     ]
    },
    {
     "name": "stdout",
     "output_type": "stream",
     "text": [
      "hp distribution: \n",
      "p1 =  [1, 0, 5] \t\t p2 =  [0, 0, 1]\n",
      "p1 active =  2  p2 active =  2\n",
      "p1 end =  False p2 end =  True\n",
      "p1 aura =  [<Aura.empty: 0>, <Aura.died: 9>, <Aura.empty: 0>]  p2 aura =  [<Aura.died: 9>, <Aura.died: 9>, <Aura.cryo: 2>]\n",
      "\n",
      "mover =  1\n",
      "scores =  [1000]\n",
      "move =  EndRound(player_id=1, dice_pattern=None, real_dice_pattern=None, dice_instance=None)\n",
      "depth = 19, total nodes = 38, score = 1000\n",
      "hp distribution: \n",
      "p1 =  [1, 0, 5] \t\t p2 =  [0, 0, 0]\n",
      "p1 active =  2  p2 active =  2\n",
      "p1 end =  False p2 end =  False\n",
      "p1 aura =  [<Aura.empty: 0>, <Aura.died: 9>, <Aura.empty: 0>]  p2 aura =  [<Aura.died: 9>, <Aura.died: 9>, <Aura.died: 9>]\n",
      "\n"
     ]
    }
   ],
   "source": [
    "player = int(input('your player_id is:'))\n",
    "Master = Searcher(3 - player)\n",
    "def callback(g, event, *args):\n",
    "    if event.player_id == player:\n",
    "        return input_callback(g,event,*args)\n",
    "    else:\n",
    "        return Master.callback(g,event,*args)\n",
    "while not g.terminated():\n",
    "    #player = 1\n",
    "    print(\"mover = \", g.mover)\n",
    "    if g.mover != player:\n",
    "        m, s, d = Master.search(5, g)\n",
    "        #m, s, d = Rival.search(5, g)\n",
    "        #m = g.getIns(1, 'switch next')\n",
    "        print(\"move = \", m)\n",
    "        g.proceed(m,False, callback)\n",
    "        nodes = Master.nodes\n",
    "        print(\"depth = {}, total nodes = {}, score = {}\".format(d,nodes,s))\n",
    "    elif g.mover == player:\n",
    "        m = input(\"your move:\")\n",
    "        m = g.getIns(player, m)\n",
    "        #m, s, d = Rival.search(5, g)\n",
    "        g.proceed(m,False, callback)\n",
    "        #print(\"move = \",m)\n",
    "        #nodes = Rival.nodes\n",
    "    else:\n",
    "        print(\"mover = \", g.mover)\n",
    "        break\n",
    "    #print(\"player {} makes a move {}\".format(player, m))\n",
    "    print(\"hp distribution: \")\n",
    "    print(\"p1 = \",[c.hp for c in g.g.p1.char],'\\t\\t','p2 = ', [c.hp for c in g.g.p2.char] )\n",
    "    print(\"p1 active = \",g.g.p1.history['active'], ' p2 active = ', g.g.p2.history['active'])\n",
    "    print(\"p1 end = \",g.g.p1.history['endround'], 'p2 end = ',g.g.p2.history['endround'])\n",
    "    print(\"p1 aura = \", g.g.p1.getAura(), ' p2 aura = ', g.g.p2.getAura())\n",
    "    print()"
   ]
  },
  {
   "cell_type": "code",
   "execution_count": null,
   "id": "3835a037-8215-4bad-ae84-523bd0a45965",
   "metadata": {},
   "outputs": [],
   "source": [
    "g.g.p1.buff[0].usage"
   ]
  },
  {
   "cell_type": "code",
   "execution_count": 6,
   "id": "f8f50cae-63e8-42fe-90c4-e6a15d0f7774",
   "metadata": {
    "tags": []
   },
   "outputs": [
    {
     "data": {
      "text/plain": [
       "1"
      ]
     },
     "execution_count": 6,
     "metadata": {},
     "output_type": "execute_result"
    }
   ],
   "source": [
    "g.mover"
   ]
  },
  {
   "cell_type": "code",
   "execution_count": 7,
   "id": "400bdfc5-0b82-4afb-ae94-1953c3e9ca7b",
   "metadata": {
    "tags": []
   },
   "outputs": [
    {
     "data": {
      "text/plain": [
       "1000"
      ]
     },
     "execution_count": 7,
     "metadata": {},
     "output_type": "execute_result"
    }
   ],
   "source": [
    "Master.val(g)"
   ]
  },
  {
   "cell_type": "code",
   "execution_count": null,
   "id": "0654ffb5-70e7-49e8-aa97-2feb1536c1e5",
   "metadata": {},
   "outputs": [],
   "source": []
  }
 ],
 "metadata": {
  "kernelspec": {
   "display_name": "Python 3 (ipykernel)",
   "language": "python",
   "name": "python3"
  },
  "language_info": {
   "codemirror_mode": {
    "name": "ipython",
    "version": 3
   },
   "file_extension": ".py",
   "mimetype": "text/x-python",
   "name": "python",
   "nbconvert_exporter": "python",
   "pygments_lexer": "ipython3",
   "version": "3.8.8"
  }
 },
 "nbformat": 4,
 "nbformat_minor": 5
}
