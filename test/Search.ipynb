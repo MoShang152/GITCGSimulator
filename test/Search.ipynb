{
 "cells": [
  {
   "cell_type": "code",
   "execution_count": 1,
   "id": "da0ab88e-5fae-430e-9d1f-50bb6c3dc576",
   "metadata": {
    "scrolled": true,
    "tags": []
   },
   "outputs": [],
   "source": [
    "import sys\n",
    "sys.path.append('..')\n",
    "from src.core.GameInstance import apply_react, reaction, GameInstance\n",
    "from src.core.GameState import Location, Aura, GameState, Box\n",
    "from src.game import activate, Game\n",
    "b1 = Box(['Diluc','Sucrose','Kaeya'],[])\n",
    "b2 = Box(['Diluc','Kaeya','Sucrose'],[])\n",
    "state = GameState(b1,b2)\n",
    "g = Game()\n",
    "g.initiate(state)"
   ]
  },
  {
   "cell_type": "code",
   "execution_count": 2,
   "id": "80992344-4aac-4820-901e-8a646fbd388b",
   "metadata": {
    "tags": []
   },
   "outputs": [],
   "source": [
    "from agent.alphabeta import Searcher"
   ]
  },
  {
   "cell_type": "code",
   "execution_count": 3,
   "id": "8cdc7e7a-98ea-48a7-9e7f-eb1428470da8",
   "metadata": {
    "tags": []
   },
   "outputs": [],
   "source": [
    "Master = Searcher(player = 1)\n",
    "Rival = Searcher(player = 2)"
   ]
  },
  {
   "cell_type": "code",
   "execution_count": 4,
   "id": "398699a5-f4b5-408a-b6f2-7985f2b13645",
   "metadata": {
    "tags": []
   },
   "outputs": [
    {
     "name": "stdout",
     "output_type": "stream",
     "text": [
      "mover =  1\n"
     ]
    },
    {
     "name": "stdin",
     "output_type": "stream",
     "text": [
      "your move: skill\n"
     ]
    },
    {
     "name": "stdout",
     "output_type": "stream",
     "text": [
      "hp distribution: \n",
      "p1 =  [10, 10, 10] \t\t p2 =  [7, 10, 10]\n",
      "p1 active =  0  p2 active =  0\n",
      "p1 end =  False p2 end =  False\n",
      "p1 aura =  [<Aura.empty: 0>, <Aura.empty: 0>, <Aura.empty: 0>]  p2 aura =  [<Aura.pyro: 1>, <Aura.empty: 0>, <Aura.empty: 0>]\n",
      "\n",
      "mover =  2\n",
      "scores =  [-5, -6, -9, -2, -9]\n",
      "move =  Switch(player_id=2, dice_pattern=DicePattern(pyro=0, cryo=0, hydro=0, electro=0, dendro=0, anemo=0, geo=0, black=0, white=0, omni=1), real_dice_pattern=DicePattern(pyro=0, cryo=0, hydro=0, electro=0, dendro=0, anemo=0, geo=0, black=0, white=0, omni=1), dice_instance=DiceInstance(omni=1, pyro=0, cryo=0, hydro=0, electro=0, dendro=0, anemo=0, geo=0), direction=-1)\n",
      "depth = 7, total nodes = 13015, score = -2\n",
      "hp distribution: \n",
      "p1 =  [10, 10, 10] \t\t p2 =  [7, 10, 10]\n",
      "p1 active =  0  p2 active =  2\n",
      "p1 end =  False p2 end =  False\n",
      "p1 aura =  [<Aura.empty: 0>, <Aura.empty: 0>, <Aura.empty: 0>]  p2 aura =  [<Aura.pyro: 1>, <Aura.empty: 0>, <Aura.empty: 0>]\n",
      "\n",
      "mover =  1\n"
     ]
    },
    {
     "name": "stdin",
     "output_type": "stream",
     "text": [
      "your move: switch previous\n"
     ]
    },
    {
     "name": "stdout",
     "output_type": "stream",
     "text": [
      "hp distribution: \n",
      "p1 =  [10, 10, 10] \t\t p2 =  [7, 10, 10]\n",
      "p1 active =  2  p2 active =  2\n",
      "p1 end =  False p2 end =  False\n",
      "p1 aura =  [<Aura.empty: 0>, <Aura.empty: 0>, <Aura.empty: 0>]  p2 aura =  [<Aura.pyro: 1>, <Aura.empty: 0>, <Aura.empty: 0>]\n",
      "\n",
      "mover =  2\n",
      "scores =  [-4, -6, -8, -8, -8]\n",
      "move =  UseKit(player_id=2, dice_pattern=DicePattern(pyro=0, cryo=0, hydro=0, electro=0, dendro=0, anemo=0, geo=0, black=0, white=0, omni=3), real_dice_pattern=DicePattern(pyro=0, cryo=0, hydro=0, electro=0, dendro=0, anemo=0, geo=0, black=0, white=0, omni=3), dice_instance=DiceInstance(omni=3, pyro=0, cryo=0, hydro=0, electro=0, dendro=0, anemo=0, geo=0), kit='skill')\n",
      "depth = 7, total nodes = 13437, score = -4\n",
      "hp distribution: \n",
      "p1 =  [10, 10, 7] \t\t p2 =  [7, 10, 10]\n",
      "p1 active =  1  p2 active =  2\n",
      "p1 end =  False p2 end =  False\n",
      "p1 aura =  [<Aura.empty: 0>, <Aura.empty: 0>, <Aura.empty: 0>]  p2 aura =  [<Aura.pyro: 1>, <Aura.empty: 0>, <Aura.empty: 0>]\n",
      "\n",
      "mover =  1\n"
     ]
    },
    {
     "name": "stdin",
     "output_type": "stream",
     "text": [
      "your move: switch next\n"
     ]
    },
    {
     "name": "stdout",
     "output_type": "stream",
     "text": [
      "hp distribution: \n",
      "p1 =  [10, 10, 7] \t\t p2 =  [7, 10, 10]\n",
      "p1 active =  2  p2 active =  2\n",
      "p1 end =  False p2 end =  False\n",
      "p1 aura =  [<Aura.empty: 0>, <Aura.empty: 0>, <Aura.empty: 0>]  p2 aura =  [<Aura.pyro: 1>, <Aura.empty: 0>, <Aura.empty: 0>]\n",
      "\n",
      "mover =  2\n",
      "scores =  [1, -1, -3, -3, -3]\n",
      "move =  UseKit(player_id=2, dice_pattern=DicePattern(pyro=0, cryo=0, hydro=0, electro=0, dendro=0, anemo=0, geo=0, black=0, white=0, omni=3), real_dice_pattern=DicePattern(pyro=0, cryo=0, hydro=0, electro=0, dendro=0, anemo=0, geo=0, black=0, white=0, omni=3), dice_instance=DiceInstance(omni=3, pyro=0, cryo=0, hydro=0, electro=0, dendro=0, anemo=0, geo=0), kit='skill')\n",
      "depth = 9, total nodes = 14105, score = 1\n",
      "hp distribution: \n",
      "p1 =  [10, 10, 4] \t\t p2 =  [7, 10, 10]\n",
      "p1 active =  1  p2 active =  2\n",
      "p1 end =  False p2 end =  False\n",
      "p1 aura =  [<Aura.empty: 0>, <Aura.empty: 0>, <Aura.empty: 0>]  p2 aura =  [<Aura.pyro: 1>, <Aura.empty: 0>, <Aura.empty: 0>]\n",
      "\n",
      "mover =  1\n"
     ]
    },
    {
     "name": "stdin",
     "output_type": "stream",
     "text": [
      "your move: skill\n"
     ]
    },
    {
     "name": "stdout",
     "output_type": "stream",
     "text": [
      "hp distribution: \n",
      "p1 =  [10, 10, 4] \t\t p2 =  [7, 10, 7]\n",
      "p1 active =  1  p2 active =  1\n",
      "p1 end =  False p2 end =  False\n",
      "p1 aura =  [<Aura.empty: 0>, <Aura.empty: 0>, <Aura.empty: 0>]  p2 aura =  [<Aura.pyro: 1>, <Aura.empty: 0>, <Aura.empty: 0>]\n",
      "\n",
      "mover =  2\n",
      "scores =  [0, 0, 0]\n",
      "move =  Switch(player_id=2, dice_pattern=DicePattern(pyro=0, cryo=0, hydro=0, electro=0, dendro=0, anemo=0, geo=0, black=0, white=0, omni=1), real_dice_pattern=DicePattern(pyro=0, cryo=0, hydro=0, electro=0, dendro=0, anemo=0, geo=0, black=0, white=0, omni=1), dice_instance=DiceInstance(omni=1, pyro=0, cryo=0, hydro=0, electro=0, dendro=0, anemo=0, geo=0), direction=1)\n",
      "depth = 33, total nodes = 12886, score = 0\n",
      "hp distribution: \n",
      "p1 =  [10, 10, 4] \t\t p2 =  [7, 10, 7]\n",
      "p1 active =  1  p2 active =  2\n",
      "p1 end =  False p2 end =  False\n",
      "p1 aura =  [<Aura.empty: 0>, <Aura.empty: 0>, <Aura.empty: 0>]  p2 aura =  [<Aura.pyro: 1>, <Aura.empty: 0>, <Aura.empty: 0>]\n",
      "\n",
      "mover =  1\n"
     ]
    },
    {
     "name": "stdin",
     "output_type": "stream",
     "text": [
      "your move: end round\n"
     ]
    },
    {
     "name": "stdout",
     "output_type": "stream",
     "text": [
      "hp distribution: \n",
      "p1 =  [10, 10, 4] \t\t p2 =  [7, 10, 7]\n",
      "p1 active =  1  p2 active =  2\n",
      "p1 end =  True p2 end =  False\n",
      "p1 aura =  [<Aura.empty: 0>, <Aura.empty: 0>, <Aura.empty: 0>]  p2 aura =  [<Aura.pyro: 1>, <Aura.empty: 0>, <Aura.empty: 0>]\n",
      "\n",
      "mover =  2\n",
      "scores =  [-8]\n",
      "move =  EndRound(player_id=2, dice_pattern=None, real_dice_pattern=None, dice_instance=None)\n",
      "depth = 8, total nodes = 13044, score = -8\n",
      "hp distribution: \n",
      "p1 =  [10, 10, 4] \t\t p2 =  [7, 10, 7]\n",
      "p1 active =  1  p2 active =  2\n",
      "p1 end =  False p2 end =  False\n",
      "p1 aura =  [<Aura.empty: 0>, <Aura.empty: 0>, <Aura.empty: 0>]  p2 aura =  [<Aura.pyro: 1>, <Aura.empty: 0>, <Aura.empty: 0>]\n",
      "\n",
      "mover =  1\n"
     ]
    },
    {
     "name": "stdin",
     "output_type": "stream",
     "text": [
      "your move: switch next\n"
     ]
    },
    {
     "name": "stdout",
     "output_type": "stream",
     "text": [
      "hp distribution: \n",
      "p1 =  [10, 10, 4] \t\t p2 =  [7, 10, 7]\n",
      "p1 active =  2  p2 active =  2\n",
      "p1 end =  False p2 end =  False\n",
      "p1 aura =  [<Aura.empty: 0>, <Aura.empty: 0>, <Aura.empty: 0>]  p2 aura =  [<Aura.pyro: 1>, <Aura.empty: 0>, <Aura.empty: 0>]\n",
      "\n",
      "mover =  2\n",
      "scores =  [-4, -1, 0, 0, 1.1999999999999993, -7]\n",
      "move =  UseKit(player_id=2, dice_pattern=DicePattern(pyro=0, cryo=0, hydro=0, electro=0, dendro=0, anemo=0, geo=0, black=0, white=0, omni=3), real_dice_pattern=DicePattern(pyro=0, cryo=0, hydro=0, electro=0, dendro=0, anemo=0, geo=0, black=0, white=0, omni=3), dice_instance=DiceInstance(omni=3, pyro=0, cryo=0, hydro=0, electro=0, dendro=0, anemo=0, geo=0), kit='burst')\n",
      "depth = 7, total nodes = 12625, score = 1.1999999999999993\n",
      "hp distribution: \n",
      "p1 =  [10, 10, 3] \t\t p2 =  [7, 10, 7]\n",
      "p1 active =  2  p2 active =  2\n",
      "p1 end =  False p2 end =  False\n",
      "p1 aura =  [<Aura.empty: 0>, <Aura.empty: 0>, <Aura.empty: 0>]  p2 aura =  [<Aura.pyro: 1>, <Aura.empty: 0>, <Aura.empty: 0>]\n",
      "\n",
      "mover =  1\n"
     ]
    },
    {
     "name": "stdin",
     "output_type": "stream",
     "text": [
      "your move: skill\n"
     ]
    },
    {
     "name": "stdout",
     "output_type": "stream",
     "text": [
      "hp distribution: \n",
      "p1 =  [10, 10, 3] \t\t p2 =  [7, 10, 4]\n",
      "p1 active =  2  p2 active =  2\n",
      "p1 end =  False p2 end =  False\n",
      "p1 aura =  [<Aura.empty: 0>, <Aura.empty: 0>, <Aura.empty: 0>]  p2 aura =  [<Aura.pyro: 1>, <Aura.empty: 0>, <Aura.cryo: 2>]\n",
      "\n",
      "mover =  2\n",
      "scores =  [-0.8000000000000007, -2.8000000000000007, -4.800000000000001, -0.8000000000000007, -4.800000000000001]\n",
      "move =  UseKit(player_id=2, dice_pattern=DicePattern(pyro=0, cryo=0, hydro=0, electro=0, dendro=0, anemo=0, geo=0, black=0, white=0, omni=3), real_dice_pattern=DicePattern(pyro=0, cryo=0, hydro=0, electro=0, dendro=0, anemo=0, geo=0, black=0, white=0, omni=3), dice_instance=DiceInstance(omni=3, pyro=0, cryo=0, hydro=0, electro=0, dendro=0, anemo=0, geo=0), kit='skill')\n",
      "depth = 8, total nodes = 10142, score = -0.8000000000000007\n",
      "hp distribution: \n",
      "p1 =  [10, 10, 0] \t\t p2 =  [7, 10, 4]\n",
      "p1 active =  1  p2 active =  2\n",
      "p1 end =  False p2 end =  False\n",
      "p1 aura =  [<Aura.empty: 0>, <Aura.empty: 0>, <Aura.died: 9>]  p2 aura =  [<Aura.pyro: 1>, <Aura.empty: 0>, <Aura.cryo: 2>]\n",
      "\n",
      "mover =  1\n"
     ]
    },
    {
     "name": "stdin",
     "output_type": "stream",
     "text": [
      "your move: skill\n"
     ]
    },
    {
     "name": "stdout",
     "output_type": "stream",
     "text": [
      "hp distribution: \n",
      "p1 =  [10, 10, 0] \t\t p2 =  [4, 9, 1]\n",
      "p1 active =  1  p2 active =  1\n",
      "p1 end =  False p2 end =  False\n",
      "p1 aura =  [<Aura.empty: 0>, <Aura.empty: 0>, <Aura.died: 9>]  p2 aura =  [<Aura.empty: 0>, <Aura.cryo: 2>, <Aura.empty: 0>]\n",
      "\n",
      "mover =  2\n",
      "scores =  [-5.800000000000001, -5.800000000000001, -5.800000000000001]\n",
      "move =  Switch(player_id=2, dice_pattern=DicePattern(pyro=0, cryo=0, hydro=0, electro=0, dendro=0, anemo=0, geo=0, black=0, white=0, omni=1), real_dice_pattern=DicePattern(pyro=0, cryo=0, hydro=0, electro=0, dendro=0, anemo=0, geo=0, black=0, white=0, omni=1), dice_instance=DiceInstance(omni=1, pyro=0, cryo=0, hydro=0, electro=0, dendro=0, anemo=0, geo=0), direction=1)\n",
      "depth = 16, total nodes = 13171, score = -5.800000000000001\n",
      "hp distribution: \n",
      "p1 =  [10, 10, 0] \t\t p2 =  [4, 9, 1]\n",
      "p1 active =  1  p2 active =  2\n",
      "p1 end =  False p2 end =  False\n",
      "p1 aura =  [<Aura.empty: 0>, <Aura.empty: 0>, <Aura.died: 9>]  p2 aura =  [<Aura.empty: 0>, <Aura.cryo: 2>, <Aura.empty: 0>]\n",
      "\n",
      "mover =  1\n"
     ]
    },
    {
     "name": "stdin",
     "output_type": "stream",
     "text": [
      "your move: switch next\n"
     ]
    },
    {
     "name": "stdout",
     "output_type": "stream",
     "text": [
      "hp distribution: \n",
      "p1 =  [10, 10, 0] \t\t p2 =  [4, 9, 1]\n",
      "p1 active =  0  p2 active =  2\n",
      "p1 end =  False p2 end =  False\n",
      "p1 aura =  [<Aura.empty: 0>, <Aura.empty: 0>, <Aura.died: 9>]  p2 aura =  [<Aura.empty: 0>, <Aura.cryo: 2>, <Aura.empty: 0>]\n",
      "\n",
      "mover =  2\n",
      "scores =  [-4.800000000000001, -4.800000000000001, -4.800000000000001]\n",
      "move =  Switch(player_id=2, dice_pattern=DicePattern(pyro=0, cryo=0, hydro=0, electro=0, dendro=0, anemo=0, geo=0, black=0, white=0, omni=1), real_dice_pattern=DicePattern(pyro=0, cryo=0, hydro=0, electro=0, dendro=0, anemo=0, geo=0, black=0, white=0, omni=1), dice_instance=DiceInstance(omni=1, pyro=0, cryo=0, hydro=0, electro=0, dendro=0, anemo=0, geo=0), direction=1)\n",
      "depth = 33, total nodes = 12962, score = -4.800000000000001\n",
      "hp distribution: \n",
      "p1 =  [10, 10, 0] \t\t p2 =  [4, 9, 1]\n",
      "p1 active =  0  p2 active =  0\n",
      "p1 end =  False p2 end =  False\n",
      "p1 aura =  [<Aura.empty: 0>, <Aura.empty: 0>, <Aura.died: 9>]  p2 aura =  [<Aura.empty: 0>, <Aura.cryo: 2>, <Aura.empty: 0>]\n",
      "\n",
      "mover =  1\n"
     ]
    },
    {
     "name": "stdin",
     "output_type": "stream",
     "text": [
      "your move: end round\n"
     ]
    },
    {
     "name": "stdout",
     "output_type": "stream",
     "text": [
      "hp distribution: \n",
      "p1 =  [10, 10, 0] \t\t p2 =  [4, 9, 1]\n",
      "p1 active =  0  p2 active =  0\n",
      "p1 end =  True p2 end =  False\n",
      "p1 aura =  [<Aura.empty: 0>, <Aura.empty: 0>, <Aura.died: 9>]  p2 aura =  [<Aura.empty: 0>, <Aura.cryo: 2>, <Aura.empty: 0>]\n",
      "\n",
      "mover =  2\n",
      "scores =  [-12.2]\n",
      "move =  EndRound(player_id=2, dice_pattern=None, real_dice_pattern=None, dice_instance=None)\n",
      "depth = 8, total nodes = 11364, score = -12.2\n",
      "hp distribution: \n",
      "p1 =  [8, 10, 0] \t\t p2 =  [4, 9, 1]\n",
      "p1 active =  0  p2 active =  0\n",
      "p1 end =  False p2 end =  False\n",
      "p1 aura =  [<Aura.empty: 0>, <Aura.empty: 0>, <Aura.died: 9>]  p2 aura =  [<Aura.empty: 0>, <Aura.cryo: 2>, <Aura.empty: 0>]\n",
      "\n",
      "mover =  1\n"
     ]
    },
    {
     "name": "stdin",
     "output_type": "stream",
     "text": [
      "your move: skill\n"
     ]
    },
    {
     "name": "stdout",
     "output_type": "stream",
     "text": [
      "hp distribution: \n",
      "p1 =  [8, 10, 0] \t\t p2 =  [1, 9, 1]\n",
      "p1 active =  0  p2 active =  0\n",
      "p1 end =  False p2 end =  False\n",
      "p1 aura =  [<Aura.empty: 0>, <Aura.empty: 0>, <Aura.died: 9>]  p2 aura =  [<Aura.pyro: 1>, <Aura.cryo: 2>, <Aura.empty: 0>]\n",
      "\n",
      "mover =  2\n",
      "scores =  [-9.2, -10.2, -6.199999999999999, -6.199999999999999, -13.2]\n",
      "move =  Switch(player_id=2, dice_pattern=DicePattern(pyro=0, cryo=0, hydro=0, electro=0, dendro=0, anemo=0, geo=0, black=0, white=0, omni=1), real_dice_pattern=DicePattern(pyro=0, cryo=0, hydro=0, electro=0, dendro=0, anemo=0, geo=0, black=0, white=0, omni=1), dice_instance=DiceInstance(omni=1, pyro=0, cryo=0, hydro=0, electro=0, dendro=0, anemo=0, geo=0), direction=1)\n",
      "depth = 7, total nodes = 12150, score = -6.199999999999999\n",
      "hp distribution: \n",
      "p1 =  [8, 10, 0] \t\t p2 =  [1, 9, 1]\n",
      "p1 active =  0  p2 active =  1\n",
      "p1 end =  False p2 end =  False\n",
      "p1 aura =  [<Aura.empty: 0>, <Aura.empty: 0>, <Aura.died: 9>]  p2 aura =  [<Aura.pyro: 1>, <Aura.cryo: 2>, <Aura.empty: 0>]\n",
      "\n",
      "mover =  1\n"
     ]
    },
    {
     "name": "stdin",
     "output_type": "stream",
     "text": [
      "your move: skill\n"
     ]
    },
    {
     "name": "stdout",
     "output_type": "stream",
     "text": [
      "hp distribution: \n",
      "p1 =  [8, 10, 0] \t\t p2 =  [1, 4, 1]\n",
      "p1 active =  0  p2 active =  1\n",
      "p1 end =  False p2 end =  False\n",
      "p1 aura =  [<Aura.empty: 0>, <Aura.empty: 0>, <Aura.died: 9>]  p2 aura =  [<Aura.pyro: 1>, <Aura.empty: 0>, <Aura.empty: 0>]\n",
      "\n",
      "mover =  2\n",
      "scores =  [-12.2, -13.2, -16.2, -10.2, -16.2]\n",
      "move =  Switch(player_id=2, dice_pattern=DicePattern(pyro=0, cryo=0, hydro=0, electro=0, dendro=0, anemo=0, geo=0, black=0, white=0, omni=1), real_dice_pattern=DicePattern(pyro=0, cryo=0, hydro=0, electro=0, dendro=0, anemo=0, geo=0, black=0, white=0, omni=1), dice_instance=DiceInstance(omni=1, pyro=0, cryo=0, hydro=0, electro=0, dendro=0, anemo=0, geo=0), direction=-1)\n",
      "depth = 7, total nodes = 12300, score = -10.2\n",
      "hp distribution: \n",
      "p1 =  [8, 10, 0] \t\t p2 =  [1, 4, 1]\n",
      "p1 active =  0  p2 active =  0\n",
      "p1 end =  False p2 end =  False\n",
      "p1 aura =  [<Aura.empty: 0>, <Aura.empty: 0>, <Aura.died: 9>]  p2 aura =  [<Aura.pyro: 1>, <Aura.empty: 0>, <Aura.empty: 0>]\n",
      "\n",
      "mover =  1\n"
     ]
    },
    {
     "name": "stdin",
     "output_type": "stream",
     "text": [
      "your move: switch next\n"
     ]
    },
    {
     "name": "stdout",
     "output_type": "stream",
     "text": [
      "hp distribution: \n",
      "p1 =  [8, 10, 0] \t\t p2 =  [1, 4, 1]\n",
      "p1 active =  1  p2 active =  0\n",
      "p1 end =  False p2 end =  False\n",
      "p1 aura =  [<Aura.empty: 0>, <Aura.empty: 0>, <Aura.died: 9>]  p2 aura =  [<Aura.pyro: 1>, <Aura.empty: 0>, <Aura.empty: 0>]\n",
      "\n",
      "mover =  2\n",
      "scores =  [-11.2, -12.2, -15.2, -15.2, -15.2]\n",
      "move =  UseKit(player_id=2, dice_pattern=DicePattern(pyro=0, cryo=0, hydro=0, electro=0, dendro=0, anemo=0, geo=0, black=0, white=0, omni=3), real_dice_pattern=DicePattern(pyro=0, cryo=0, hydro=0, electro=0, dendro=0, anemo=0, geo=0, black=0, white=0, omni=3), dice_instance=DiceInstance(omni=3, pyro=0, cryo=0, hydro=0, electro=0, dendro=0, anemo=0, geo=0), kit='skill')\n",
      "depth = 7, total nodes = 12028, score = -11.2\n",
      "hp distribution: \n",
      "p1 =  [8, 7, 0] \t\t p2 =  [1, 4, 1]\n",
      "p1 active =  1  p2 active =  0\n",
      "p1 end =  False p2 end =  False\n",
      "p1 aura =  [<Aura.empty: 0>, <Aura.pyro: 1>, <Aura.died: 9>]  p2 aura =  [<Aura.pyro: 1>, <Aura.empty: 0>, <Aura.empty: 0>]\n",
      "\n",
      "mover =  1\n"
     ]
    },
    {
     "name": "stdin",
     "output_type": "stream",
     "text": [
      "your move: end round\n"
     ]
    },
    {
     "name": "stdout",
     "output_type": "stream",
     "text": [
      "hp distribution: \n",
      "p1 =  [8, 7, 0] \t\t p2 =  [1, 4, 1]\n",
      "p1 active =  1  p2 active =  0\n",
      "p1 end =  True p2 end =  False\n",
      "p1 aura =  [<Aura.empty: 0>, <Aura.pyro: 1>, <Aura.died: 9>]  p2 aura =  [<Aura.pyro: 1>, <Aura.empty: 0>, <Aura.empty: 0>]\n",
      "\n",
      "mover =  2\n",
      "scores =  [-12.6, -13.6, -16.6, -16.6, -16.6]\n",
      "move =  UseKit(player_id=2, dice_pattern=DicePattern(pyro=0, cryo=0, hydro=0, electro=0, dendro=0, anemo=0, geo=0, black=0, white=0, omni=3), real_dice_pattern=DicePattern(pyro=0, cryo=0, hydro=0, electro=0, dendro=0, anemo=0, geo=0, black=0, white=0, omni=3), dice_instance=DiceInstance(omni=3, pyro=0, cryo=0, hydro=0, electro=0, dendro=0, anemo=0, geo=0), kit='skill')\n",
      "depth = 7, total nodes = 11568, score = -12.6\n",
      "hp distribution: \n",
      "p1 =  [8, 4, 0] \t\t p2 =  [1, 4, 1]\n",
      "p1 active =  1  p2 active =  0\n",
      "p1 end =  True p2 end =  False\n",
      "p1 aura =  [<Aura.empty: 0>, <Aura.pyro: 1>, <Aura.died: 9>]  p2 aura =  [<Aura.pyro: 1>, <Aura.empty: 0>, <Aura.empty: 0>]\n",
      "\n",
      "mover =  2\n",
      "scores =  [-12.6]\n",
      "move =  EndRound(player_id=2, dice_pattern=None, real_dice_pattern=None, dice_instance=None)\n",
      "depth = 8, total nodes = 11201, score = -12.6\n",
      "hp distribution: \n",
      "p1 =  [7, 2, 0] \t\t p2 =  [1, 4, 1]\n",
      "p1 active =  1  p2 active =  0\n",
      "p1 end =  False p2 end =  False\n",
      "p1 aura =  [<Aura.pyro: 1>, <Aura.empty: 0>, <Aura.died: 9>]  p2 aura =  [<Aura.pyro: 1>, <Aura.empty: 0>, <Aura.empty: 0>]\n",
      "\n",
      "mover =  1\n"
     ]
    },
    {
     "name": "stdin",
     "output_type": "stream",
     "text": [
      "your move: skill\n"
     ]
    },
    {
     "name": "stdout",
     "output_type": "stream",
     "text": [
      "hp distribution: \n",
      "p1 =  [7, 2, 0] \t\t p2 =  [0, 3, 0]\n",
      "p1 active =  1  p2 active =  1\n",
      "p1 end =  False p2 end =  False\n",
      "p1 aura =  [<Aura.pyro: 1>, <Aura.empty: 0>, <Aura.died: 9>]  p2 aura =  [<Aura.died: 9>, <Aura.pyro: 1>, <Aura.died: 9>]\n",
      "\n",
      "mover =  2\n",
      "scores =  [-9.6, -4.6, -12.6]\n",
      "move =  UseKit(player_id=2, dice_pattern=DicePattern(pyro=0, cryo=0, hydro=0, electro=0, dendro=0, anemo=0, geo=0, black=0, white=0, omni=3), real_dice_pattern=DicePattern(pyro=0, cryo=0, hydro=0, electro=0, dendro=0, anemo=0, geo=0, black=0, white=0, omni=3), dice_instance=DiceInstance(omni=3, pyro=0, cryo=0, hydro=0, electro=0, dendro=0, anemo=0, geo=0), kit='na')\n",
      "depth = 16, total nodes = 10737, score = -4.6\n",
      "hp distribution: \n",
      "p1 =  [7, 0, 0] \t\t p2 =  [0, 3, 0]\n",
      "p1 active =  0  p2 active =  1\n",
      "p1 end =  False p2 end =  False\n",
      "p1 aura =  [<Aura.pyro: 1>, <Aura.died: 9>, <Aura.died: 9>]  p2 aura =  [<Aura.died: 9>, <Aura.pyro: 1>, <Aura.died: 9>]\n",
      "\n",
      "mover =  1\n"
     ]
    },
    {
     "name": "stdin",
     "output_type": "stream",
     "text": [
      "your move: burst\n"
     ]
    },
    {
     "name": "stdout",
     "output_type": "stream",
     "text": [
      "hp distribution: \n",
      "p1 =  [7, 0, 0] \t\t p2 =  [0, 0, 0]\n",
      "p1 active =  0  p2 active =  1\n",
      "p1 end =  False p2 end =  False\n",
      "p1 aura =  [<Aura.pyro: 1>, <Aura.died: 9>, <Aura.died: 9>]  p2 aura =  [<Aura.died: 9>, <Aura.died: 9>, <Aura.died: 9>]\n",
      "\n"
     ]
    }
   ],
   "source": [
    "while not g.terminated():\n",
    "    player = g.mover\n",
    "    print(\"mover = \", g.mover)\n",
    "    if g.mover == 2:\n",
    "        #m, s, d = Master.search(5, g)\n",
    "        m, s, d = Rival.search(5, g)\n",
    "        #m = g.getIns(1, 'switch next')\n",
    "        g.proceed(m,False, Master.callback)\n",
    "        nodes = Rival.nodes\n",
    "        print(\"move = \", m)\n",
    "        print(\"depth = {}, total nodes = {}, score = {}\".format(d,nodes,s))\n",
    "    elif g.mover == 1:\n",
    "        m = input(\"your move:\")\n",
    "        m = g.getIns(1, m)\n",
    "        #m, s, d = Rival.search(5, g)\n",
    "        g.proceed(m,False, Rival.callback)\n",
    "        #print(\"move = \",m)\n",
    "        #nodes = Rival.nodes\n",
    "    else:\n",
    "        print(\"mover = \", g.mover)\n",
    "        break\n",
    "    #print(\"player {} makes a move {}\".format(player, m))\n",
    "    print(\"hp distribution: \")\n",
    "    print(\"p1 = \",[c.hp for c in g.g.p1.char],'\\t\\t','p2 = ', [c.hp for c in g.g.p2.char] )\n",
    "    print(\"p1 active = \",g.g.p1.history['active'], ' p2 active = ', g.g.p2.history['active'])\n",
    "    print(\"p1 end = \",g.g.p1.history['endround'], 'p2 end = ',g.g.p2.history['endround'])\n",
    "    print(\"p1 aura = \", g.g.p1.getAura(), ' p2 aura = ', g.g.p2.getAura())\n",
    "    print()"
   ]
  },
  {
   "cell_type": "code",
   "execution_count": null,
   "id": "3835a037-8215-4bad-ae84-523bd0a45965",
   "metadata": {},
   "outputs": [],
   "source": []
  }
 ],
 "metadata": {
  "kernelspec": {
   "display_name": "Python 3 (ipykernel)",
   "language": "python",
   "name": "python3"
  },
  "language_info": {
   "codemirror_mode": {
    "name": "ipython",
    "version": 3
   },
   "file_extension": ".py",
   "mimetype": "text/x-python",
   "name": "python",
   "nbconvert_exporter": "python",
   "pygments_lexer": "ipython3",
   "version": "3.8.8"
  }
 },
 "nbformat": 4,
 "nbformat_minor": 5
}
