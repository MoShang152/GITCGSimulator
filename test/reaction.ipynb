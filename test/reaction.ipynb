{
 "cells": [
  {
   "cell_type": "code",
   "execution_count": 1,
   "id": "e5c480fd-79d0-4b31-b8df-df34300ca1ab",
   "metadata": {
    "tags": []
   },
   "outputs": [],
   "source": [
    "import sys\n",
    "sys.path.append('..')"
   ]
  },
  {
   "cell_type": "code",
   "execution_count": 2,
   "id": "91dd901e-6c2a-40eb-bd2b-ff791a9f2148",
   "metadata": {
    "tags": []
   },
   "outputs": [],
   "source": [
    "from src.core.GameInstance import apply_react, reaction, GameInstance\n",
    "from src.core.GameState import Location, Aura, GameState, Box\n",
    "from src.game import activate\n",
    "b1 = Box(['Diluc','Diluc','Diluc'],[])\n",
    "b2 = Box(['Diluc','Diluc','Diluc'],[])\n",
    "state = GameState(b1,b2)\n",
    "state = activate(state)\n",
    "g = GameInstance(state)"
   ]
  },
  {
   "cell_type": "code",
   "execution_count": 3,
   "id": "de7866e4-a6d6-4afa-a86c-5d0fee9472f9",
   "metadata": {
    "tags": []
   },
   "outputs": [
    {
     "data": {
      "text/plain": [
       "([<Aura.empty: 0>],\n",
       " [Reaction(eid=1, source_id=-1, player_id=1, location=Location(player_id=1, area='Char', index=0, subarea='', offset=0), reaction_name='melt', trigger_element=<DMGType.cryo: 3>, triggered_element=<DMGType.pyro: 0>, dmg_list=[damage(attacker=Location(player_id=2, area='Char', index=0, subarea='', offset=0), target=Location(player_id=1, area='Char', index=0, subarea='', offset=0), dmgtype=<DMGType.pyro: 0>, dmgvalue=3, reason='self')])])"
      ]
     },
     "execution_count": 3,
     "metadata": {},
     "output_type": "execute_result"
    }
   ],
   "source": [
    "import src.core.Event as Event\n",
    "target = g.p1.char[0].loc\n",
    "attacker = g.p2.char[0].loc\n",
    "dmg = Event.damage(attacker, target, Event.DMGType.pyro, 1)\n",
    "reaction([Aura.cryo],g.p1.char[0].loc, dmg, 1, -1, g)"
   ]
  },
  {
   "cell_type": "code",
   "execution_count": 10,
   "id": "bea86ef5-c3b8-476c-869a-cdd140d2e97e",
   "metadata": {
    "tags": []
   },
   "outputs": [
    {
     "data": {
      "text/plain": [
       "([<Aura.empty: 0>],\n",
       " [Reaction(eid=2, source_id=-1, player_id=1, location=Location(player_id=0, area='Char', index=0, subarea='', offset=0), reaction_name='burning', trigger_element=<DMGType.dendro: 2>, triggered_element=<DMGType.pyro: 0>, dmg_list=[damage(attacker=Location(player_id=1, area='Char', index=0, subarea='', offset=0), target=Location(player_id=0, area='Char', index=0, subarea='', offset=0), dmgtype=<DMGType.pyro: 0>, dmgvalue=2, reason='self')])])"
      ]
     },
     "execution_count": 10,
     "metadata": {},
     "output_type": "execute_result"
    }
   ],
   "source": [
    "dmg = Event.damage(attacker, target, Event.DMGType.pyro, 1)\n",
    "reaction([Aura.dendro],g.p1.char[0].loc, dmg, 1, -1, g)"
   ]
  },
  {
   "cell_type": "code",
   "execution_count": 11,
   "id": "eef30105-14a6-4753-a57c-cb1aae92692c",
   "metadata": {
    "tags": []
   },
   "outputs": [
    {
     "data": {
      "text/plain": [
       "([<Aura.dendro: 5>], [])"
      ]
     },
     "execution_count": 11,
     "metadata": {},
     "output_type": "execute_result"
    }
   ],
   "source": [
    "dmg = Event.damage(attacker, target, Event.DMGType.dendro, 1)\n",
    "reaction([Aura.dendro],g.p1.char[0].loc, dmg, 1, -1, g)"
   ]
  },
  {
   "cell_type": "code",
   "execution_count": 12,
   "id": "3c3329d6-c2b9-4504-959f-7098e79b1574",
   "metadata": {
    "tags": []
   },
   "outputs": [
    {
     "name": "stdout",
     "output_type": "stream",
     "text": [
      "CPU times: total: 31.2 ms\n",
      "Wall time: 18 ms\n"
     ]
    }
   ],
   "source": [
    "%%time\n",
    "for i in range(1000):\n",
    "    dmg = Event.damage(attacker, target, Event.DMGType.hydro, 1)\n",
    "    reaction([Aura.electro],g.p1.char[0].loc, dmg, 1, -1, g)"
   ]
  },
  {
   "cell_type": "code",
   "execution_count": 17,
   "id": "d4d596fd-fb5d-4ec3-b5b3-defb9d7466c6",
   "metadata": {
    "tags": []
   },
   "outputs": [
    {
     "name": "stdout",
     "output_type": "stream",
     "text": [
      "CPU times: total: 31.2 ms\n",
      "Wall time: 25 ms\n"
     ]
    }
   ],
   "source": [
    "%%time\n",
    "\n",
    "for i in range(1000):\n",
    "    dmg = Event.damage(attacker, target, Event.DMGType.anemo, 1)\n",
    "    reaction([Aura.electro,Aura.cryo,Aura.empty],g.p1.char[0].loc, dmg, 1, -1, g)"
   ]
  },
  {
   "cell_type": "code",
   "execution_count": 5,
   "id": "e09c5cef-8823-424e-8aee-408c2b2634db",
   "metadata": {},
   "outputs": [
    {
     "name": "stdout",
     "output_type": "stream",
     "text": [
      "57.9 µs ± 3.28 µs per loop (mean ± std. dev. of 7 runs, 10,000 loops each)\n"
     ]
    }
   ],
   "source": [
    "%timeit g.export()"
   ]
  },
  {
   "cell_type": "code",
   "execution_count": 7,
   "id": "567baf80-1965-4049-9b12-d1f08cbe19e7",
   "metadata": {
    "tags": []
   },
   "outputs": [
    {
     "name": "stdout",
     "output_type": "stream",
     "text": [
      "174 µs ± 3.68 µs per loop (mean ± std. dev. of 7 runs, 10,000 loops each)\n"
     ]
    }
   ],
   "source": [
    "%timeit GameInstance(g.export())"
   ]
  },
  {
   "cell_type": "code",
   "execution_count": 9,
   "id": "8721e441-308c-4a52-bb1c-96c598f96ab7",
   "metadata": {
    "tags": []
   },
   "outputs": [
    {
     "name": "stdout",
     "output_type": "stream",
     "text": [
      "20.2 µs ± 426 ns per loop (mean ± std. dev. of 7 runs, 100,000 loops each)\n",
      "134 µs ± 21.6 µs per loop (mean ± std. dev. of 7 runs, 10,000 loops each)\n"
     ]
    }
   ],
   "source": [
    "import pickle\n",
    "from copy import deepcopy\n",
    "import random\n",
    "test_dict = {\n",
    "    random.randint(1,100):random.random() for i in range(1000)\n",
    "}\n",
    "\n",
    "%timeit pickle.loads(pickle.dumps(test_dict))\n",
    "%timeit deepcopy(test_dict)"
   ]
  },
  {
   "cell_type": "code",
   "execution_count": null,
   "id": "3d640653-1a0c-4fc9-832c-ba8aa5a14443",
   "metadata": {},
   "outputs": [],
   "source": [
    "## Deepcopy : 88.3 µs ± 1.57 µs per loop (mean ± std. dev. of 7 runs, 10,000 loops each)\n"
   ]
  },
  {
   "cell_type": "code",
   "execution_count": 8,
   "id": "d88cea92-6839-46e5-8a99-48e6fd69b9c5",
   "metadata": {
    "tags": []
   },
   "outputs": [],
   "source": [
    "class A:\n",
    "    def __init__(self):\n",
    "        a = 1\n",
    "class B:\n",
    "    def __init__(self, a):\n",
    "        self.a = a"
   ]
  },
  {
   "cell_type": "code",
   "execution_count": 9,
   "id": "94157dd9-42c3-4c3d-b726-66082c6f227d",
   "metadata": {
    "tags": []
   },
   "outputs": [],
   "source": [
    "a = A()\n",
    "b = B(a)"
   ]
  }
 ],
 "metadata": {
  "kernelspec": {
   "display_name": "Python 3 (ipykernel)",
   "language": "python",
   "name": "python3"
  },
  "language_info": {
   "codemirror_mode": {
    "name": "ipython",
    "version": 3
   },
   "file_extension": ".py",
   "mimetype": "text/x-python",
   "name": "python",
   "nbconvert_exporter": "python",
   "pygments_lexer": "ipython3",
   "version": "3.8.8"
  }
 },
 "nbformat": 4,
 "nbformat_minor": 5
}
