{
 "cells": [
  {
   "cell_type": "code",
   "execution_count": 1,
   "id": "16e5a653-440a-4938-a687-296dee4de8c9",
   "metadata": {
    "tags": []
   },
   "outputs": [],
   "source": [
    "import sys\n",
    "sys.path.append('../..')\n",
    "from src.core.GameInstance import apply_react, reaction, GameInstance\n",
    "from src.core.GameState import Location, Aura, GameState, Box\n",
    "from src.game import activate, Game\n",
    "b1 = Box(['Diluc','Sucrose','Diluc'],[])\n",
    "b2 = Box(['Sucrose','Diluc','Diluc'],[])\n",
    "state = GameState(b1,b2)\n",
    "g = Game()\n",
    "g.initiate(state)\n",
    "g.choose_active()"
   ]
  },
  {
   "cell_type": "code",
   "execution_count": 2,
   "id": "bec92d86-3130-4a1d-b5d4-23ab914f8b5f",
   "metadata": {
    "tags": []
   },
   "outputs": [],
   "source": [
    "g.g.p2.char[0].hp = 3"
   ]
  },
  {
   "cell_type": "code",
   "execution_count": 3,
   "id": "2a51cd5e-dd34-4c20-a125-fbcea4ee5ea7",
   "metadata": {
    "tags": []
   },
   "outputs": [],
   "source": [
    "from agent.alphabeta import Searcher\n",
    "S = Searcher(player = 1)\n",
    "m = g.getIns(1, 'skill')\n",
    "g.proceed(m, False, S.callback)"
   ]
  },
  {
   "cell_type": "code",
   "execution_count": 4,
   "id": "4105d373-a395-4d8d-b8ea-95bf782e688a",
   "metadata": {
    "tags": []
   },
   "outputs": [
    {
     "data": {
      "text/plain": [
       "{'dieThisRound': False,\n",
       " 'active': 1,\n",
       " 'plunge': True,\n",
       " 'player_id': 2,\n",
       " 'endround': False}"
      ]
     },
     "execution_count": 4,
     "metadata": {},
     "output_type": "execute_result"
    }
   ],
   "source": [
    "g.g.p2.history"
   ]
  },
  {
   "cell_type": "code",
   "execution_count": null,
   "id": "c5bc1782-733b-486d-a13d-daa9a3e808a5",
   "metadata": {},
   "outputs": [],
   "source": []
  }
 ],
 "metadata": {
  "kernelspec": {
   "display_name": "Python 3 (ipykernel)",
   "language": "python",
   "name": "python3"
  },
  "language_info": {
   "codemirror_mode": {
    "name": "ipython",
    "version": 3
   },
   "file_extension": ".py",
   "mimetype": "text/x-python",
   "name": "python",
   "nbconvert_exporter": "python",
   "pygments_lexer": "ipython3",
   "version": "3.8.8"
  }
 },
 "nbformat": 4,
 "nbformat_minor": 5
}
