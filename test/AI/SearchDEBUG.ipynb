{
 "cells": [
  {
   "cell_type": "code",
   "execution_count": 1,
   "id": "16e5a653-440a-4938-a687-296dee4de8c9",
   "metadata": {
    "tags": []
   },
   "outputs": [],
   "source": [
    "import sys\n",
    "sys.path.append('../..')\n",
    "from src.core.GameInstance import apply_react, reaction, GameInstance\n",
    "from src.core.GameState import Location, Aura, GameState, Box\n",
    "from src.game import activate, Game\n",
    "b1 = Box(['Diluc','Kaeya','Sucrose'],[])\n",
    "b2 = Box(['Diluc','Kaeya','Sucrose'],[])\n",
    "state = GameState(b1,b2)\n",
    "g = Game()\n",
    "g.initiate(state)"
   ]
  },
  {
   "cell_type": "code",
   "execution_count": 2,
   "id": "bec92d86-3130-4a1d-b5d4-23ab914f8b5f",
   "metadata": {
    "tags": []
   },
   "outputs": [],
   "source": [
    "from agent.alphabeta import Searcher\n",
    "from src.core.Event import Event, Death, Switch"
   ]
  },
  {
   "cell_type": "code",
   "execution_count": 3,
   "id": "2a51cd5e-dd34-4c20-a125-fbcea4ee5ea7",
   "metadata": {
    "tags": []
   },
   "outputs": [],
   "source": [
    "def input_callback(g, event, *args):\n",
    "    print(\"yes i am here\")\n",
    "    if isinstance(event, Death) and g.history['phase'] == 'deathswitch':\n",
    "        active = g.getactive(event.player_id)\n",
    "        direct = int(input('your switch(1 for next, -1 for previous):'))\n",
    "        return Switch(g.nexteid(), event.eid, event.player_id, active, direct)\n",
    "    else:\n",
    "        return Event(-1,-1,-1)"
   ]
  },
  {
   "cell_type": "code",
   "execution_count": 4,
   "id": "4105d373-a395-4d8d-b8ea-95bf782e688a",
   "metadata": {
    "tags": []
   },
   "outputs": [
    {
     "name": "stdin",
     "output_type": "stream",
     "text": [
      "your player_id is: 1\n"
     ]
    },
    {
     "name": "stdout",
     "output_type": "stream",
     "text": [
      "mover =  1\n"
     ]
    },
    {
     "name": "stdin",
     "output_type": "stream",
     "text": [
      "your move: skill\n"
     ]
    },
    {
     "name": "stdout",
     "output_type": "stream",
     "text": [
      "hp distribution: \n",
      "p1 =  [10, 10, 10] \t\t p2 =  [7, 10, 10]\n",
      "p1 active =  0  p2 active =  0\n",
      "p1 end =  False p2 end =  False\n",
      "p1 aura =  [<Aura.empty: 0>, <Aura.empty: 0>, <Aura.empty: 0>]  p2 aura =  [<Aura.pyro: 1>, <Aura.empty: 0>, <Aura.empty: 0>]\n",
      "\n",
      "mover =  2\n",
      "scores =  [20, 20, 20, 20, 20]\n",
      "move =  UseKit(player_id=2, dice_pattern=DicePattern(pyro=3, cryo=0, hydro=0, electro=0, dendro=0, anemo=0, geo=0, black=0, white=0, omni=0), real_dice_pattern=DicePattern(pyro=3, cryo=0, hydro=0, electro=0, dendro=0, anemo=0, geo=0, black=0, white=0, omni=0), dice_instance=DiceInstance(omni=3, pyro=0, cryo=0, hydro=0, electro=0, dendro=0, anemo=0, geo=0), kit='skill')\n",
      "depth = 10, total nodes = 12149, score = 20\n",
      "hp distribution: \n",
      "p1 =  [7, 10, 10] \t\t p2 =  [7, 10, 10]\n",
      "p1 active =  0  p2 active =  0\n",
      "p1 end =  False p2 end =  False\n",
      "p1 aura =  [<Aura.pyro: 1>, <Aura.empty: 0>, <Aura.empty: 0>]  p2 aura =  [<Aura.pyro: 1>, <Aura.empty: 0>, <Aura.empty: 0>]\n",
      "\n",
      "mover =  1\n"
     ]
    },
    {
     "name": "stdin",
     "output_type": "stream",
     "text": [
      "your move: switch next\n"
     ]
    },
    {
     "name": "stdout",
     "output_type": "stream",
     "text": [
      "hp distribution: \n",
      "p1 =  [7, 10, 10] \t\t p2 =  [7, 10, 10]\n",
      "p1 active =  1  p2 active =  0\n",
      "p1 end =  False p2 end =  False\n",
      "p1 aura =  [<Aura.pyro: 1>, <Aura.empty: 0>, <Aura.empty: 0>]  p2 aura =  [<Aura.pyro: 1>, <Aura.empty: 0>, <Aura.empty: 0>]\n",
      "\n",
      "mover =  2\n",
      "scores =  [20, 20, 20, 20, 20]\n",
      "move =  UseKit(player_id=2, dice_pattern=DicePattern(pyro=3, cryo=0, hydro=0, electro=0, dendro=0, anemo=0, geo=0, black=0, white=0, omni=0), real_dice_pattern=DicePattern(pyro=3, cryo=0, hydro=0, electro=0, dendro=0, anemo=0, geo=0, black=0, white=0, omni=0), dice_instance=DiceInstance(omni=3, pyro=0, cryo=0, hydro=0, electro=0, dendro=0, anemo=0, geo=0), kit='skill')\n",
      "depth = 10, total nodes = 9536, score = 20\n",
      "hp distribution: \n",
      "p1 =  [7, 7, 10] \t\t p2 =  [7, 10, 10]\n",
      "p1 active =  1  p2 active =  0\n",
      "p1 end =  False p2 end =  False\n",
      "p1 aura =  [<Aura.pyro: 1>, <Aura.pyro: 1>, <Aura.empty: 0>]  p2 aura =  [<Aura.pyro: 1>, <Aura.empty: 0>, <Aura.empty: 0>]\n",
      "\n",
      "mover =  1\n"
     ]
    },
    {
     "name": "stdin",
     "output_type": "stream",
     "text": [
      "your move: skill\n"
     ]
    },
    {
     "name": "stdout",
     "output_type": "stream",
     "text": [
      "hp distribution: \n",
      "p1 =  [7, 7, 10] \t\t p2 =  [2, 10, 10]\n",
      "p1 active =  1  p2 active =  0\n",
      "p1 end =  False p2 end =  False\n",
      "p1 aura =  [<Aura.pyro: 1>, <Aura.pyro: 1>, <Aura.empty: 0>]  p2 aura =  [<Aura.empty: 0>, <Aura.empty: 0>, <Aura.empty: 0>]\n",
      "\n",
      "mover =  2\n",
      "scores =  [0, 0, 0]\n",
      "move =  Switch(player_id=2, dice_pattern=DicePattern(pyro=0, cryo=0, hydro=0, electro=0, dendro=0, anemo=0, geo=0, black=0, white=0, omni=1), real_dice_pattern=DicePattern(pyro=0, cryo=0, hydro=0, electro=0, dendro=0, anemo=0, geo=0, black=0, white=0, omni=1), dice_instance=DiceInstance(omni=1, pyro=0, cryo=0, hydro=0, electro=0, dendro=0, anemo=0, geo=0), direction=1)\n",
      "depth = 9, total nodes = 6793, score = 0\n",
      "hp distribution: \n",
      "p1 =  [7, 7, 10] \t\t p2 =  [2, 10, 10]\n",
      "p1 active =  1  p2 active =  1\n",
      "p1 end =  False p2 end =  False\n",
      "p1 aura =  [<Aura.pyro: 1>, <Aura.pyro: 1>, <Aura.empty: 0>]  p2 aura =  [<Aura.empty: 0>, <Aura.empty: 0>, <Aura.empty: 0>]\n",
      "\n",
      "mover =  1\n"
     ]
    },
    {
     "name": "stdin",
     "output_type": "stream",
     "text": [
      "your move: end r\n"
     ]
    },
    {
     "name": "stdout",
     "output_type": "stream",
     "text": [
      "hp distribution: \n",
      "p1 =  [7, 7, 10] \t\t p2 =  [2, 10, 10]\n",
      "p1 active =  1  p2 active =  1\n",
      "p1 end =  True p2 end =  False\n",
      "p1 aura =  [<Aura.pyro: 1>, <Aura.pyro: 1>, <Aura.empty: 0>]  p2 aura =  [<Aura.empty: 0>, <Aura.empty: 0>, <Aura.empty: 0>]\n",
      "\n",
      "mover =  2\n",
      "scores =  [20, 20, 20]\n",
      "move =  Switch(player_id=2, dice_pattern=DicePattern(pyro=0, cryo=0, hydro=0, electro=0, dendro=0, anemo=0, geo=0, black=0, white=0, omni=1), real_dice_pattern=DicePattern(pyro=0, cryo=0, hydro=0, electro=0, dendro=0, anemo=0, geo=0, black=0, white=0, omni=1), dice_instance=DiceInstance(omni=1, pyro=0, cryo=0, hydro=0, electro=0, dendro=0, anemo=0, geo=0), direction=1)\n",
      "depth = 9, total nodes = 8339, score = 20\n",
      "hp distribution: \n",
      "p1 =  [7, 7, 10] \t\t p2 =  [2, 10, 10]\n",
      "p1 active =  1  p2 active =  2\n",
      "p1 end =  True p2 end =  False\n",
      "p1 aura =  [<Aura.pyro: 1>, <Aura.pyro: 1>, <Aura.empty: 0>]  p2 aura =  [<Aura.empty: 0>, <Aura.empty: 0>, <Aura.empty: 0>]\n",
      "\n",
      "mover =  2\n",
      "scores =  [19]\n",
      "move =  EndRound(player_id=2, dice_pattern=None, real_dice_pattern=None, dice_instance=None)\n",
      "depth = 10, total nodes = 11830, score = 19\n",
      "hp distribution: \n",
      "p1 =  [7, 7, 10] \t\t p2 =  [2, 10, 10]\n",
      "p1 active =  1  p2 active =  2\n",
      "p1 end =  False p2 end =  False\n",
      "p1 aura =  [<Aura.pyro: 1>, <Aura.pyro: 1>, <Aura.empty: 0>]  p2 aura =  [<Aura.empty: 0>, <Aura.empty: 0>, <Aura.empty: 0>]\n",
      "\n",
      "mover =  1\n"
     ]
    },
    {
     "name": "stdin",
     "output_type": "stream",
     "text": [
      "your move: switch next\n"
     ]
    },
    {
     "name": "stdout",
     "output_type": "stream",
     "text": [
      "hp distribution: \n",
      "p1 =  [7, 7, 10] \t\t p2 =  [2, 10, 10]\n",
      "p1 active =  2  p2 active =  2\n",
      "p1 end =  False p2 end =  False\n",
      "p1 aura =  [<Aura.pyro: 1>, <Aura.pyro: 1>, <Aura.empty: 0>]  p2 aura =  [<Aura.empty: 0>, <Aura.empty: 0>, <Aura.empty: 0>]\n",
      "\n",
      "mover =  2\n",
      "scores =  [0, 0, 8, 8, 8]\n",
      "move =  Switch(player_id=2, dice_pattern=DicePattern(pyro=0, cryo=0, hydro=0, electro=0, dendro=0, anemo=0, geo=0, black=0, white=0, omni=1), real_dice_pattern=DicePattern(pyro=0, cryo=0, hydro=0, electro=0, dendro=0, anemo=0, geo=0, black=0, white=0, omni=1), dice_instance=DiceInstance(omni=1, pyro=0, cryo=0, hydro=0, electro=0, dendro=0, anemo=0, geo=0), direction=1)\n",
      "depth = 9, total nodes = 14560, score = 8\n",
      "hp distribution: \n",
      "p1 =  [7, 7, 10] \t\t p2 =  [2, 10, 10]\n",
      "p1 active =  2  p2 active =  0\n",
      "p1 end =  False p2 end =  False\n",
      "p1 aura =  [<Aura.pyro: 1>, <Aura.pyro: 1>, <Aura.empty: 0>]  p2 aura =  [<Aura.empty: 0>, <Aura.empty: 0>, <Aura.empty: 0>]\n",
      "\n",
      "mover =  1\n"
     ]
    },
    {
     "name": "stdin",
     "output_type": "stream",
     "text": [
      "your move: switch previous\n"
     ]
    },
    {
     "name": "stdout",
     "output_type": "stream",
     "text": [
      "hp distribution: \n",
      "p1 =  [7, 7, 10] \t\t p2 =  [2, 10, 10]\n",
      "p1 active =  1  p2 active =  0\n",
      "p1 end =  False p2 end =  False\n",
      "p1 aura =  [<Aura.pyro: 1>, <Aura.pyro: 1>, <Aura.empty: 0>]  p2 aura =  [<Aura.empty: 0>, <Aura.empty: 0>, <Aura.empty: 0>]\n",
      "\n",
      "mover =  2\n",
      "scores =  [17, 17, 17, 17, 17]\n",
      "move =  UseKit(player_id=2, dice_pattern=DicePattern(pyro=3, cryo=0, hydro=0, electro=0, dendro=0, anemo=0, geo=0, black=0, white=0, omni=0), real_dice_pattern=DicePattern(pyro=3, cryo=0, hydro=0, electro=0, dendro=0, anemo=0, geo=0, black=0, white=0, omni=0), dice_instance=DiceInstance(omni=3, pyro=0, cryo=0, hydro=0, electro=0, dendro=0, anemo=0, geo=0), kit='skill')\n",
      "depth = 9, total nodes = 14842, score = 17\n",
      "hp distribution: \n",
      "p1 =  [7, 4, 10] \t\t p2 =  [2, 10, 10]\n",
      "p1 active =  1  p2 active =  0\n",
      "p1 end =  False p2 end =  False\n",
      "p1 aura =  [<Aura.pyro: 1>, <Aura.pyro: 1>, <Aura.empty: 0>]  p2 aura =  [<Aura.empty: 0>, <Aura.empty: 0>, <Aura.empty: 0>]\n",
      "\n",
      "mover =  1\n"
     ]
    },
    {
     "name": "stdin",
     "output_type": "stream",
     "text": [
      "your move: skill\n"
     ]
    },
    {
     "name": "stdout",
     "output_type": "stream",
     "text": [
      "hp distribution: \n",
      "p1 =  [7, 4, 10] \t\t p2 =  [0, 10, 10]\n",
      "p1 active =  1  p2 active =  1\n",
      "p1 end =  False p2 end =  False\n",
      "p1 aura =  [<Aura.pyro: 1>, <Aura.pyro: 1>, <Aura.empty: 0>]  p2 aura =  [<Aura.died: 9>, <Aura.empty: 0>, <Aura.empty: 0>]\n",
      "\n",
      "mover =  2\n",
      "scores =  [-8, -8, 12, 12]\n",
      "move =  Switch(player_id=2, dice_pattern=DicePattern(pyro=0, cryo=0, hydro=0, electro=0, dendro=0, anemo=0, geo=0, black=0, white=0, omni=1), real_dice_pattern=DicePattern(pyro=0, cryo=0, hydro=0, electro=0, dendro=0, anemo=0, geo=0, black=0, white=0, omni=1), dice_instance=DiceInstance(omni=1, pyro=0, cryo=0, hydro=0, electro=0, dendro=0, anemo=0, geo=0), direction=1)\n",
      "depth = 11, total nodes = 15708, score = 12\n",
      "hp distribution: \n",
      "p1 =  [7, 4, 10] \t\t p2 =  [0, 10, 10]\n",
      "p1 active =  1  p2 active =  2\n",
      "p1 end =  False p2 end =  False\n",
      "p1 aura =  [<Aura.pyro: 1>, <Aura.pyro: 1>, <Aura.empty: 0>]  p2 aura =  [<Aura.died: 9>, <Aura.empty: 0>, <Aura.empty: 0>]\n",
      "\n",
      "mover =  1\n"
     ]
    },
    {
     "name": "stdin",
     "output_type": "stream",
     "text": [
      "your move: skill\n"
     ]
    },
    {
     "name": "stdout",
     "output_type": "stream",
     "text": [
      "hp distribution: \n",
      "p1 =  [7, 4, 10] \t\t p2 =  [0, 10, 7]\n",
      "p1 active =  1  p2 active =  2\n",
      "p1 end =  False p2 end =  False\n",
      "p1 aura =  [<Aura.pyro: 1>, <Aura.pyro: 1>, <Aura.empty: 0>]  p2 aura =  [<Aura.died: 9>, <Aura.empty: 0>, <Aura.cryo: 2>]\n",
      "\n",
      "mover =  2\n",
      "scores =  [6, 6, 6, 6]\n",
      "move =  UseKit(player_id=2, dice_pattern=DicePattern(pyro=0, cryo=0, hydro=0, electro=0, dendro=0, anemo=3, geo=0, black=0, white=0, omni=0), real_dice_pattern=DicePattern(pyro=0, cryo=0, hydro=0, electro=0, dendro=0, anemo=3, geo=0, black=0, white=0, omni=0), dice_instance=DiceInstance(omni=3, pyro=0, cryo=0, hydro=0, electro=0, dendro=0, anemo=0, geo=0), kit='skill')\n",
      "depth = 11, total nodes = 10238, score = 6\n",
      "hp distribution: \n",
      "p1 =  [6, 1, 9] \t\t p2 =  [0, 10, 7]\n",
      "p1 active =  0  p2 active =  2\n",
      "p1 end =  False p2 end =  False\n",
      "p1 aura =  [<Aura.pyro: 1>, <Aura.empty: 0>, <Aura.pyro: 1>]  p2 aura =  [<Aura.died: 9>, <Aura.empty: 0>, <Aura.cryo: 2>]\n",
      "\n",
      "mover =  1\n"
     ]
    },
    {
     "name": "stdin",
     "output_type": "stream",
     "text": [
      "your move: end r\n"
     ]
    },
    {
     "name": "stdout",
     "output_type": "stream",
     "text": [
      "hp distribution: \n",
      "p1 =  [6, 1, 9] \t\t p2 =  [0, 10, 7]\n",
      "p1 active =  0  p2 active =  2\n",
      "p1 end =  True p2 end =  False\n",
      "p1 aura =  [<Aura.pyro: 1>, <Aura.empty: 0>, <Aura.pyro: 1>]  p2 aura =  [<Aura.died: 9>, <Aura.empty: 0>, <Aura.cryo: 2>]\n",
      "\n",
      "mover =  2\n",
      "scores =  [-5]\n",
      "move =  EndRound(player_id=2, dice_pattern=None, real_dice_pattern=None, dice_instance=None)\n",
      "depth = 11, total nodes = 12917, score = -5\n",
      "hp distribution: \n",
      "p1 =  [6, 1, 9] \t\t p2 =  [0, 10, 7]\n",
      "p1 active =  0  p2 active =  2\n",
      "p1 end =  False p2 end =  False\n",
      "p1 aura =  [<Aura.pyro: 1>, <Aura.empty: 0>, <Aura.pyro: 1>]  p2 aura =  [<Aura.died: 9>, <Aura.empty: 0>, <Aura.cryo: 2>]\n",
      "\n",
      "mover =  1\n"
     ]
    },
    {
     "name": "stdin",
     "output_type": "stream",
     "text": [
      "your move: switch next\n"
     ]
    },
    {
     "name": "stdout",
     "output_type": "stream",
     "text": [
      "hp distribution: \n",
      "p1 =  [6, 1, 9] \t\t p2 =  [0, 10, 7]\n",
      "p1 active =  1  p2 active =  2\n",
      "p1 end =  False p2 end =  False\n",
      "p1 aura =  [<Aura.pyro: 1>, <Aura.empty: 0>, <Aura.pyro: 1>]  p2 aura =  [<Aura.died: 9>, <Aura.empty: 0>, <Aura.cryo: 2>]\n",
      "\n",
      "mover =  2\n",
      "scores =  [-7, 10, 10, 10]\n",
      "move =  UseKit(player_id=2, dice_pattern=DicePattern(pyro=0, cryo=0, hydro=0, electro=0, dendro=0, anemo=1, geo=0, black=2, white=0, omni=0), real_dice_pattern=DicePattern(pyro=0, cryo=0, hydro=0, electro=0, dendro=0, anemo=1, geo=0, black=2, white=0, omni=0), dice_instance=DiceInstance(omni=3, pyro=0, cryo=0, hydro=0, electro=0, dendro=0, anemo=0, geo=0), kit='na')\n",
      "yes i am here\n"
     ]
    },
    {
     "name": "stdin",
     "output_type": "stream",
     "text": [
      "your switch(1 for next, -1 for previous): 1\n"
     ]
    },
    {
     "name": "stdout",
     "output_type": "stream",
     "text": [
      "depth = 10, total nodes = 10681, score = 10\n",
      "hp distribution: \n",
      "p1 =  [6, 0, 9] \t\t p2 =  [0, 10, 7]\n",
      "p1 active =  2  p2 active =  2\n",
      "p1 end =  False p2 end =  False\n",
      "p1 aura =  [<Aura.pyro: 1>, <Aura.died: 9>, <Aura.pyro: 1>]  p2 aura =  [<Aura.died: 9>, <Aura.empty: 0>, <Aura.cryo: 2>]\n",
      "\n",
      "mover =  1\n"
     ]
    },
    {
     "name": "stdin",
     "output_type": "stream",
     "text": [
      "your move: skill\n"
     ]
    },
    {
     "name": "stdout",
     "output_type": "stream",
     "text": [
      "hp distribution: \n",
      "p1 =  [6, 0, 9] \t\t p2 =  [0, 9, 4]\n",
      "p1 active =  2  p2 active =  1\n",
      "p1 end =  False p2 end =  False\n",
      "p1 aura =  [<Aura.pyro: 1>, <Aura.died: 9>, <Aura.pyro: 1>]  p2 aura =  [<Aura.died: 9>, <Aura.cryo: 2>, <Aura.empty: 0>]\n",
      "\n",
      "mover =  2\n",
      "scores =  [-20, -20, -3, -3]\n",
      "move =  Switch(player_id=2, dice_pattern=DicePattern(pyro=0, cryo=0, hydro=0, electro=0, dendro=0, anemo=0, geo=0, black=0, white=0, omni=1), real_dice_pattern=DicePattern(pyro=0, cryo=0, hydro=0, electro=0, dendro=0, anemo=0, geo=0, black=0, white=0, omni=1), dice_instance=DiceInstance(omni=1, pyro=0, cryo=0, hydro=0, electro=0, dendro=0, anemo=0, geo=0), direction=1)\n",
      "depth = 11, total nodes = 15527, score = -3\n",
      "hp distribution: \n",
      "p1 =  [6, 0, 9] \t\t p2 =  [0, 9, 4]\n",
      "p1 active =  2  p2 active =  2\n",
      "p1 end =  False p2 end =  False\n",
      "p1 aura =  [<Aura.pyro: 1>, <Aura.died: 9>, <Aura.pyro: 1>]  p2 aura =  [<Aura.died: 9>, <Aura.cryo: 2>, <Aura.empty: 0>]\n",
      "\n",
      "mover =  1\n"
     ]
    },
    {
     "name": "stdin",
     "output_type": "stream",
     "text": [
      "your move: skill\n"
     ]
    },
    {
     "name": "stdout",
     "output_type": "stream",
     "text": [
      "hp distribution: \n",
      "p1 =  [6, 0, 9] \t\t p2 =  [0, 9, 1]\n",
      "p1 active =  2  p2 active =  1\n",
      "p1 end =  False p2 end =  False\n",
      "p1 aura =  [<Aura.pyro: 1>, <Aura.died: 9>, <Aura.pyro: 1>]  p2 aura =  [<Aura.died: 9>, <Aura.cryo: 2>, <Aura.empty: 0>]\n",
      "\n",
      "mover =  2\n",
      "scores =  [-23, -23, 2, 2]\n",
      "move =  Switch(player_id=2, dice_pattern=DicePattern(pyro=0, cryo=0, hydro=0, electro=0, dendro=0, anemo=0, geo=0, black=0, white=0, omni=1), real_dice_pattern=DicePattern(pyro=0, cryo=0, hydro=0, electro=0, dendro=0, anemo=0, geo=0, black=0, white=0, omni=1), dice_instance=DiceInstance(omni=1, pyro=0, cryo=0, hydro=0, electro=0, dendro=0, anemo=0, geo=0), direction=1)\n",
      "depth = 10, total nodes = 9355, score = 2\n",
      "hp distribution: \n",
      "p1 =  [6, 0, 9] \t\t p2 =  [0, 9, 1]\n",
      "p1 active =  2  p2 active =  2\n",
      "p1 end =  False p2 end =  False\n",
      "p1 aura =  [<Aura.pyro: 1>, <Aura.died: 9>, <Aura.pyro: 1>]  p2 aura =  [<Aura.died: 9>, <Aura.cryo: 2>, <Aura.empty: 0>]\n",
      "\n",
      "mover =  1\n"
     ]
    },
    {
     "name": "stdin",
     "output_type": "stream",
     "text": [
      "your move: end r\n"
     ]
    },
    {
     "name": "stdout",
     "output_type": "stream",
     "text": [
      "hp distribution: \n",
      "p1 =  [6, 0, 9] \t\t p2 =  [0, 9, 1]\n",
      "p1 active =  2  p2 active =  2\n",
      "p1 end =  True p2 end =  False\n",
      "p1 aura =  [<Aura.pyro: 1>, <Aura.died: 9>, <Aura.pyro: 1>]  p2 aura =  [<Aura.died: 9>, <Aura.cryo: 2>, <Aura.empty: 0>]\n",
      "\n",
      "mover =  2\n",
      "scores =  [9, 9, 9, 9, 9]\n",
      "move =  UseKit(player_id=2, dice_pattern=DicePattern(pyro=0, cryo=0, hydro=0, electro=0, dendro=0, anemo=3, geo=0, black=0, white=0, omni=0), real_dice_pattern=DicePattern(pyro=0, cryo=0, hydro=0, electro=0, dendro=0, anemo=3, geo=0, black=0, white=0, omni=0), dice_instance=DiceInstance(omni=3, pyro=0, cryo=0, hydro=0, electro=0, dendro=0, anemo=0, geo=0), kit='burst')\n",
      "depth = 10, total nodes = 9802, score = 9\n",
      "hp distribution: \n",
      "p1 =  [5, 0, 8] \t\t p2 =  [0, 9, 1]\n",
      "p1 active =  2  p2 active =  2\n",
      "p1 end =  True p2 end =  False\n",
      "p1 aura =  [<Aura.pyro: 1>, <Aura.died: 9>, <Aura.empty: 0>]  p2 aura =  [<Aura.died: 9>, <Aura.cryo: 2>, <Aura.empty: 0>]\n",
      "\n",
      "mover =  2\n",
      "scores =  [1000]\n",
      "move =  EndRound(player_id=2, dice_pattern=None, real_dice_pattern=None, dice_instance=None)\n",
      "depth = 12, total nodes = 8155, score = 1000\n",
      "hp distribution: \n",
      "p1 =  [5, 0, 6] \t\t p2 =  [0, 9, 1]\n",
      "p1 active =  2  p2 active =  2\n",
      "p1 end =  False p2 end =  False\n",
      "p1 aura =  [<Aura.pyro: 1>, <Aura.died: 9>, <Aura.empty: 0>]  p2 aura =  [<Aura.died: 9>, <Aura.cryo: 2>, <Aura.empty: 0>]\n",
      "\n",
      "mover =  1\n"
     ]
    },
    {
     "name": "stdin",
     "output_type": "stream",
     "text": [
      "your move: burst\n"
     ]
    },
    {
     "name": "stdout",
     "output_type": "stream",
     "text": [
      "hp distribution: \n",
      "p1 =  [5, 0, 6] \t\t p2 =  [0, 9, 0]\n",
      "p1 active =  2  p2 active =  1\n",
      "p1 end =  False p2 end =  False\n",
      "p1 aura =  [<Aura.pyro: 1>, <Aura.died: 9>, <Aura.empty: 0>]  p2 aura =  [<Aura.died: 9>, <Aura.cryo: 2>, <Aura.died: 9>]\n",
      "\n",
      "mover =  2\n",
      "scores =  [1000, 1000, 1000]\n",
      "move =  UseKit(player_id=2, dice_pattern=DicePattern(pyro=0, cryo=3, hydro=0, electro=0, dendro=0, anemo=0, geo=0, black=0, white=0, omni=0), real_dice_pattern=DicePattern(pyro=0, cryo=3, hydro=0, electro=0, dendro=0, anemo=0, geo=0, black=0, white=0, omni=0), dice_instance=DiceInstance(omni=3, pyro=0, cryo=0, hydro=0, electro=0, dendro=0, anemo=0, geo=0), kit='skill')\n",
      "depth = 18, total nodes = 5222, score = 1000\n",
      "hp distribution: \n",
      "p1 =  [5, 0, 3] \t\t p2 =  [0, 9, 0]\n",
      "p1 active =  2  p2 active =  1\n",
      "p1 end =  False p2 end =  False\n",
      "p1 aura =  [<Aura.pyro: 1>, <Aura.died: 9>, <Aura.cryo: 2>]  p2 aura =  [<Aura.died: 9>, <Aura.cryo: 2>, <Aura.died: 9>]\n",
      "\n",
      "mover =  1\n"
     ]
    },
    {
     "name": "stdin",
     "output_type": "stream",
     "text": [
      "your move: skill\n"
     ]
    },
    {
     "name": "stdout",
     "output_type": "stream",
     "text": [
      "hp distribution: \n",
      "p1 =  [5, 0, 3] \t\t p2 =  [0, 6, 0]\n",
      "p1 active =  2  p2 active =  1\n",
      "p1 end =  False p2 end =  False\n",
      "p1 aura =  [<Aura.pyro: 1>, <Aura.died: 9>, <Aura.cryo: 2>]  p2 aura =  [<Aura.died: 9>, <Aura.empty: 0>, <Aura.died: 9>]\n",
      "\n",
      "mover =  2\n",
      "scores =  [1000, 1000, 1000]\n",
      "move =  UseKit(player_id=2, dice_pattern=DicePattern(pyro=0, cryo=3, hydro=0, electro=0, dendro=0, anemo=0, geo=0, black=0, white=0, omni=0), real_dice_pattern=DicePattern(pyro=0, cryo=3, hydro=0, electro=0, dendro=0, anemo=0, geo=0, black=0, white=0, omni=0), dice_instance=DiceInstance(omni=3, pyro=0, cryo=0, hydro=0, electro=0, dendro=0, anemo=0, geo=0), kit='skill')\n",
      "yes i am here\n"
     ]
    },
    {
     "name": "stdin",
     "output_type": "stream",
     "text": [
      "your switch(1 for next, -1 for previous): -1\n"
     ]
    },
    {
     "name": "stdout",
     "output_type": "stream",
     "text": [
      "depth = 19, total nodes = 1933, score = 1000\n",
      "hp distribution: \n",
      "p1 =  [5, 0, 0] \t\t p2 =  [0, 6, 0]\n",
      "p1 active =  0  p2 active =  1\n",
      "p1 end =  False p2 end =  False\n",
      "p1 aura =  [<Aura.pyro: 1>, <Aura.died: 9>, <Aura.died: 9>]  p2 aura =  [<Aura.died: 9>, <Aura.empty: 0>, <Aura.died: 9>]\n",
      "\n",
      "mover =  1\n"
     ]
    },
    {
     "name": "stdin",
     "output_type": "stream",
     "text": [
      "your move: end r\n"
     ]
    },
    {
     "name": "stdout",
     "output_type": "stream",
     "text": [
      "hp distribution: \n",
      "p1 =  [5, 0, 0] \t\t p2 =  [0, 6, 0]\n",
      "p1 active =  0  p2 active =  1\n",
      "p1 end =  True p2 end =  False\n",
      "p1 aura =  [<Aura.pyro: 1>, <Aura.died: 9>, <Aura.died: 9>]  p2 aura =  [<Aura.died: 9>, <Aura.empty: 0>, <Aura.died: 9>]\n",
      "\n",
      "mover =  2\n",
      "scores =  [1000]\n",
      "move =  EndRound(player_id=2, dice_pattern=None, real_dice_pattern=None, dice_instance=None)\n",
      "depth = 19, total nodes = 386, score = 1000\n",
      "hp distribution: \n",
      "p1 =  [3, 0, 0] \t\t p2 =  [0, 4, 0]\n",
      "p1 active =  0  p2 active =  1\n",
      "p1 end =  False p2 end =  False\n",
      "p1 aura =  [<Aura.empty: 0>, <Aura.died: 9>, <Aura.died: 9>]  p2 aura =  [<Aura.died: 9>, <Aura.empty: 0>, <Aura.died: 9>]\n",
      "\n",
      "mover =  1\n"
     ]
    },
    {
     "name": "stdin",
     "output_type": "stream",
     "text": [
      "your move: skill\n"
     ]
    },
    {
     "name": "stdout",
     "output_type": "stream",
     "text": [
      "hp distribution: \n",
      "p1 =  [3, 0, 0] \t\t p2 =  [0, 1, 0]\n",
      "p1 active =  0  p2 active =  1\n",
      "p1 end =  False p2 end =  False\n",
      "p1 aura =  [<Aura.empty: 0>, <Aura.died: 9>, <Aura.died: 9>]  p2 aura =  [<Aura.died: 9>, <Aura.pyro: 1>, <Aura.died: 9>]\n",
      "\n",
      "mover =  2\n",
      "scores =  [-1000, 1000, 1000, 1000]\n",
      "move =  UseKit(player_id=2, dice_pattern=DicePattern(pyro=0, cryo=3, hydro=0, electro=0, dendro=0, anemo=0, geo=0, black=0, white=0, omni=0), real_dice_pattern=DicePattern(pyro=0, cryo=3, hydro=0, electro=0, dendro=0, anemo=0, geo=0, black=0, white=0, omni=0), dice_instance=DiceInstance(omni=3, pyro=0, cryo=0, hydro=0, electro=0, dendro=0, anemo=0, geo=0), kit='skill')\n",
      "depth = 19, total nodes = 202, score = 1000\n",
      "hp distribution: \n",
      "p1 =  [0, 0, 0] \t\t p2 =  [0, 1, 0]\n",
      "p1 active =  0  p2 active =  1\n",
      "p1 end =  False p2 end =  False\n",
      "p1 aura =  [<Aura.died: 9>, <Aura.died: 9>, <Aura.died: 9>]  p2 aura =  [<Aura.died: 9>, <Aura.pyro: 1>, <Aura.died: 9>]\n",
      "\n"
     ]
    }
   ],
   "source": [
    "player = int(input('your player_id is:'))\n",
    "#player = 1\n",
    "Master = Searcher(3 - player)\n",
    "Rival = Searcher(player)\n",
    "def callback(g, event, *args):\n",
    "    if event.player_id == player:\n",
    "        return input_callback(g,event,*args)\n",
    "        #return Rival.callback(g,event, *args)\n",
    "    else:\n",
    "        return Master.callback(g,event,*args)\n",
    "while not g.terminated():\n",
    "    #player = 1\n",
    "    print(\"mover = \", g.mover)\n",
    "    if g.mover != player:\n",
    "        m, s, d = Master.search(5, g)\n",
    "        #m, s, d = Rival.search(5, g)\n",
    "        #m = g.getIns(1, 'switch next')\n",
    "        print(\"move = \", m)\n",
    "        g.proceed(m,False, callback)\n",
    "        nodes = Master.nodes\n",
    "        print(\"depth = {}, total nodes = {}, score = {}\".format(d,nodes,s))\n",
    "    elif g.mover == player:\n",
    "        m = input(\"your move:\")\n",
    "        m = g.getIns(player, m)\n",
    "        #m, s, d = Rival.search(5, g)\n",
    "        g.proceed(m,False, callback)\n",
    "        #print(\"move = \",m)\n",
    "        #nodes = Rival.nodes\n",
    "        #print(\"depth = {}, total nodes = {}, score = {}\".format(d,nodes,s))\n",
    "    else:\n",
    "        print(\"mover = \", g.mover)\n",
    "        break\n",
    "    #print(\"player {} makes a move {}\".format(player, m))\n",
    "    print(\"hp distribution: \")\n",
    "    print(\"p1 = \",[c.hp for c in g.g.p1.char],'\\t\\t','p2 = ', [c.hp for c in g.g.p2.char] )\n",
    "    print(\"p1 active = \",g.g.p1.history['active'], ' p2 active = ', g.g.p2.history['active'])\n",
    "    print(\"p1 end = \",g.g.p1.history['endround'], 'p2 end = ',g.g.p2.history['endround'])\n",
    "    print(\"p1 aura = \", g.g.p1.getAura(), ' p2 aura = ', g.g.p2.getAura())\n",
    "    print()"
   ]
  },
  {
   "cell_type": "code",
   "execution_count": null,
   "id": "c5bc1782-733b-486d-a13d-daa9a3e808a5",
   "metadata": {},
   "outputs": [],
   "source": []
  }
 ],
 "metadata": {
  "kernelspec": {
   "display_name": "Python 3 (ipykernel)",
   "language": "python",
   "name": "python3"
  },
  "language_info": {
   "codemirror_mode": {
    "name": "ipython",
    "version": 3
   },
   "file_extension": ".py",
   "mimetype": "text/x-python",
   "name": "python",
   "nbconvert_exporter": "python",
   "pygments_lexer": "ipython3",
   "version": "3.8.8"
  }
 },
 "nbformat": 4,
 "nbformat_minor": 5
}
