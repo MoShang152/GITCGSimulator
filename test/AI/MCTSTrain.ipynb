{
 "cells": [
  {
   "cell_type": "code",
   "execution_count": 1,
   "id": "ecc02248-7f71-4cba-8364-70069fdf1e5c",
   "metadata": {
    "tags": []
   },
   "outputs": [],
   "source": [
    "import sys\n",
    "sys.path.append('../..')\n",
    "from src.core.GameInstance import apply_react, reaction, GameInstance\n",
    "from src.core.GameState import Location, Aura, GameState, Box\n",
    "from src.game import activate, Game, fake_callback\n",
    "b1 = Box(['Fischl','Ayaka','Sucrose'],[])\n",
    "b2 = Box(['Diluc','Kaeya','Sucrose'],[])\n",
    "state = GameState(b1,b2)\n",
    "g = Game(state)\n",
    "g.initiate(0, 0, fake_callback)\n",
    "from agent.alphabeta import Searcher\n",
    "from src.core.Event import Event, Death, Switch\n",
    "from agent.MCTS import *"
   ]
  },
  {
   "cell_type": "code",
   "execution_count": 2,
   "id": "c594afa1-4540-498f-82f0-1c997a356f65",
   "metadata": {
    "tags": []
   },
   "outputs": [],
   "source": [
    "net = CatNet()"
   ]
  },
  {
   "cell_type": "code",
   "execution_count": 3,
   "id": "b50dfbd8-cc77-4388-9f48-45bf88aa96bc",
   "metadata": {
    "tags": []
   },
   "outputs": [
    {
     "data": {
      "text/plain": [
       "CatNet(\n",
       "  (hid): Sequential(\n",
       "    (0): Linear(in_features=190, out_features=380, bias=True)\n",
       "    (1): ReLU()\n",
       "    (2): BatchNorm1d(380, eps=1e-05, momentum=0.1, affine=True, track_running_stats=True)\n",
       "    (3): Linear(in_features=380, out_features=190, bias=True)\n",
       "    (4): ReLU()\n",
       "    (5): BatchNorm1d(190, eps=1e-05, momentum=0.1, affine=True, track_running_stats=True)\n",
       "    (6): Linear(in_features=190, out_features=50, bias=True)\n",
       "    (7): ReLU()\n",
       "    (8): BatchNorm1d(50, eps=1e-05, momentum=0.1, affine=True, track_running_stats=True)\n",
       "  )\n",
       "  (policy_head): Sequential(\n",
       "    (0): Linear(in_features=50, out_features=6, bias=True)\n",
       "    (1): LogSoftmax(dim=-1)\n",
       "  )\n",
       "  (value_head): Sequential(\n",
       "    (0): Linear(in_features=50, out_features=1, bias=True)\n",
       "    (1): Tanh()\n",
       "  )\n",
       ")"
      ]
     },
     "execution_count": 3,
     "metadata": {},
     "output_type": "execute_result"
    }
   ],
   "source": [
    "net.to('cuda')"
   ]
  },
  {
   "cell_type": "code",
   "execution_count": 4,
   "id": "5c669d98-13d9-46ca-9ef4-d1c9bb58206f",
   "metadata": {
    "tags": []
   },
   "outputs": [],
   "source": [
    "import torch\n",
    "checkpoint = torch.load('./catnet.pt')\n",
    "net.load_state_dict(checkpoint['model'])\n",
    "mcts = MCTS(net,'../../agent/ids.json')\n",
    "coach = Trainer(mcts, '.')\n",
    "randomplayer = RandomPlayer()"
   ]
  },
  {
   "cell_type": "code",
   "execution_count": 5,
   "id": "0b258e02-ec67-435e-977d-500fc2f32bdd",
   "metadata": {
    "tags": []
   },
   "outputs": [],
   "source": [
    "#coach.train(20, 10, sims = 20)\n",
    "#coach.test(Searcher(), 20, time_per_step = 0.05, verbose = True)"
   ]
  },
  {
   "cell_type": "code",
   "execution_count": null,
   "id": "48bb1851-5d07-402a-88d9-34b2bc2cbcec",
   "metadata": {
    "tags": []
   },
   "outputs": [
    {
     "name": "stdin",
     "output_type": "stream",
     "text": [
      "your player_id is: 1\n"
     ]
    },
    {
     "name": "stdout",
     "output_type": "stream",
     "text": [
      "mover =  1\n"
     ]
    },
    {
     "name": "stdin",
     "output_type": "stream",
     "text": [
      "your move: skill\n"
     ]
    },
    {
     "name": "stdout",
     "output_type": "stream",
     "text": [
      "hp distribution: \n",
      "p1 =  [10, 10, 10] \t\t p2 =  [9, 10, 10]\n",
      "p1 active =  0  p2 active =  0\n",
      "p1 end =  False p2 end =  False\n",
      "p1 aura =  [<Aura.empty: 0>, <Aura.empty: 0>, <Aura.empty: 0>]  p2 aura =  [<Aura.electro: 3>, <Aura.empty: 0>, <Aura.empty: 0>]\n",
      "\n",
      "mover =  2\n",
      "move =  UseKit(player_id=2, dice_pattern=DicePattern(pyro=3, cryo=0, hydro=0, electro=0, dendro=0, anemo=0, geo=0, black=0, white=0, omni=0), real_dice_pattern=DicePattern(pyro=3, cryo=0, hydro=0, electro=0, dendro=0, anemo=0, geo=0, black=0, white=0, omni=0), dice_instance=DiceInstance(omni=3, pyro=0, cryo=0, hydro=0, electro=0, dendro=0, anemo=0, geo=0), kit='skill')\n",
      "pi =  tensor([0., 1., 0., 0., 0., 0.])\n",
      "hp distribution: \n",
      "p1 =  [7, 10, 10] \t\t p2 =  [9, 10, 10]\n",
      "p1 active =  0  p2 active =  0\n",
      "p1 end =  False p2 end =  False\n",
      "p1 aura =  [<Aura.pyro: 1>, <Aura.empty: 0>, <Aura.empty: 0>]  p2 aura =  [<Aura.electro: 3>, <Aura.empty: 0>, <Aura.empty: 0>]\n",
      "\n",
      "mover =  1\n"
     ]
    }
   ],
   "source": [
    "def input_callback(g, event, *args):\n",
    "    #print(\"yes i am here\")\n",
    "    if isinstance(event, Death) and g.history['phase'] == 'deathswitch':\n",
    "        active = g.getactive(event.player_id)\n",
    "        direct = int(input('your switch(1 for next, -1 for previous):'))\n",
    "        return Switch(g.nexteid(), event.eid, event.player_id, active, direct)\n",
    "    else:\n",
    "        return Event(-1,-1,-1)\n",
    "player = int(input('your player_id is:'))\n",
    "Master = mcts\n",
    "def callback(g, event, *args):\n",
    "    if event.player_id == player:\n",
    "        return input_callback(g,event,*args)\n",
    "    else:\n",
    "        return Master.callback(g,event,*args)\n",
    "while not g.terminated():\n",
    "    #player = 1\n",
    "    print(\"mover = \", g.mover)\n",
    "    if g.mover != player:\n",
    "        #m, s, d = Master.search(5, g)\n",
    "        m = Master.search(g,5)\n",
    "        #m, s, d = Rival.search(5, g)\n",
    "        #m = g.getIns(1, 'switch next')\n",
    "        print(\"move = \", m)\n",
    "        g.proceed(m,False, callback)\n",
    "        #nodes = Master.nodes\n",
    "        print(\"pi = \", Master.pi)\n",
    "        #print(\"depth = {}, total nodes = {}, score = {}\".format(d,nodes,s))\n",
    "    elif g.mover == player:\n",
    "        m = input(\"your move:\")\n",
    "        m = g.getIns(player, m)\n",
    "        #m, s, d = Rival.search(5, g)\n",
    "        g.proceed(m,False, callback)\n",
    "        #print(\"move = \",m)\n",
    "        #nodes = Rival.nodes\n",
    "    else:\n",
    "        print(\"mover = \", g.mover)\n",
    "        break\n",
    "    #print(\"player {} makes a move {}\".format(player, m))\n",
    "    print(\"hp distribution: \")\n",
    "    print(\"p1 = \",[c.hp for c in g.g.p1.char],'\\t\\t','p2 = ', [c.hp for c in g.g.p2.char] )\n",
    "    print(\"p1 active = \",g.g.p1.history['active'], ' p2 active = ', g.g.p2.history['active'])\n",
    "    print(\"p1 end = \",g.g.p1.history['endround'], 'p2 end = ',g.g.p2.history['endround'])\n",
    "    print(\"p1 aura = \", g.g.p1.getAura(), ' p2 aura = ', g.g.p2.getAura())\n",
    "    print()"
   ]
  },
  {
   "cell_type": "code",
   "execution_count": null,
   "id": "8c82178c-e61d-4f41-a544-7cb356f45350",
   "metadata": {},
   "outputs": [],
   "source": []
  }
 ],
 "metadata": {
  "kernelspec": {
   "display_name": "Python 3 (ipykernel)",
   "language": "python",
   "name": "python3"
  },
  "language_info": {
   "codemirror_mode": {
    "name": "ipython",
    "version": 3
   },
   "file_extension": ".py",
   "mimetype": "text/x-python",
   "name": "python",
   "nbconvert_exporter": "python",
   "pygments_lexer": "ipython3",
   "version": "3.8.8"
  }
 },
 "nbformat": 4,
 "nbformat_minor": 5
}
