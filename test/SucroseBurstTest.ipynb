{
 "cells": [
  {
   "cell_type": "code",
   "execution_count": 1,
   "id": "74c675c0-97b4-44a5-a7d5-3510a7a6aa1d",
   "metadata": {
    "tags": []
   },
   "outputs": [],
   "source": [
    "import sys\n",
    "sys.path.append('..')\n",
    "from src.core.GameInstance import apply_react, reaction, GameInstance\n",
    "from src.core.GameState import Location, Aura, GameState, Box\n",
    "from src.game import activate, Game\n",
    "b1 = Box(['Diluc','Sucrose','Kaeya'],[])\n",
    "b2 = Box(['Diluc','Kaeya','Sucrose'],[])\n",
    "state = GameState(b1,b2)\n",
    "g = Game()\n",
    "g.initiate(state)"
   ]
  },
  {
   "cell_type": "code",
   "execution_count": 2,
   "id": "f6cab95f-ab50-495b-b153-43aedfeca988",
   "metadata": {
    "tags": []
   },
   "outputs": [],
   "source": [
    "g.choose_active(2,2)"
   ]
  },
  {
   "cell_type": "code",
   "execution_count": 3,
   "id": "f74fa43e-3544-458e-9f7e-b2312473f677",
   "metadata": {
    "tags": []
   },
   "outputs": [],
   "source": [
    "g.g.p2.char[2].energy = 2\n",
    "g.g.p1.char[0].aura = Aura.pyro"
   ]
  },
  {
   "cell_type": "code",
   "execution_count": 4,
   "id": "1aa8e1da-1130-4fa9-9e1a-1bbff9522d26",
   "metadata": {
    "tags": []
   },
   "outputs": [],
   "source": [
    "g.g.history['mover'] = 2"
   ]
  },
  {
   "cell_type": "code",
   "execution_count": 5,
   "id": "bd0479e5-3665-415e-b773-d5f487d35a2a",
   "metadata": {
    "tags": []
   },
   "outputs": [],
   "source": [
    "b = g.getIns(2, 'burst')"
   ]
  },
  {
   "cell_type": "code",
   "execution_count": 6,
   "id": "0adaab20-592e-474c-8028-252fba9d0f88",
   "metadata": {
    "tags": []
   },
   "outputs": [],
   "source": [
    "from src.core.Event import Event\n",
    "def fake(*args):\n",
    "    return Event(-1,-1,-1)\n",
    "g.proceed(b, False, fake)"
   ]
  },
  {
   "cell_type": "code",
   "execution_count": 7,
   "id": "9d125bb9-3ddf-452d-8c8f-fa2f1c54c722",
   "metadata": {
    "tags": []
   },
   "outputs": [
    {
     "data": {
      "text/plain": [
       "[9, 9, 9]"
      ]
     },
     "execution_count": 7,
     "metadata": {},
     "output_type": "execute_result"
    }
   ],
   "source": [
    "[c.hp for c in g.g.p1.char]"
   ]
  },
  {
   "cell_type": "code",
   "execution_count": null,
   "id": "99fe45c0-3e5c-42a8-a6a8-f9123965732a",
   "metadata": {},
   "outputs": [],
   "source": []
  }
 ],
 "metadata": {
  "kernelspec": {
   "display_name": "Python 3 (ipykernel)",
   "language": "python",
   "name": "python3"
  },
  "language_info": {
   "codemirror_mode": {
    "name": "ipython",
    "version": 3
   },
   "file_extension": ".py",
   "mimetype": "text/x-python",
   "name": "python",
   "nbconvert_exporter": "python",
   "pygments_lexer": "ipython3",
   "version": "3.8.8"
  }
 },
 "nbformat": 4,
 "nbformat_minor": 5
}
