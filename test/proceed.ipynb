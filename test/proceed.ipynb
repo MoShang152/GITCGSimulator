{
 "cells": [
  {
   "cell_type": "code",
   "execution_count": 1,
   "id": "03160af4-2f4c-4970-a44b-76b4fcd37332",
   "metadata": {
    "tags": []
   },
   "outputs": [],
   "source": [
    "import sys\n",
    "sys.path.append('..')\n",
    "from src.core.GameInstance import apply_react, reaction, GameInstance\n",
    "from src.core.GameState import Location, Aura, GameState, Box\n",
    "from src.game import activate, Game\n",
    "b1 = Box(['Diluc','Diluc','Diluc'],[])\n",
    "b2 = Box(['Diluc','Diluc','Diluc'],[])\n",
    "state = GameState(b1,b2)\n",
    "g = Game()\n",
    "g.initiate(state)"
   ]
  },
  {
   "cell_type": "code",
   "execution_count": 2,
   "id": "60e43cd2-ec9f-4894-ad84-d8c61719e437",
   "metadata": {
    "tags": []
   },
   "outputs": [],
   "source": [
    "us = g.getIns(1,'skill')"
   ]
  },
  {
   "cell_type": "code",
   "execution_count": 3,
   "id": "b2f78220-7462-4b0c-b6c9-20cf952a2ff5",
   "metadata": {
    "tags": []
   },
   "outputs": [],
   "source": [
    "from src.game import fake_callback\n",
    "g.proceed(us,False, fake_callback)"
   ]
  },
  {
   "cell_type": "code",
   "execution_count": 4,
   "id": "b75de5a1-3cdf-43cf-ac45-5096482246ba",
   "metadata": {
    "tags": []
   },
   "outputs": [
    {
     "data": {
      "text/plain": [
       "10"
      ]
     },
     "execution_count": 4,
     "metadata": {},
     "output_type": "execute_result"
    }
   ],
   "source": [
    "g.g.p1.char[0].hp"
   ]
  },
  {
   "cell_type": "code",
   "execution_count": 5,
   "id": "b0f95388-aaf5-4aa0-b934-fe784e848328",
   "metadata": {
    "tags": []
   },
   "outputs": [
    {
     "data": {
      "text/plain": [
       "7"
      ]
     },
     "execution_count": 5,
     "metadata": {},
     "output_type": "execute_result"
    }
   ],
   "source": [
    "g.g.p2.char[0].hp"
   ]
  },
  {
   "cell_type": "code",
   "execution_count": 6,
   "id": "69d32486-4716-4cb1-b78a-838d77fd0d11",
   "metadata": {
    "tags": []
   },
   "outputs": [
    {
     "data": {
      "text/plain": [
       "<Aura.pyro: 1>"
      ]
     },
     "execution_count": 6,
     "metadata": {},
     "output_type": "execute_result"
    }
   ],
   "source": [
    "g.g.p2.char[0].aura"
   ]
  },
  {
   "cell_type": "code",
   "execution_count": 7,
   "id": "36b07ee4-b27f-4fde-9b67-1b45682d6f5d",
   "metadata": {
    "tags": []
   },
   "outputs": [
    {
     "data": {
      "text/plain": [
       "2"
      ]
     },
     "execution_count": 7,
     "metadata": {},
     "output_type": "execute_result"
    }
   ],
   "source": [
    "g.g.history['mover']"
   ]
  },
  {
   "cell_type": "code",
   "execution_count": 9,
   "id": "d1a1d0d8-fab9-49fb-846f-cbc3f8201a77",
   "metadata": {
    "tags": []
   },
   "outputs": [
    {
     "name": "stdout",
     "output_type": "stream",
     "text": [
      "512 µs ± 19.6 µs per loop (mean ± std. dev. of 7 runs, 1,000 loops each)\n"
     ]
    }
   ],
   "source": [
    "us = g.getIns(2,'skill')\n",
    "def test(us, g):\n",
    "    g.proceed(us,True,fake_callback)\n",
    "%timeit test(us,g)"
   ]
  },
  {
   "cell_type": "code",
   "execution_count": 10,
   "id": "03dd68ed-56b5-42c8-8b62-13d61b6ea457",
   "metadata": {
    "tags": []
   },
   "outputs": [
    {
     "data": {
      "text/plain": [
       "12"
      ]
     },
     "execution_count": 10,
     "metadata": {},
     "output_type": "execute_result"
    }
   ],
   "source": [
    "g.g.maxid"
   ]
  },
  {
   "cell_type": "code",
   "execution_count": null,
   "id": "3cf9f34a-fadc-4ea8-b5cf-7e82482aab3a",
   "metadata": {},
   "outputs": [],
   "source": []
  }
 ],
 "metadata": {
  "kernelspec": {
   "display_name": "Python 3 (ipykernel)",
   "language": "python",
   "name": "python3"
  },
  "language_info": {
   "codemirror_mode": {
    "name": "ipython",
    "version": 3
   },
   "file_extension": ".py",
   "mimetype": "text/x-python",
   "name": "python",
   "nbconvert_exporter": "python",
   "pygments_lexer": "ipython3",
   "version": "3.8.8"
  }
 },
 "nbformat": 4,
 "nbformat_minor": 5
}
