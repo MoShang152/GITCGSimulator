{
 "cells": [
  {
   "cell_type": "code",
   "execution_count": 1,
   "id": "03160af4-2f4c-4970-a44b-76b4fcd37332",
   "metadata": {
    "tags": []
   },
   "outputs": [],
   "source": [
    "import sys\n",
    "sys.path.append('..')\n",
    "from src.core.GameInstance import apply_react, reaction, GameInstance\n",
    "from src.core.GameState import Location, Aura, GameState, Box\n",
    "from src.game import activate, Game\n",
    "b1 = Box(['Sucrose','Diluc','Diluc'],[])\n",
    "b2 = Box(['Diluc','Diluc','Sucrose'],[])\n",
    "state = GameState(b1,b2)\n",
    "g = Game()\n",
    "g.initiate(state)"
   ]
  },
  {
   "cell_type": "code",
   "execution_count": 2,
   "id": "60e43cd2-ec9f-4894-ad84-d8c61719e437",
   "metadata": {
    "tags": []
   },
   "outputs": [],
   "source": [
    "us = g.getIns(1,'skill')"
   ]
  },
  {
   "cell_type": "code",
   "execution_count": 3,
   "id": "b2f78220-7462-4b0c-b6c9-20cf952a2ff5",
   "metadata": {
    "tags": []
   },
   "outputs": [],
   "source": [
    "from src.game import fake_callback\n",
    "g.proceed(us,False, fake_callback)"
   ]
  },
  {
   "cell_type": "code",
   "execution_count": 4,
   "id": "b75de5a1-3cdf-43cf-ac45-5096482246ba",
   "metadata": {
    "tags": []
   },
   "outputs": [
    {
     "data": {
      "text/plain": [
       "10"
      ]
     },
     "execution_count": 4,
     "metadata": {},
     "output_type": "execute_result"
    }
   ],
   "source": [
    "g.g.p1.char[0].hp"
   ]
  },
  {
   "cell_type": "code",
   "execution_count": 5,
   "id": "b0f95388-aaf5-4aa0-b934-fe784e848328",
   "metadata": {
    "tags": []
   },
   "outputs": [
    {
     "data": {
      "text/plain": [
       "7"
      ]
     },
     "execution_count": 5,
     "metadata": {},
     "output_type": "execute_result"
    }
   ],
   "source": [
    "g.g.p2.char[0].hp"
   ]
  },
  {
   "cell_type": "code",
   "execution_count": 6,
   "id": "69d32486-4716-4cb1-b78a-838d77fd0d11",
   "metadata": {
    "tags": []
   },
   "outputs": [
    {
     "data": {
      "text/plain": [
       "2"
      ]
     },
     "execution_count": 6,
     "metadata": {},
     "output_type": "execute_result"
    }
   ],
   "source": [
    "g.g.p2.history['active']"
   ]
  },
  {
   "cell_type": "code",
   "execution_count": 7,
   "id": "36b07ee4-b27f-4fde-9b67-1b45682d6f5d",
   "metadata": {
    "tags": []
   },
   "outputs": [
    {
     "data": {
      "text/plain": [
       "2"
      ]
     },
     "execution_count": 7,
     "metadata": {},
     "output_type": "execute_result"
    }
   ],
   "source": [
    "g.g.history['mover']"
   ]
  },
  {
   "cell_type": "code",
   "execution_count": 12,
   "id": "d1a1d0d8-fab9-49fb-846f-cbc3f8201a77",
   "metadata": {
    "tags": []
   },
   "outputs": [
    {
     "name": "stdout",
     "output_type": "stream",
     "text": [
      "71.6 ms ± 5.85 ms per loop (mean ± std. dev. of 7 runs, 10 loops each)\n"
     ]
    }
   ],
   "source": [
    "us = g.getIns(2,'skill')\n",
    "def test(us, g):\n",
    "    for i in range(100):\n",
    "        g.proceed(us,True,fake_callback)\n",
    "%timeit test(us,g)"
   ]
  },
  {
   "cell_type": "code",
   "execution_count": 15,
   "id": "03dd68ed-56b5-42c8-8b62-13d61b6ea457",
   "metadata": {
    "tags": []
   },
   "outputs": [
    {
     "name": "stdout",
     "output_type": "stream",
     "text": [
      "         96104 function calls (94004 primitive calls) in 0.132 seconds\n",
      "\n",
      "   Ordered by: cumulative time\n",
      "\n",
      "   ncalls  tottime  percall  cumtime  percall filename:lineno(function)\n",
      "        1    0.000    0.000    0.134    0.134 {built-in method builtins.exec}\n",
      "        1    0.000    0.000    0.134    0.134 <string>:1(<module>)\n",
      "        1    0.002    0.002    0.134    0.134 2268109756.py:2(test)\n",
      "      100    0.001    0.000    0.132    0.001 game.py:66(proceed)\n",
      "      100    0.001    0.000    0.101    0.001 GameInstance.py:224(proceed)\n",
      "      100    0.000    0.000    0.096    0.001 EventManage.py:20(process)\n",
      " 1400/100    0.007    0.000    0.096    0.001 EventManage.py:23(_handle)\n",
      "     1400    0.004    0.000    0.053    0.000 GameInstance.py:400(_execute)\n",
      "     1500    0.004    0.000    0.035    0.000 functools.py:910(_method)\n",
      "     1400    0.003    0.000    0.035    0.000 GameInstance.py:288(getListeners)\n",
      "     2800    0.011    0.000    0.032    0.000 GameInstance.py:134(getListeners)\n",
      "      100    0.000    0.000    0.031    0.000 game.py:42(clone)\n",
      "      100    0.000    0.000    0.031    0.000 GameInstance.py:314(clone)\n",
      "      100    0.001    0.000    0.030    0.000 GameInstance.py:23(picklecopy)\n",
      "     1500    0.003    0.000    0.017    0.000 functools.py:909(__get__)\n",
      "      100    0.001    0.000    0.016    0.000 GameInstance.py:466(usekit)\n",
      "      100    0.015    0.000    0.015    0.000 {built-in method _pickle.loads}\n",
      "      100    0.015    0.000    0.015    0.000 {built-in method _pickle.dumps}\n",
      "     1500    0.007    0.000    0.012    0.000 functools.py:34(update_wrapper)\n",
      "     8400    0.010    0.000    0.012    0.000 character.py:75(getListeners)\n",
      "      200    0.001    0.000    0.012    0.000 GameInstance.py:84(consume)\n",
      "      100    0.000    0.000    0.011    0.000 base.py:23(to_dict)\n",
      "      100    0.000    0.000    0.011    0.000 dataclasses.py:1052(asdict)\n",
      "  900/100    0.004    0.000    0.010    0.000 dataclasses.py:1076(_asdict_inner)\n",
      "     2900    0.006    0.000    0.007    0.000 GameInstance.py:122(charView)\n",
      "     1500    0.002    0.000    0.004    0.000 functools.py:814(dispatch)\n",
      "      100    0.001    0.000    0.004    0.000 GameInstance.py:422(dmgtypecheck)\n",
      "    13000    0.004    0.000    0.004    0.000 {built-in method builtins.getattr}\n",
      "      800    0.002    0.000    0.003    0.000 copy.py:128(deepcopy)\n",
      "     8400    0.003    0.000    0.003    0.000 character.py:80(<listcomp>)\n",
      "      100    0.001    0.000    0.003    0.000 char1.py:70(skill)\n",
      "    11300    0.002    0.000    0.002    0.000 {method 'extend' of 'list' objects}\n",
      "      100    0.001    0.000    0.002    0.000 GameInstance.py:512(switch)\n",
      "     7500    0.002    0.000    0.002    0.000 {built-in method builtins.setattr}\n",
      "     1000    0.001    0.000    0.002    0.000 dataclasses.py:1040(_is_dataclass_instance)\n",
      "      100    0.001    0.000    0.002    0.000 GameInstance.py:381(usekit)\n",
      "     1500    0.002    0.000    0.002    0.000 weakref.py:382(__getitem__)\n",
      "     1500    0.001    0.000    0.001    0.000 functools.py:919(__isabstractmethod__)\n",
      "      500    0.001    0.000    0.001    0.000 GameInstance.py:331(getactive)\n",
      "     6300    0.001    0.000    0.001    0.000 {method 'append' of 'list' objects}\n",
      "      100    0.001    0.000    0.001    0.000 dataclasses.py:1022(fields)\n",
      "      100    0.001    0.000    0.001    0.000 GameInstance.py:734(reaction)\n",
      "      400    0.001    0.000    0.001    0.000 GameInstance.py:320(get)\n",
      "     1000    0.001    0.000    0.001    0.000 {built-in method builtins.hasattr}\n",
      "      100    0.000    0.000    0.001    0.000 GameInstance.py:453(dealdmg)\n",
      "      100    0.000    0.000    0.001    0.000 GameInstance.py:353(make_damage)\n",
      "      700    0.001    0.000    0.001    0.000 GameInstance.py:563(over)\n",
      "     1500    0.001    0.000    0.001    0.000 {method 'update' of 'dict' objects}\n",
      "      100    0.000    0.000    0.001    0.000 GameInstance.py:484(charge)\n",
      "     1400    0.001    0.000    0.001    0.000 GameInstance.py:326(nexteid)\n",
      "      100    0.000    0.000    0.001    0.000 GameInstance.py:296(getAura)\n",
      "      100    0.000    0.000    0.001    0.000 GameInstance.py:143(getAura)\n",
      "      400    0.001    0.000    0.001    0.000 GameInstance.py:160(get)\n",
      "     2400    0.001    0.000    0.001    0.000 {built-in method builtins.isinstance}\n",
      "      100    0.000    0.000    0.001    0.000 GameInstance.py:301(setAura)\n",
      "      100    0.000    0.000    0.000    0.000 enum.py:313(__call__)\n",
      "      100    0.000    0.000    0.000    0.000 GameInstance.py:442(dmg)\n",
      "     1400    0.000    0.000    0.000    0.000 {built-in method _abc.get_cache_token}\n",
      "     1600    0.000    0.000    0.000    0.000 {method 'get' of 'dict' objects}\n",
      "      800    0.000    0.000    0.000    0.000 {built-in method builtins.id}\n",
      "      100    0.000    0.000    0.000    0.000 character.py:150(charge)\n",
      "      900    0.000    0.000    0.000    0.000 dataclasses.py:1037(<genexpr>)\n",
      "      100    0.000    0.000    0.000    0.000 GameInstance.py:154(getalives)\n",
      "      100    0.000    0.000    0.000    0.000 GameInstance.py:151(setAura)\n",
      "      100    0.000    0.000    0.000    0.000 GameInstance.py:491(swapmove)\n",
      "      100    0.000    0.000    0.000    0.000 character.py:142(injure)\n",
      "      100    0.000    0.000    0.000    0.000 types.py:171(__get__)\n",
      "      100    0.000    0.000    0.000    0.000 enum.py:631(__new__)\n",
      "      200    0.000    0.000    0.000    0.000 {built-in method builtins.max}\n",
      "      800    0.000    0.000    0.000    0.000 copy.py:182(_deepcopy_atomic)\n",
      "      400    0.000    0.000    0.000    0.000 GameInstance.py:329(_getpds)\n",
      "      400    0.000    0.000    0.000    0.000 character.py:108(died)\n",
      "      100    0.000    0.000    0.000    0.000 enum.py:733(__reduce_ex__)\n",
      "      100    0.000    0.000    0.000    0.000 <string>:2(__init__)\n",
      "      300    0.000    0.000    0.000    0.000 {built-in method builtins.len}\n",
      "      100    0.000    0.000    0.000    0.000 EventManage.py:18(__init__)\n",
      "      100    0.000    0.000    0.000    0.000 game.py:64(load)\n",
      "      100    0.000    0.000    0.000    0.000 game.py:39(__init__)\n",
      "      100    0.000    0.000    0.000    0.000 GameInstance.py:396(mover)\n",
      "      100    0.000    0.000    0.000    0.000 {built-in method builtins.min}\n",
      "      100    0.000    0.000    0.000    0.000 enum.py:743(name)\n",
      "      100    0.000    0.000    0.000    0.000 {method 'values' of 'dict' objects}\n",
      "      100    0.000    0.000    0.000    0.000 {method 'items' of 'dict' objects}\n",
      "      100    0.000    0.000    0.000    0.000 GameInstance.py:277(rebuild)\n",
      "        1    0.000    0.000    0.000    0.000 {method 'disable' of '_lsprof.Profiler' objects}\n",
      "\n",
      "\n"
     ]
    }
   ],
   "source": [
    "import cProfile\n",
    "cProfile.run('test(us,g)',sort='cumtime')"
   ]
  },
  {
   "cell_type": "code",
   "execution_count": null,
   "id": "3cf9f34a-fadc-4ea8-b5cf-7e82482aab3a",
   "metadata": {},
   "outputs": [],
   "source": []
  }
 ],
 "metadata": {
  "kernelspec": {
   "display_name": "Python 3 (ipykernel)",
   "language": "python",
   "name": "python3"
  },
  "language_info": {
   "codemirror_mode": {
    "name": "ipython",
    "version": 3
   },
   "file_extension": ".py",
   "mimetype": "text/x-python",
   "name": "python",
   "nbconvert_exporter": "python",
   "pygments_lexer": "ipython3",
   "version": "3.8.8"
  }
 },
 "nbformat": 4,
 "nbformat_minor": 5
}
