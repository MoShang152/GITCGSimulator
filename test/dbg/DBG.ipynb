{
 "cells": [
  {
   "cell_type": "code",
   "execution_count": 2,
   "id": "83f034b0-9a43-4c60-86e8-452fc16b8257",
   "metadata": {
    "tags": []
   },
   "outputs": [],
   "source": [
    "import sys\n",
    "sys.path.append('../..')\n",
    "from src.core.GameInstance import apply_react, reaction, GameInstance\n",
    "from src.core.GameState import Location, Aura, GameState, Box\n",
    "from src.game import activate, Game, fake_callback\n",
    "b1 = Box(['Fischl','Ayaka','Sucrose'],[])\n",
    "b2 = Box(['Diluc','Kaeya','Sucrose'],[])\n",
    "state = GameState(b1,b2)\n",
    "g = Game(state)\n",
    "g.initiate(0, 0, fake_callback)\n",
    "#from agent.alphabeta import Searcher\n",
    "from src.core.Event import Event, Death, Switch\n",
    "#from agent.MCTS import *"
   ]
  },
  {
   "cell_type": "code",
   "execution_count": 3,
   "id": "409c0677-2bbd-4a0f-b3fe-467a5729b682",
   "metadata": {
    "tags": []
   },
   "outputs": [],
   "source": [
    "g.g.p1.char[2].energy = 2"
   ]
  },
  {
   "cell_type": "code",
   "execution_count": 4,
   "id": "6c67db56-1ec5-4b1d-9b98-7e85ad008f03",
   "metadata": {
    "tags": []
   },
   "outputs": [
    {
     "name": "stdout",
     "output_type": "stream",
     "text": [
      "{'alive': True, 'loc': Location(player_id=1, area='Summon', index=1, subarea='', offset=0), 'usage': 3, 'dtype': <DMGType.electro: 3>}\n"
     ]
    }
   ],
   "source": [
    "g.g.p2.char[0].hp = 30\n",
    "proceed  = lambda x:g.proceed(x, False, fake_callback) \n",
    "proceed(g.getIns(1, 'skill'))\n",
    "proceed(g.getIns(2,'end round') )\n",
    "proceed(g.getIns(1, 'switch previous'))\n",
    "proceed(g.getIns(1, 'burst'))\n",
    "print(g.g.p1.summon[1].__dict__)\n",
    "#proceed(g.getIns(1, 'end round'))\n",
    "#proceed(g.getIns(2, 'end round'))\n",
    "#proceed(g.getIns(1,'end round'))\n",
    "#proceed(g.getIns(2, 'end round'))\n",
    "#proceed(g.getIns(1, 'end round'))"
   ]
  },
  {
   "cell_type": "code",
   "execution_count": 4,
   "id": "cd59542d-e8aa-4ae3-9186-280b414d8732",
   "metadata": {
    "tags": []
   },
   "outputs": [
    {
     "data": {
      "text/plain": [
       "[]"
      ]
     },
     "execution_count": 4,
     "metadata": {},
     "output_type": "execute_result"
    }
   ],
   "source": [
    "g.g.p1.summon"
   ]
  },
  {
   "cell_type": "code",
   "execution_count": null,
   "id": "bd4b0942-93ac-4168-80ed-e4fbbcbbb536",
   "metadata": {},
   "outputs": [],
   "source": []
  }
 ],
 "metadata": {
  "kernelspec": {
   "display_name": "Python 3 (ipykernel)",
   "language": "python",
   "name": "python3"
  },
  "language_info": {
   "codemirror_mode": {
    "name": "ipython",
    "version": 3
   },
   "file_extension": ".py",
   "mimetype": "text/x-python",
   "name": "python",
   "nbconvert_exporter": "python",
   "pygments_lexer": "ipython3",
   "version": "3.8.8"
  }
 },
 "nbformat": 4,
 "nbformat_minor": 5
}
