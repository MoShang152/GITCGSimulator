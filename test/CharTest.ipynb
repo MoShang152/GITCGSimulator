{
 "cells": [
  {
   "cell_type": "code",
   "execution_count": 1,
   "id": "94214220-b7b9-4d0b-b26d-3acf5b544526",
   "metadata": {
    "tags": []
   },
   "outputs": [],
   "source": [
    "import sys\n",
    "sys.path.append('..')\n",
    "from src.core.GameInstance import apply_react, reaction, GameInstance\n",
    "from src.core.GameState import Location, Aura, GameState, Box\n",
    "from src.game import activate, Game\n",
    "b1 = Box(['Diluc','Sucrose','Kaeya'],[])\n",
    "b2 = Box(['Diluc','Kaeya','Sucrose'],[])\n",
    "state = GameState(b1,b2)\n",
    "g = Game()\n",
    "g.initiate(state)"
   ]
  },
  {
   "cell_type": "code",
   "execution_count": 2,
   "id": "bfb284d7-dd86-4dd0-a773-186f91c859cc",
   "metadata": {
    "tags": []
   },
   "outputs": [],
   "source": [
    "g.choose_active(1, 2)"
   ]
  },
  {
   "cell_type": "code",
   "execution_count": 5,
   "id": "035529db-0c70-43d5-9e47-7dd515db664f",
   "metadata": {
    "tags": []
   },
   "outputs": [],
   "source": [
    "from src.core.Instruction import UseKit\n",
    "from src.core.base import DiceInstance, DicePattern\n",
    "from src.core.Event import Event\n",
    "cb = lambda x: Event(-1,-1,-1)\n",
    "g.proceed(UseKit(1,DicePattern(omni=4),DicePattern(omni=4),DiceInstance(omni=4),'burst'), False, cb)"
   ]
  },
  {
   "cell_type": "code",
   "execution_count": 8,
   "id": "53940d00-944e-4d80-b071-db62c946f1c9",
   "metadata": {
    "tags": []
   },
   "outputs": [
    {
     "data": {
      "text/plain": [
       "{'switch_id': -2,\n",
       " 'alive': True,\n",
       " 'loc': Location(player_id=1, area='Buff', index=0, subarea='', offset=0),\n",
       " 'usage': 3}"
      ]
     },
     "execution_count": 8,
     "metadata": {},
     "output_type": "execute_result"
    }
   ],
   "source": [
    "g.g.p1.buff[0].__dict__"
   ]
  },
  {
   "cell_type": "code",
   "execution_count": 9,
   "id": "5da71321-0b4e-4080-80dc-a1a4232ccf1d",
   "metadata": {
    "tags": []
   },
   "outputs": [],
   "source": [
    "import pickle\n",
    "ng = pickle.loads(pickle.dumps(g))"
   ]
  },
  {
   "cell_type": "code",
   "execution_count": 12,
   "id": "1645a91c-262b-4775-aa5e-8f981327d4f2",
   "metadata": {
    "tags": []
   },
   "outputs": [
    {
     "data": {
      "text/plain": [
       "{'alive': True,\n",
       " 'loc': Location(player_id=1, area='Buff', index=0, subarea='', offset=0),\n",
       " 'usage': 3}"
      ]
     },
     "execution_count": 12,
     "metadata": {},
     "output_type": "execute_result"
    }
   ],
   "source": [
    "ng.g.p1.buff[0].__dict__"
   ]
  },
  {
   "cell_type": "code",
   "execution_count": null,
   "id": "aee56bf1-0387-4255-b4ae-cf372d020989",
   "metadata": {},
   "outputs": [],
   "source": []
  }
 ],
 "metadata": {
  "kernelspec": {
   "display_name": "Python 3 (ipykernel)",
   "language": "python",
   "name": "python3"
  },
  "language_info": {
   "codemirror_mode": {
    "name": "ipython",
    "version": 3
   },
   "file_extension": ".py",
   "mimetype": "text/x-python",
   "name": "python",
   "nbconvert_exporter": "python",
   "pygments_lexer": "ipython3",
   "version": "3.8.8"
  }
 },
 "nbformat": 4,
 "nbformat_minor": 5
}
