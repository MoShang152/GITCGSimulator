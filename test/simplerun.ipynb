{
 "cells": [
  {
   "cell_type": "code",
   "execution_count": 1,
   "id": "b14e0e46-af63-49e4-aaf8-8ad8ee29cef3",
   "metadata": {
    "tags": []
   },
   "outputs": [],
   "source": [
    "import sys\n",
    "sys.path.append('..')\n",
    "from src.core.GameInstance import apply_react, reaction, GameInstance\n",
    "from src.core.GameState import Location, Aura, GameState, Box\n",
    "from src.game import activate\n",
    "b1 = Box(['Diluc','Diluc','Diluc'],[])\n",
    "b2 = Box(['Diluc','Diluc','Diluc'],[])\n",
    "state = GameState(b1,b2)\n",
    "state = activate(state)\n",
    "g = GameInstance(state)"
   ]
  },
  {
   "cell_type": "code",
   "execution_count": 2,
   "id": "2e9ea602-ba29-4884-91e5-f2a27425b454",
   "metadata": {
    "tags": []
   },
   "outputs": [],
   "source": [
    "from src.core.Event import *\n",
    "fake_event = Event(-1,-1,-1)"
   ]
  },
  {
   "cell_type": "code",
   "execution_count": 3,
   "id": "331e9a0e-3377-41ca-b72b-9907d9a97707",
   "metadata": {
    "tags": []
   },
   "outputs": [],
   "source": [
    "cb = lambda x: fake_event\n",
    "g._issue(Over(1,-1,1, EndPhase(0,-1,1)),callback = cb)"
   ]
  },
  {
   "cell_type": "code",
   "execution_count": 4,
   "id": "7c8b8743-dbf2-4e0f-817d-36e40724ad57",
   "metadata": {
    "tags": []
   },
   "outputs": [
    {
     "data": {
      "text/plain": [
       "{'rounds': 1, 'mover': 1, 'phase': 'combat', 'winner': -1}"
      ]
     },
     "execution_count": 4,
     "metadata": {},
     "output_type": "execute_result"
    }
   ],
   "source": [
    "g.history"
   ]
  },
  {
   "cell_type": "code",
   "execution_count": 11,
   "id": "18912fbb-dd70-4a08-bb78-8ac2b562d07f",
   "metadata": {
    "tags": []
   },
   "outputs": [],
   "source": [
    "import pickle\n",
    "def test(g):\n",
    "    #g = GameInstance(g.export())\n",
    "    g = pickle.loads(pickle.dumps(g))\n",
    "    #g = g.clone()\n",
    "    target = g.p1.char[0].loc\n",
    "    attacker = g.p2.char[0].loc\n",
    "    dmg = damage(attacker, target, DMGType.pyro, 3)\n",
    "    g._issue(DMG(g.nexteid(),-1,1,[dmg]),None)\n",
    "    assert g.p1.char[0].hp == 7"
   ]
  },
  {
   "cell_type": "code",
   "execution_count": 12,
   "id": "c25e61e4-7a05-4bd1-8433-975cdd13fb2f",
   "metadata": {
    "tags": []
   },
   "outputs": [
    {
     "name": "stdout",
     "output_type": "stream",
     "text": [
      "329 µs ± 113 µs per loop (mean ± std. dev. of 7 runs, 10,000 loops each)\n"
     ]
    }
   ],
   "source": [
    "%timeit test(g)"
   ]
  },
  {
   "cell_type": "code",
   "execution_count": 14,
   "id": "c4284465-c289-4c16-8024-08771de6bd42",
   "metadata": {
    "tags": []
   },
   "outputs": [
    {
     "name": "stdout",
     "output_type": "stream",
     "text": [
      "58.9 µs ± 2.66 µs per loop (mean ± std. dev. of 7 runs, 10,000 loops each)\n"
     ]
    }
   ],
   "source": [
    "%timeit pickle.dumps(g)"
   ]
  },
  {
   "cell_type": "code",
   "execution_count": 8,
   "id": "b67ee021-de60-4872-91e9-20f9691d5132",
   "metadata": {},
   "outputs": [
    {
     "name": "stdout",
     "output_type": "stream",
     "text": [
      "DMG(eid=13, source_id=-1, player_id=1, dmg_list=[damage(attacker=Location(player_id=2, area='Char', index=0, subarea='', offset=0), target=Location(player_id=1, area='Char', index=0, subarea='', offset=0), dmgtype=<DMGType.pyro: 0>, dmgvalue=8, reason='self')])\n",
      "\n",
      "DealDMG(eid=14, source_id=13, player_id=1, final_dmg_list=[damage(attacker=Location(player_id=2, area='Char', index=0, subarea='', offset=0), target=Location(player_id=1, area='Char', index=0, subarea='', offset=0), dmgtype=<DMGType.pyro: 0>, dmgvalue=8, reason='self')])\n",
      "\n",
      "deaths =  [Death(eid=15, source_id=14, player_id=1, char_loc=Location(player_id=1, area='Char', index=0, subarea='', offset=0))]\n",
      "Death(eid=15, source_id=14, player_id=1, char_loc=Location(player_id=1, area='Char', index=0, subarea='', offset=0))\n",
      "\n",
      "Over(eid=16, source_id=15, player_id=1, overed=Death(eid=15, source_id=14, player_id=1, char_loc=Location(player_id=1, area='Char', index=0, subarea='', offset=0)))\n",
      "\n",
      "Over(eid=17, source_id=14, player_id=1, overed=DealDMG(eid=14, source_id=13, player_id=1, final_dmg_list=[damage(attacker=Location(player_id=2, area='Char', index=0, subarea='', offset=0), target=Location(player_id=1, area='Char', index=0, subarea='', offset=0), dmgtype=<DMGType.pyro: 0>, dmgvalue=8, reason='self')]))\n",
      "\n",
      "Over(eid=18, source_id=13, player_id=1, overed=DMG(eid=13, source_id=-1, player_id=1, dmg_list=[damage(attacker=Location(player_id=2, area='Char', index=0, subarea='', offset=0), target=Location(player_id=1, area='Char', index=0, subarea='', offset=0), dmgtype=<DMGType.pyro: 0>, dmgvalue=8, reason='self')]))\n",
      "\n"
     ]
    }
   ],
   "source": [
    "dmg = damage(attacker, target, DMGType.pyro, 8)\n",
    "g._issue(DMG(g.nexteid(),-1,1,[dmg]),None)"
   ]
  },
  {
   "cell_type": "code",
   "execution_count": 11,
   "id": "2311d7d1-2fd6-4f3e-ae0b-7d0f309bdd11",
   "metadata": {
    "tags": []
   },
   "outputs": [
    {
     "data": {
      "text/plain": [
       "{'dieThisRound': False,\n",
       " 'active': -1,\n",
       " 'plunge': False,\n",
       " 'player_id': 1,\n",
       " 'endround': False}"
      ]
     },
     "execution_count": 11,
     "metadata": {},
     "output_type": "execute_result"
    }
   ],
   "source": [
    "g.p1.history"
   ]
  },
  {
   "cell_type": "code",
   "execution_count": 10,
   "id": "d5b51228-70be-4ed4-a012-32782b10d8c9",
   "metadata": {
    "tags": []
   },
   "outputs": [
    {
     "data": {
      "text/plain": [
       "{'rounds': 1, 'mover': 1, 'phase': 'combat', 'winner': -1}"
      ]
     },
     "execution_count": 10,
     "metadata": {},
     "output_type": "execute_result"
    }
   ],
   "source": [
    "g.history"
   ]
  },
  {
   "cell_type": "code",
   "execution_count": 20,
   "id": "8e397998-6a97-4367-a419-7dbfe11d72e0",
   "metadata": {
    "tags": []
   },
   "outputs": [
    {
     "name": "stdout",
     "output_type": "stream",
     "text": [
      "178 µs ± 16.1 µs per loop (mean ± std. dev. of 7 runs, 10,000 loops each)\n"
     ]
    }
   ],
   "source": [
    "import pickle\n",
    "%timeit newg = pickle.loads(pickle.dumps(g))"
   ]
  },
  {
   "cell_type": "code",
   "execution_count": 21,
   "id": "f6223c47-f5ab-43c8-93b7-15be404b0d55",
   "metadata": {
    "tags": []
   },
   "outputs": [
    {
     "name": "stdout",
     "output_type": "stream",
     "text": [
      "628 µs ± 78.4 µs per loop (mean ± std. dev. of 7 runs, 1,000 loops each)\n"
     ]
    }
   ],
   "source": [
    "import copy\n",
    "%timeit newg = copy.deepcopy(g)"
   ]
  },
  {
   "cell_type": "code",
   "execution_count": 19,
   "id": "dd35388e-6a2d-4a78-b265-4981dfbc4c76",
   "metadata": {
    "tags": []
   },
   "outputs": [
    {
     "data": {
      "text/plain": [
       "10"
      ]
     },
     "execution_count": 19,
     "metadata": {},
     "output_type": "execute_result"
    }
   ],
   "source": [
    "g.p1.char[0].hp"
   ]
  },
  {
   "cell_type": "code",
   "execution_count": null,
   "id": "00369bb7-713b-477d-a323-4076a6ccd1f5",
   "metadata": {},
   "outputs": [],
   "source": []
  }
 ],
 "metadata": {
  "kernelspec": {
   "display_name": "Python 3 (ipykernel)",
   "language": "python",
   "name": "python3"
  },
  "language_info": {
   "codemirror_mode": {
    "name": "ipython",
    "version": 3
   },
   "file_extension": ".py",
   "mimetype": "text/x-python",
   "name": "python",
   "nbconvert_exporter": "python",
   "pygments_lexer": "ipython3",
   "version": "3.8.8"
  }
 },
 "nbformat": 4,
 "nbformat_minor": 5
}
