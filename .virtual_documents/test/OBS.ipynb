import sys
sys.path.append('..')
from src.core.GameInstance import apply_react, reaction, GameInstance
from src.core.GameState import Location, Aura, GameState, Box
from src.game import activate, Game, fake_callback
b1 = Box(['Fischl','Ayaka','Sucrose'],[])
b2 = Box(['Diluc','Kaeya','Sucrose'],[])
state = GameState(b1,b2)
g = Game(state)
g.initiate(0, 0, fake_callback)
from agent.alphabeta import Searcher
from src.core.Event import Event, Death, Switch


import json
with open("../agent/ids.json") as p:
    id_dict = json.load(p)


from src.core.Observer import TensorObserver


tob = TensorObserver(id_dict)


T = tob.observe(g.g)


len(T)


Master = Searcher(1)
Rival = Searcher(2)
def callback(g, event, *args):
    if event.player_id == 1:
        return Master.callback(g,event,*args)
    else:
        return Rival.callback(g,event,*args)
while not g.terminated():
    #player = 1
    print("mover = ", g.mover)
    assert len(tob.observe(g.g)) == 196
    if g.mover == 1:
        m, s, d = Master.search(1, g)
        #m, s, d = Rival.search(5, g)
        #m = g.getIns(1, 'switch next')
        print("move = ", m)
        g.proceed(m,False, callback)
        nodes = Master.nodes
        print("depth = {}, total nodes = {}, score = {}".format(d,nodes,s))
    elif g.mover == 2:
        #m = input("your move:")
        #m = g.getIns(player, m)
        m, s, d = Rival.search(1, g)
        print("move = ",m)
        g.proceed(m,False, callback)
        #nodes = Rival.nodes
    else:
        print("mover = ", g.mover)
        break
    #print("player {} makes a move {}".format(player, m))
    print("hp distribution: ")
    print("p1 = ",[c.hp for c in g.g.p1.char],'\t\t','p2 = ', [c.hp for c in g.g.p2.char] )
    print("p1 active = ",g.g.p1.history['active'], ' p2 active = ', g.g.p2.history['active'])
    print("p1 end = ",g.g.p1.history['endround'], 'p2 end = ',g.g.p2.history['endround'])
    print("p1 aura = ", g.g.p1.getAura(), ' p2 aura = ', g.g.p2.getAura())
    print()



