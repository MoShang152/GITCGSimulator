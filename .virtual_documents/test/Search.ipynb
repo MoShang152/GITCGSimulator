import sys
sys.path.append('..')
from src.core.GameInstance import apply_react, reaction, GameInstance
from src.core.GameState import Location, Aura, GameState, Box
from src.game import activate, Game
b1 = Box(['Diluc','Sucrose','Kaeya'],[])
b2 = Box(['Diluc','Kaeya','Sucrose'],[])
state = GameState(b1,b2)
g = Game()
g.initiate(state)


from agent.alphabeta import Searcher


Master = Searcher(player = 1)
Rival = Searcher(player = 2)


while not g.terminated():
    player = g.mover
    print("mover = ", g.mover)
    if g.mover == 1:
        m, s, d = Master.search(5, g)
        #m, s, d = Rival.search(5, g)
        #m = g.getIns(1, 'switch next')
        g.proceed(m,False, Master.callback)
        nodes = Master.nodes
        print("move = ", m)
        print("depth = {}, total nodes = {}, score = {}".format(d,nodes,s))
    elif g.mover == 2:
        #m = input("your move:")
        #m = g.getIns(2, m)
        m, s, d = Rival.search(5, g)
        g.proceed(m,False, Rival.callback)
        print("move = ",m)
        #nodes = Rival.nodes
    else:
        print("mover = ", g.mover)
        break
    #print("player {} makes a move {}".format(player, m))
    print("hp distribution: ")
    print("p1 = ",[c.hp for c in g.g.p1.char],'\t\t','p2 = ', [c.hp for c in g.g.p2.char] )
    print("p1 active = ",g.g.p1.history['active'], ' p2 active = ', g.g.p2.history['active'])
    print("p1 end = ",g.g.p1.history['endround'], 'p2 end = ',g.g.p2.history['endround'])
    print("p1 aura = ", g.g.p1.getAura(), ' p2 aura = ', g.g.p2.getAura())
    print()



