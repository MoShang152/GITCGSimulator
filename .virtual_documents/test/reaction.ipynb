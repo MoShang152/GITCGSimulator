import sys
sys.path.append('..')


from src.core.GameInstance import apply_react, reaction, GameInstance
from src.core.GameState import Location, Aura, GameState, Box
from src.game import activate
b1 = Box(['Diluc','Diluc','Diluc'],[])
b2 = Box(['Diluc','Diluc','Diluc'],[])
state = GameState(b1,b2)
state = activate(state)
g = GameInstance(state)


import src.core.Event as Event
target = g.p1.char[0].loc
attacker = g.p2.char[0].loc
dmg = Event.damage(attacker, target, Event.DMGType.pyro, 1)
reaction([Aura.cryo],g.p1.char[0].loc, dmg, 1, -1, g)


dmg = Event.damage(attacker, target, Event.DMGType.pyro, 1)
reaction([Aura.dendro],g.p1.char[0].loc, dmg, 1, -1, g)


dmg = Event.damage(attacker, target, Event.DMGType.dendro, 1)
reaction([Aura.dendro],g.p1.char[0].loc, dmg, 1, -1, g)


get_ipython().run_cell_magic("time", "", """for i in range(1000):
    dmg = Event.damage(attacker, target, Event.DMGType.hydro, 1)
    reaction([Aura.electro],g.p1.char[0].loc, dmg, 1, -1, g)""")


get_ipython().run_cell_magic("time", "", """
for i in range(1000):
    dmg = Event.damage(attacker, target, Event.DMGType.anemo, 1)
    reaction([Aura.electro,Aura.cryo,Aura.empty],g.p1.char[0].loc, dmg, 1, -1, g)""")


get_ipython().run_line_magic("timeit", " g.export()")


get_ipython().run_line_magic("timeit", " GameInstance(g.export())")


import pickle
from copy import deepcopy
import random
test_dict = {
    random.randint(1,100):random.random() for i in range(1000)
}

get_ipython().run_line_magic("timeit", " pickle.loads(pickle.dumps(test_dict))")
get_ipython().run_line_magic("timeit", " deepcopy(test_dict)")


## Deepcopy : 88.3 µs ± 1.57 µs per loop (mean ± std. dev. of 7 runs, 10,000 loops each)



class A:
    def __init__(self):
        a = 1
class B:
    def __init__(self, a):
        self.a = a


a = A()
b = B(a)
