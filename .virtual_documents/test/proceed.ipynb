import sys
sys.path.append('..')
from src.core.GameInstance import apply_react, reaction, GameInstance
from src.core.GameState import Location, Aura, GameState, Box
from src.game import activate, Game
b1 = Box(['Diluc','Diluc','Diluc'],[])
b2 = Box(['Diluc','Diluc','Diluc'],[])
state = GameState(b1,b2)
g = Game()
g.initiate(state)


us = g.getIns(1,'skill')


from src.game import fake_callback
g.proceed(us,False, fake_callback)


g.g.p1.char[0].hp


g.g.p2.char[0].hp


g.g.p2.char[0].aura


g.g.history['mover']


us = g.getIns(2,'skill')
def test(us, g):
    g.proceed(us,True,fake_callback)
get_ipython().run_line_magic("timeit", " test(us,g)")


g.g.maxid



