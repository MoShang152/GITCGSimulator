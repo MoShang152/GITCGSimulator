import sys
sys.path.append('..')
from src.core.GameInstance import apply_react, reaction, GameInstance
from src.core.GameState import Location, Aura, GameState, Box
from src.game import activate
b1 = Box(['Diluc','Diluc','Diluc'],[])
b2 = Box(['Diluc','Diluc','Diluc'],[])
state = GameState(b1,b2)
state = activate(state)
g = GameInstance(state)


from src.core.Event import *
fake_event = Event(-1,-1,-1)


cb = lambda x: fake_event
g._issue(Over(1,-1,1, EndPhase(0,-1,1)),callback = cb)


g.history


import pickle
def test(g):
    #g = GameInstance(g.export())
    g = pickle.loads(pickle.dumps(g))
    #g = g.clone()
    target = g.p1.char[0].loc
    attacker = g.p2.char[0].loc
    dmg = damage(attacker, target, DMGType.pyro, 3)
    g._issue(DMG(g.nexteid(),-1,1,[dmg]),None)
    assert g.p1.char[0].hp == 7


get_ipython().run_line_magic("timeit", " test(g)")


get_ipython().run_line_magic("timeit", " pickle.dumps(g)")


dmg = damage(attacker, target, DMGType.pyro, 8)
g._issue(DMG(g.nexteid(),-1,1,[dmg]),None)


g.p1.history


g.history


import pickle
get_ipython().run_line_magic("timeit", " newg = pickle.loads(pickle.dumps(g))")


import copy
get_ipython().run_line_magic("timeit", " newg = copy.deepcopy(g)")


g.p1.char[0].hp



