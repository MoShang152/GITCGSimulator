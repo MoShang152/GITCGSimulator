import sys
sys.path.append('../..')
from src.core.GameInstance import apply_react, reaction, GameInstance
from src.core.GameState import Location, Aura, GameState, Box
from src.game import activate, Game, fake_callback
b1 = Box(['Fischl','Ayaka','Sucrose'],[])
b2 = Box(['Diluc','Kaeya','Sucrose'],[])
state = GameState(b1,b2)
g = Game(state)
g.initiate(0, 0, fake_callback)
from agent.alphabeta import Searcher
from src.core.Event import Event, Death, Switch
from agent.MCTS import *


net = CatNet()


net.to('cuda')


mcts = MCTS(net,'../../agent/ids.json')
coach = Trainer(mcts, '.')


coach.train(20, 20, sims = 20)



