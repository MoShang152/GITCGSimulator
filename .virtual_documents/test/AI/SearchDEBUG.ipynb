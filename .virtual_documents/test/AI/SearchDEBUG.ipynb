import sys
sys.path.append('../..')
from src.core.GameInstance import apply_react, reaction, GameInstance
from src.core.GameState import Location, Aura, GameState, Box
from src.game import activate, Game
b1 = Box(['Diluc','Kaeya','Sucrose'],[])
b2 = Box(['Diluc','Kaeya','Sucrose'],[])
state = GameState(b1,b2)
g = Game()
g.initiate(state)


from agent.alphabeta import Searcher
from src.core.Event import Event, Death, Switch


def input_callback(g, event, *args):
    print("yes i am here")
    if isinstance(event, Death) and g.history['phase'] == 'deathswitch':
        active = g.getactive(event.player_id)
        direct = int(input('your switch(1 for next, -1 for previous):'))
        return Switch(g.nexteid(), event.eid, event.player_id, active, direct)
    else:
        return Event(-1,-1,-1)


player = int(input('your player_id is:'))
#player = 1
Master = Searcher(3 - player)
Rival = Searcher(player)
def callback(g, event, *args):
    if event.player_id == player:
        return input_callback(g,event,*args)
        #return Rival.callback(g,event, *args)
    else:
        return Master.callback(g,event,*args)
while not g.terminated():
    #player = 1
    print("mover = ", g.mover)
    if g.mover != player:
        m, s, d = Master.search(5, g)
        #m, s, d = Rival.search(5, g)
        #m = g.getIns(1, 'switch next')
        print("move = ", m)
        g.proceed(m,False, callback)
        nodes = Master.nodes
        print("depth = {}, total nodes = {}, score = {}".format(d,nodes,s))
    elif g.mover == player:
        m = input("your move:")
        m = g.getIns(player, m)
        #m, s, d = Rival.search(5, g)
        g.proceed(m,False, callback)
        #print("move = ",m)
        #nodes = Rival.nodes
        #print("depth = {}, total nodes = {}, score = {}".format(d,nodes,s))
    else:
        print("mover = ", g.mover)
        break
    #print("player {} makes a move {}".format(player, m))
    print("hp distribution: ")
    print("p1 = ",[c.hp for c in g.g.p1.char],'\t\t','p2 = ', [c.hp for c in g.g.p2.char] )
    print("p1 active = ",g.g.p1.history['active'], ' p2 active = ', g.g.p2.history['active'])
    print("p1 end = ",g.g.p1.history['endround'], 'p2 end = ',g.g.p2.history['endround'])
    print("p1 aura = ", g.g.p1.getAura(), ' p2 aura = ', g.g.p2.getAura())
    print()



