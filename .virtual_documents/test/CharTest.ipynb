import sys
sys.path.append('..')
from src.core.GameInstance import apply_react, reaction, GameInstance
from src.core.GameState import Location, Aura, GameState, Box
from src.game import activate, Game
b1 = Box(['Fischl','Sucrose','Kaeya'],[])
b2 = Box(['Diluc','Kaeya','Sucrose'],[])
state = GameState(b1,b2)
g = Game()
g.initiate(state)


#g.choose_active(1, 2)


from src.core.Instruction import UseKit
from src.core.base import DiceInstance, DicePattern
from src.core.Event import Event
cb = lambda x: Event(-1,-1,-1)
g.proceed(UseKit(1,DicePattern(omni=3),DicePattern(omni=3),DiceInstance(omni=3),'skill'), False, cb)


g.g.p1.summon[0].usage = 1


g.proceed(UseKit(2,DicePattern(omni=3),DicePattern(omni=3),DiceInstance(omni=3),'skill'), False, cb)
g.proceed(UseKit(1,DicePattern(omni=3),DicePattern(omni=3),DiceInstance(omni=3),'skill'), False, cb)


g.g.p1.summon


import pickle
ng = pickle.loads(pickle.dumps(g))


ng.g.p1.buff[0].__dict__



